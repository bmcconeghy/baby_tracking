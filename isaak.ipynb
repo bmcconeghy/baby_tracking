{
 "cells": [
  {
   "cell_type": "code",
   "execution_count": 313,
   "id": "c7cd55ca-56d3-44a9-9ce7-0e38a2978f2a",
   "metadata": {},
   "outputs": [],
   "source": [
    "import numpy as np\n",
    "import pandas as pd\n",
    "import plotly.express as px\n",
    "import plotly.figure_factory as ff\n",
    "from datetime import datetime\n",
    "from dateutil.relativedelta import relativedelta"
   ]
  },
  {
   "cell_type": "markdown",
   "id": "fa9fb9dd-e03e-45f9-9913-49dc1e036993",
   "metadata": {},
   "source": [
    "# Isaak Tracking Data Deep Dive!"
   ]
  },
  {
   "cell_type": "markdown",
   "id": "69bd0c28-8beb-4b1e-8012-eb84974f7987",
   "metadata": {},
   "source": [
    "We'll be exploring many aspects of Isaak's first few months in the following EDA! Join us on a journey of diapers, sleep, breastfeeding, and growth!"
   ]
  },
  {
   "cell_type": "code",
   "execution_count": 314,
   "id": "8058fd37-764f-4cd2-9812-76a72e89fd24",
   "metadata": {},
   "outputs": [],
   "source": [
    "ISAAK_BIRTHDATE = datetime.fromisoformat(\"2024-01-30\")\n",
    "BRIAN_BACK_TO_WORK_DATE = datetime.fromisoformat(\"2024-05-06\")"
   ]
  },
  {
   "cell_type": "code",
   "execution_count": 315,
   "id": "19f354a4-ae63-44bb-a32a-c8d57786e05a",
   "metadata": {},
   "outputs": [],
   "source": [
    "df = pd.read_csv(\"isaak_huckleberry_2024-06-08.csv\")"
   ]
  },
  {
   "cell_type": "code",
   "execution_count": 316,
   "id": "61e118bc-5235-42d7-90df-540b628772c2",
   "metadata": {},
   "outputs": [
    {
     "data": {
      "text/html": [
       "<div>\n",
       "<style scoped>\n",
       "    .dataframe tbody tr th:only-of-type {\n",
       "        vertical-align: middle;\n",
       "    }\n",
       "\n",
       "    .dataframe tbody tr th {\n",
       "        vertical-align: top;\n",
       "    }\n",
       "\n",
       "    .dataframe thead th {\n",
       "        text-align: right;\n",
       "    }\n",
       "</style>\n",
       "<table border=\"1\" class=\"dataframe\">\n",
       "  <thead>\n",
       "    <tr style=\"text-align: right;\">\n",
       "      <th></th>\n",
       "      <th>Type</th>\n",
       "      <th>Start</th>\n",
       "      <th>End</th>\n",
       "      <th>Duration</th>\n",
       "      <th>Start Condition</th>\n",
       "      <th>Start Location</th>\n",
       "      <th>End Condition</th>\n",
       "      <th>Notes</th>\n",
       "    </tr>\n",
       "  </thead>\n",
       "  <tbody>\n",
       "    <tr>\n",
       "      <th>0</th>\n",
       "      <td>Diaper</td>\n",
       "      <td>2024-06-08 17:48</td>\n",
       "      <td>NaN</td>\n",
       "      <td>NaN</td>\n",
       "      <td>NaN</td>\n",
       "      <td>NaN</td>\n",
       "      <td>Poo:medium</td>\n",
       "      <td>NaN</td>\n",
       "    </tr>\n",
       "    <tr>\n",
       "      <th>1</th>\n",
       "      <td>Diaper</td>\n",
       "      <td>2024-06-08 16:49</td>\n",
       "      <td>NaN</td>\n",
       "      <td>NaN</td>\n",
       "      <td>NaN</td>\n",
       "      <td>NaN</td>\n",
       "      <td>Pee:medium</td>\n",
       "      <td>NaN</td>\n",
       "    </tr>\n",
       "    <tr>\n",
       "      <th>2</th>\n",
       "      <td>Sleep</td>\n",
       "      <td>2024-06-08 16:11</td>\n",
       "      <td>2024-06-08 16:43</td>\n",
       "      <td>00:32</td>\n",
       "      <td>NaN</td>\n",
       "      <td>NaN</td>\n",
       "      <td>NaN</td>\n",
       "      <td>NaN</td>\n",
       "    </tr>\n",
       "    <tr>\n",
       "      <th>3</th>\n",
       "      <td>Sleep</td>\n",
       "      <td>2024-06-08 13:21</td>\n",
       "      <td>2024-06-08 13:53</td>\n",
       "      <td>00:32</td>\n",
       "      <td>NaN</td>\n",
       "      <td>NaN</td>\n",
       "      <td>NaN</td>\n",
       "      <td>NaN</td>\n",
       "    </tr>\n",
       "    <tr>\n",
       "      <th>4</th>\n",
       "      <td>Sleep</td>\n",
       "      <td>2024-06-08 10:22</td>\n",
       "      <td>2024-06-08 11:02</td>\n",
       "      <td>00:40</td>\n",
       "      <td>NaN</td>\n",
       "      <td>NaN</td>\n",
       "      <td>NaN</td>\n",
       "      <td>NaN</td>\n",
       "    </tr>\n",
       "    <tr>\n",
       "      <th>...</th>\n",
       "      <td>...</td>\n",
       "      <td>...</td>\n",
       "      <td>...</td>\n",
       "      <td>...</td>\n",
       "      <td>...</td>\n",
       "      <td>...</td>\n",
       "      <td>...</td>\n",
       "      <td>...</td>\n",
       "    </tr>\n",
       "    <tr>\n",
       "      <th>3433</th>\n",
       "      <td>Feed</td>\n",
       "      <td>2024-01-31 11:35</td>\n",
       "      <td>2024-01-31 11:45</td>\n",
       "      <td>00:10</td>\n",
       "      <td>00:05R</td>\n",
       "      <td>Breast</td>\n",
       "      <td>00:05L</td>\n",
       "      <td>NaN</td>\n",
       "    </tr>\n",
       "    <tr>\n",
       "      <th>3434</th>\n",
       "      <td>Feed</td>\n",
       "      <td>2024-01-31 07:50</td>\n",
       "      <td>2024-01-31 08:00</td>\n",
       "      <td>00:10</td>\n",
       "      <td>00:10R</td>\n",
       "      <td>Breast</td>\n",
       "      <td>Null l</td>\n",
       "      <td>NaN</td>\n",
       "    </tr>\n",
       "    <tr>\n",
       "      <th>3435</th>\n",
       "      <td>Feed</td>\n",
       "      <td>2024-01-31 07:35</td>\n",
       "      <td>2024-01-31 07:55</td>\n",
       "      <td>00:20</td>\n",
       "      <td>Null r</td>\n",
       "      <td>Breast</td>\n",
       "      <td>00:20L</td>\n",
       "      <td>NaN</td>\n",
       "    </tr>\n",
       "    <tr>\n",
       "      <th>3436</th>\n",
       "      <td>Feed</td>\n",
       "      <td>2024-01-31 03:50</td>\n",
       "      <td>2024-01-31 04:00</td>\n",
       "      <td>00:10</td>\n",
       "      <td>Null r</td>\n",
       "      <td>Breast</td>\n",
       "      <td>00:10L</td>\n",
       "      <td>NaN</td>\n",
       "    </tr>\n",
       "    <tr>\n",
       "      <th>3437</th>\n",
       "      <td>Growth</td>\n",
       "      <td>2024-01-30 23:24</td>\n",
       "      <td>NaN</td>\n",
       "      <td>NaN</td>\n",
       "      <td>3.28kg</td>\n",
       "      <td>55cm</td>\n",
       "      <td>32cm</td>\n",
       "      <td>NaN</td>\n",
       "    </tr>\n",
       "  </tbody>\n",
       "</table>\n",
       "<p>3438 rows × 8 columns</p>\n",
       "</div>"
      ],
      "text/plain": [
       "        Type             Start               End Duration Start Condition  \\\n",
       "0     Diaper  2024-06-08 17:48               NaN      NaN             NaN   \n",
       "1     Diaper  2024-06-08 16:49               NaN      NaN             NaN   \n",
       "2      Sleep  2024-06-08 16:11  2024-06-08 16:43    00:32             NaN   \n",
       "3      Sleep  2024-06-08 13:21  2024-06-08 13:53    00:32             NaN   \n",
       "4      Sleep  2024-06-08 10:22  2024-06-08 11:02    00:40             NaN   \n",
       "...      ...               ...               ...      ...             ...   \n",
       "3433    Feed  2024-01-31 11:35  2024-01-31 11:45    00:10          00:05R   \n",
       "3434    Feed  2024-01-31 07:50  2024-01-31 08:00    00:10          00:10R   \n",
       "3435    Feed  2024-01-31 07:35  2024-01-31 07:55    00:20          Null r   \n",
       "3436    Feed  2024-01-31 03:50  2024-01-31 04:00    00:10          Null r   \n",
       "3437  Growth  2024-01-30 23:24               NaN      NaN          3.28kg   \n",
       "\n",
       "     Start Location End Condition Notes  \n",
       "0               NaN    Poo:medium   NaN  \n",
       "1               NaN    Pee:medium   NaN  \n",
       "2               NaN           NaN   NaN  \n",
       "3               NaN           NaN   NaN  \n",
       "4               NaN           NaN   NaN  \n",
       "...             ...           ...   ...  \n",
       "3433         Breast        00:05L   NaN  \n",
       "3434         Breast        Null l   NaN  \n",
       "3435         Breast        00:20L   NaN  \n",
       "3436         Breast        00:10L   NaN  \n",
       "3437           55cm          32cm   NaN  \n",
       "\n",
       "[3438 rows x 8 columns]"
      ]
     },
     "execution_count": 316,
     "metadata": {},
     "output_type": "execute_result"
    }
   ],
   "source": [
    "# First look at data table\n",
    "df"
   ]
  },
  {
   "cell_type": "markdown",
   "id": "da772ca7-25c6-4efd-b06b-39ce5789328c",
   "metadata": {},
   "source": [
    "We've been measuring _many_ data points on Isaak..."
   ]
  },
  {
   "cell_type": "code",
   "execution_count": 317,
   "id": "3f62df08-f395-47b1-ac52-490dd37260e1",
   "metadata": {},
   "outputs": [
    {
     "name": "stdout",
     "output_type": "stream",
     "text": [
      "In total, we've recorded: 3,438 bits of data since Isaak's birth!\n"
     ]
    }
   ],
   "source": [
    "print(f\"In total, we've recorded: {len(df):,} bits of data since Isaak's birth!\")"
   ]
  },
  {
   "cell_type": "markdown",
   "id": "a58b83c3-e2e8-44b5-86d5-442cf97cf4a5",
   "metadata": {},
   "source": [
    "Seems like a full time job, lol!"
   ]
  },
  {
   "cell_type": "code",
   "execution_count": 318,
   "id": "1a1c2356-7f0d-4786-9ca6-ab4e25561148",
   "metadata": {},
   "outputs": [
    {
     "data": {
      "text/html": [
       "<div>\n",
       "<style scoped>\n",
       "    .dataframe tbody tr th:only-of-type {\n",
       "        vertical-align: middle;\n",
       "    }\n",
       "\n",
       "    .dataframe tbody tr th {\n",
       "        vertical-align: top;\n",
       "    }\n",
       "\n",
       "    .dataframe thead th {\n",
       "        text-align: right;\n",
       "    }\n",
       "</style>\n",
       "<table border=\"1\" class=\"dataframe\">\n",
       "  <thead>\n",
       "    <tr style=\"text-align: right;\">\n",
       "      <th></th>\n",
       "      <th>Start</th>\n",
       "      <th>End</th>\n",
       "      <th>Duration</th>\n",
       "      <th>Start Condition</th>\n",
       "      <th>Start Location</th>\n",
       "      <th>End Condition</th>\n",
       "      <th>Notes</th>\n",
       "    </tr>\n",
       "    <tr>\n",
       "      <th>Type</th>\n",
       "      <th></th>\n",
       "      <th></th>\n",
       "      <th></th>\n",
       "      <th></th>\n",
       "      <th></th>\n",
       "      <th></th>\n",
       "      <th></th>\n",
       "    </tr>\n",
       "  </thead>\n",
       "  <tbody>\n",
       "    <tr>\n",
       "      <th>Bath</th>\n",
       "      <td>4</td>\n",
       "      <td>1</td>\n",
       "      <td>1</td>\n",
       "      <td>0</td>\n",
       "      <td>0</td>\n",
       "      <td>0</td>\n",
       "      <td>0</td>\n",
       "    </tr>\n",
       "    <tr>\n",
       "      <th>Diaper</th>\n",
       "      <td>1137</td>\n",
       "      <td>0</td>\n",
       "      <td>195</td>\n",
       "      <td>188</td>\n",
       "      <td>0</td>\n",
       "      <td>1137</td>\n",
       "      <td>4</td>\n",
       "    </tr>\n",
       "    <tr>\n",
       "      <th>Feed</th>\n",
       "      <td>1314</td>\n",
       "      <td>994</td>\n",
       "      <td>994</td>\n",
       "      <td>1314</td>\n",
       "      <td>1314</td>\n",
       "      <td>1314</td>\n",
       "      <td>1</td>\n",
       "    </tr>\n",
       "    <tr>\n",
       "      <th>Growth</th>\n",
       "      <td>26</td>\n",
       "      <td>0</td>\n",
       "      <td>0</td>\n",
       "      <td>26</td>\n",
       "      <td>14</td>\n",
       "      <td>13</td>\n",
       "      <td>0</td>\n",
       "    </tr>\n",
       "    <tr>\n",
       "      <th>Indoor play</th>\n",
       "      <td>34</td>\n",
       "      <td>30</td>\n",
       "      <td>30</td>\n",
       "      <td>0</td>\n",
       "      <td>0</td>\n",
       "      <td>0</td>\n",
       "      <td>1</td>\n",
       "    </tr>\n",
       "    <tr>\n",
       "      <th>Pump</th>\n",
       "      <td>281</td>\n",
       "      <td>226</td>\n",
       "      <td>226</td>\n",
       "      <td>281</td>\n",
       "      <td>0</td>\n",
       "      <td>0</td>\n",
       "      <td>1</td>\n",
       "    </tr>\n",
       "    <tr>\n",
       "      <th>Sleep</th>\n",
       "      <td>630</td>\n",
       "      <td>630</td>\n",
       "      <td>630</td>\n",
       "      <td>1</td>\n",
       "      <td>2</td>\n",
       "      <td>2</td>\n",
       "      <td>0</td>\n",
       "    </tr>\n",
       "    <tr>\n",
       "      <th>Story time</th>\n",
       "      <td>1</td>\n",
       "      <td>1</td>\n",
       "      <td>1</td>\n",
       "      <td>0</td>\n",
       "      <td>0</td>\n",
       "      <td>0</td>\n",
       "      <td>0</td>\n",
       "    </tr>\n",
       "    <tr>\n",
       "      <th>Tummy time</th>\n",
       "      <td>11</td>\n",
       "      <td>9</td>\n",
       "      <td>9</td>\n",
       "      <td>0</td>\n",
       "      <td>0</td>\n",
       "      <td>0</td>\n",
       "      <td>0</td>\n",
       "    </tr>\n",
       "  </tbody>\n",
       "</table>\n",
       "</div>"
      ],
      "text/plain": [
       "             Start  End  Duration  Start Condition  Start Location  \\\n",
       "Type                                                                 \n",
       "Bath             4    1         1                0               0   \n",
       "Diaper        1137    0       195              188               0   \n",
       "Feed          1314  994       994             1314            1314   \n",
       "Growth          26    0         0               26              14   \n",
       "Indoor play     34   30        30                0               0   \n",
       "Pump           281  226       226              281               0   \n",
       "Sleep          630  630       630                1               2   \n",
       "Story time       1    1         1                0               0   \n",
       "Tummy time      11    9         9                0               0   \n",
       "\n",
       "             End Condition  Notes  \n",
       "Type                               \n",
       "Bath                     0      0  \n",
       "Diaper                1137      4  \n",
       "Feed                  1314      1  \n",
       "Growth                  13      0  \n",
       "Indoor play              0      1  \n",
       "Pump                     0      1  \n",
       "Sleep                    2      0  \n",
       "Story time               0      0  \n",
       "Tummy time               0      0  "
      ]
     },
     "execution_count": 318,
     "metadata": {},
     "output_type": "execute_result"
    }
   ],
   "source": [
    "# Look at rough counts on categories\n",
    "df.groupby(\"Type\").count()"
   ]
  },
  {
   "cell_type": "code",
   "execution_count": 319,
   "id": "b7215d17-7133-44ad-b508-6c1e45e84909",
   "metadata": {},
   "outputs": [],
   "source": [
    "# Convert to datetime format\n",
    "df[[\"Start\", \"End\"]] = df[[\"Start\", \"End\"]].apply(pd.to_datetime)"
   ]
  },
  {
   "cell_type": "code",
   "execution_count": 320,
   "id": "045913cd-703e-4c1e-8b5d-28e13a6e0df4",
   "metadata": {},
   "outputs": [],
   "source": [
    "df[\"Date\"] = df[\"Start\"].apply(lambda x: x.date())"
   ]
  },
  {
   "cell_type": "markdown",
   "id": "46896010-ff03-4465-a723-c3c1e5b15375",
   "metadata": {},
   "source": [
    "## Diaper Deep Dive"
   ]
  },
  {
   "cell_type": "markdown",
   "id": "0bd29437-f948-48ed-92b2-b13c74b38e19",
   "metadata": {},
   "source": [
    "How many diapers have we changed in TOTAL?"
   ]
  },
  {
   "cell_type": "code",
   "execution_count": 321,
   "id": "4175795d-9300-439f-905c-1e5784e41017",
   "metadata": {},
   "outputs": [],
   "source": [
    "diapers_by_date = (\n",
    "    df.query(\"Type == 'Diaper'\").groupby(\"Date\")[\"Type\"].count().reset_index()\n",
    ")\n",
    "diapers_by_date.rename(columns={\"Type\": \"Diapers\"}, inplace=True)"
   ]
  },
  {
   "cell_type": "code",
   "execution_count": 322,
   "id": "78182260-6934-4d8b-9ee9-1948e0778a52",
   "metadata": {},
   "outputs": [
    {
     "name": "stdout",
     "output_type": "stream",
     "text": [
      "Total diapers changed to-date: 1137\n"
     ]
    }
   ],
   "source": [
    "print(f\"Total diapers changed to-date: {diapers_by_date[\"Diapers\"].sum()}\")"
   ]
  },
  {
   "cell_type": "markdown",
   "id": "c4f91085-c261-43e2-9833-403f3b467bb2",
   "metadata": {},
   "source": [
    "That's _a lot_ of diapers!!! Now, what was the most diapers we changed in a single day?"
   ]
  },
  {
   "cell_type": "code",
   "execution_count": 323,
   "id": "f87c8e57-2ff0-4547-be75-831aa4f3f23a",
   "metadata": {},
   "outputs": [
    {
     "name": "stdout",
     "output_type": "stream",
     "text": [
      "Busiest diaper change day(s):\n",
      "\n",
      "       Date  Diapers\n",
      "2024-02-11       17\n",
      "2024-02-15       17\n"
     ]
    }
   ],
   "source": [
    "print(\n",
    "    f\"Busiest diaper change day(s):\\n\\n {diapers_by_date.loc[diapers_by_date[\"Diapers\"] == diapers_by_date[\"Diapers\"].max()].to_string(index=False)}\"\n",
    ")"
   ]
  },
  {
   "cell_type": "markdown",
   "id": "6060b572-adf5-40b9-be58-fb5dfb7f1b58",
   "metadata": {},
   "source": [
    "Yep, the early days were busy!"
   ]
  },
  {
   "cell_type": "code",
   "execution_count": 324,
   "id": "b480d49d-47d8-4c81-847f-acc869278737",
   "metadata": {},
   "outputs": [
    {
     "data": {
      "application/vnd.plotly.v1+json": {
       "config": {
        "plotlyServerURL": "https://plot.ly"
       },
       "data": [
        {
         "alignmentgroup": "True",
         "hovertemplate": "Date=%{x}<br>Diapers=%{y}<extra></extra>",
         "legendgroup": "",
         "marker": {
          "color": "#636efa",
          "pattern": {
           "shape": ""
          }
         },
         "name": "",
         "offsetgroup": "",
         "orientation": "v",
         "showlegend": false,
         "textposition": "auto",
         "type": "bar",
         "x": [
          "2024-02-03",
          "2024-02-04",
          "2024-02-05",
          "2024-02-06",
          "2024-02-07",
          "2024-02-08",
          "2024-02-09",
          "2024-02-10",
          "2024-02-11",
          "2024-02-12",
          "2024-02-13",
          "2024-02-14",
          "2024-02-15",
          "2024-02-16",
          "2024-02-17",
          "2024-02-18",
          "2024-02-19",
          "2024-02-20",
          "2024-02-21",
          "2024-02-22",
          "2024-02-23",
          "2024-02-24",
          "2024-02-25",
          "2024-02-26",
          "2024-02-27",
          "2024-02-28",
          "2024-02-29",
          "2024-03-01",
          "2024-03-02",
          "2024-03-03",
          "2024-03-04",
          "2024-03-05",
          "2024-03-06",
          "2024-03-07",
          "2024-03-08",
          "2024-03-09",
          "2024-03-10",
          "2024-03-11",
          "2024-03-12",
          "2024-03-13",
          "2024-03-14",
          "2024-03-15",
          "2024-03-16",
          "2024-03-17",
          "2024-03-18",
          "2024-03-19",
          "2024-03-20",
          "2024-03-21",
          "2024-03-22",
          "2024-03-23",
          "2024-03-24",
          "2024-03-25",
          "2024-03-26",
          "2024-03-27",
          "2024-03-28",
          "2024-03-29",
          "2024-03-30",
          "2024-03-31",
          "2024-04-01",
          "2024-04-02",
          "2024-04-03",
          "2024-04-04",
          "2024-04-05",
          "2024-04-06",
          "2024-04-07",
          "2024-04-08",
          "2024-04-09",
          "2024-04-10",
          "2024-04-11",
          "2024-04-12",
          "2024-04-13",
          "2024-04-14",
          "2024-04-15",
          "2024-04-16",
          "2024-04-17",
          "2024-04-18",
          "2024-04-19",
          "2024-04-20",
          "2024-04-21",
          "2024-04-22",
          "2024-04-23",
          "2024-04-24",
          "2024-04-25",
          "2024-04-26",
          "2024-04-27",
          "2024-04-28",
          "2024-04-29",
          "2024-04-30",
          "2024-05-01",
          "2024-05-02",
          "2024-05-03",
          "2024-05-04",
          "2024-05-05",
          "2024-05-06",
          "2024-05-07",
          "2024-05-08",
          "2024-05-09",
          "2024-05-10",
          "2024-05-11",
          "2024-05-12",
          "2024-05-13",
          "2024-05-14",
          "2024-05-15",
          "2024-05-16",
          "2024-05-17",
          "2024-05-18",
          "2024-05-19",
          "2024-05-20",
          "2024-05-22",
          "2024-05-23",
          "2024-05-24",
          "2024-05-25",
          "2024-05-26",
          "2024-05-27",
          "2024-05-28",
          "2024-05-29",
          "2024-05-30",
          "2024-05-31",
          "2024-06-01",
          "2024-06-02",
          "2024-06-03",
          "2024-06-04",
          "2024-06-05",
          "2024-06-06",
          "2024-06-07",
          "2024-06-08"
         ],
         "xaxis": "x",
         "y": [
          11,
          9,
          12,
          16,
          14,
          14,
          16,
          14,
          17,
          13,
          14,
          10,
          17,
          8,
          15,
          8,
          11,
          11,
          12,
          13,
          10,
          13,
          11,
          10,
          12,
          9,
          10,
          8,
          10,
          10,
          11,
          11,
          10,
          12,
          12,
          10,
          8,
          10,
          6,
          11,
          10,
          9,
          11,
          12,
          10,
          10,
          11,
          10,
          8,
          12,
          12,
          9,
          9,
          8,
          13,
          8,
          10,
          11,
          10,
          8,
          8,
          10,
          8,
          8,
          8,
          10,
          11,
          11,
          13,
          10,
          11,
          10,
          10,
          8,
          9,
          10,
          8,
          10,
          9,
          8,
          9,
          8,
          9,
          7,
          7,
          6,
          7,
          8,
          8,
          6,
          7,
          11,
          8,
          8,
          7,
          6,
          6,
          7,
          7,
          5,
          8,
          4,
          4,
          3,
          2,
          4,
          4,
          1,
          1,
          8,
          6,
          7,
          6,
          7,
          9,
          5,
          4,
          6,
          6,
          9,
          5,
          5,
          7,
          8,
          7,
          4
         ],
         "yaxis": "y"
        }
       ],
       "layout": {
        "annotations": [
         {
          "font": {
           "family": "Arial"
          },
          "showarrow": false,
          "text": "<b>Brian went back to work</b>",
          "x": "2024-05-06T00:00:00",
          "xshift": 75,
          "y": 12
         },
         {
          "font": {
           "family": "Arial"
          },
          "showarrow": false,
          "text": "Isaak is 1 months old",
          "x": "2024-02-29T00:00:00",
          "xshift": -65,
          "y": 14
         },
         {
          "font": {
           "family": "Arial"
          },
          "showarrow": false,
          "text": "Isaak is 2 months old",
          "x": "2024-03-30T00:00:00",
          "xshift": -65,
          "y": 14
         },
         {
          "font": {
           "family": "Arial"
          },
          "showarrow": false,
          "text": "Isaak is 3 months old",
          "x": "2024-04-30T00:00:00",
          "xshift": -65,
          "y": 14
         },
         {
          "font": {
           "family": "Arial"
          },
          "showarrow": false,
          "text": "Isaak is 4 months old",
          "x": "2024-05-30T00:00:00",
          "xshift": -65,
          "y": 14
         }
        ],
        "autosize": true,
        "barmode": "relative",
        "legend": {
         "tracegroupgap": 0
        },
        "margin": {
         "t": 60
        },
        "shapes": [
         {
          "line": {
           "color": "green",
           "dash": "dash"
          },
          "type": "line",
          "x0": "2024-05-06T00:00:00",
          "x1": "2024-05-06T00:00:00",
          "xref": "x",
          "y0": 0,
          "y1": 1,
          "yref": "y domain"
         },
         {
          "line": {
           "color": "green",
           "dash": "dash"
          },
          "type": "line",
          "x0": "2024-02-29T00:00:00",
          "x1": "2024-02-29T00:00:00",
          "xref": "x",
          "y0": 0,
          "y1": 1,
          "yref": "y domain"
         },
         {
          "line": {
           "color": "green",
           "dash": "dash"
          },
          "type": "line",
          "x0": "2024-03-30T00:00:00",
          "x1": "2024-03-30T00:00:00",
          "xref": "x",
          "y0": 0,
          "y1": 1,
          "yref": "y domain"
         },
         {
          "line": {
           "color": "green",
           "dash": "dash"
          },
          "type": "line",
          "x0": "2024-04-30T00:00:00",
          "x1": "2024-04-30T00:00:00",
          "xref": "x",
          "y0": 0,
          "y1": 1,
          "yref": "y domain"
         },
         {
          "line": {
           "color": "green",
           "dash": "dash"
          },
          "type": "line",
          "x0": "2024-05-30T00:00:00",
          "x1": "2024-05-30T00:00:00",
          "xref": "x",
          "y0": 0,
          "y1": 1,
          "yref": "y domain"
         }
        ],
        "template": {
         "data": {
          "bar": [
           {
            "error_x": {
             "color": "#2a3f5f"
            },
            "error_y": {
             "color": "#2a3f5f"
            },
            "marker": {
             "line": {
              "color": "#E5ECF6",
              "width": 0.5
             },
             "pattern": {
              "fillmode": "overlay",
              "size": 10,
              "solidity": 0.2
             }
            },
            "type": "bar"
           }
          ],
          "barpolar": [
           {
            "marker": {
             "line": {
              "color": "#E5ECF6",
              "width": 0.5
             },
             "pattern": {
              "fillmode": "overlay",
              "size": 10,
              "solidity": 0.2
             }
            },
            "type": "barpolar"
           }
          ],
          "carpet": [
           {
            "aaxis": {
             "endlinecolor": "#2a3f5f",
             "gridcolor": "white",
             "linecolor": "white",
             "minorgridcolor": "white",
             "startlinecolor": "#2a3f5f"
            },
            "baxis": {
             "endlinecolor": "#2a3f5f",
             "gridcolor": "white",
             "linecolor": "white",
             "minorgridcolor": "white",
             "startlinecolor": "#2a3f5f"
            },
            "type": "carpet"
           }
          ],
          "choropleth": [
           {
            "colorbar": {
             "outlinewidth": 0,
             "ticks": ""
            },
            "type": "choropleth"
           }
          ],
          "contour": [
           {
            "colorbar": {
             "outlinewidth": 0,
             "ticks": ""
            },
            "colorscale": [
             [
              0,
              "#0d0887"
             ],
             [
              0.1111111111111111,
              "#46039f"
             ],
             [
              0.2222222222222222,
              "#7201a8"
             ],
             [
              0.3333333333333333,
              "#9c179e"
             ],
             [
              0.4444444444444444,
              "#bd3786"
             ],
             [
              0.5555555555555556,
              "#d8576b"
             ],
             [
              0.6666666666666666,
              "#ed7953"
             ],
             [
              0.7777777777777778,
              "#fb9f3a"
             ],
             [
              0.8888888888888888,
              "#fdca26"
             ],
             [
              1,
              "#f0f921"
             ]
            ],
            "type": "contour"
           }
          ],
          "contourcarpet": [
           {
            "colorbar": {
             "outlinewidth": 0,
             "ticks": ""
            },
            "type": "contourcarpet"
           }
          ],
          "heatmap": [
           {
            "colorbar": {
             "outlinewidth": 0,
             "ticks": ""
            },
            "colorscale": [
             [
              0,
              "#0d0887"
             ],
             [
              0.1111111111111111,
              "#46039f"
             ],
             [
              0.2222222222222222,
              "#7201a8"
             ],
             [
              0.3333333333333333,
              "#9c179e"
             ],
             [
              0.4444444444444444,
              "#bd3786"
             ],
             [
              0.5555555555555556,
              "#d8576b"
             ],
             [
              0.6666666666666666,
              "#ed7953"
             ],
             [
              0.7777777777777778,
              "#fb9f3a"
             ],
             [
              0.8888888888888888,
              "#fdca26"
             ],
             [
              1,
              "#f0f921"
             ]
            ],
            "type": "heatmap"
           }
          ],
          "heatmapgl": [
           {
            "colorbar": {
             "outlinewidth": 0,
             "ticks": ""
            },
            "colorscale": [
             [
              0,
              "#0d0887"
             ],
             [
              0.1111111111111111,
              "#46039f"
             ],
             [
              0.2222222222222222,
              "#7201a8"
             ],
             [
              0.3333333333333333,
              "#9c179e"
             ],
             [
              0.4444444444444444,
              "#bd3786"
             ],
             [
              0.5555555555555556,
              "#d8576b"
             ],
             [
              0.6666666666666666,
              "#ed7953"
             ],
             [
              0.7777777777777778,
              "#fb9f3a"
             ],
             [
              0.8888888888888888,
              "#fdca26"
             ],
             [
              1,
              "#f0f921"
             ]
            ],
            "type": "heatmapgl"
           }
          ],
          "histogram": [
           {
            "marker": {
             "pattern": {
              "fillmode": "overlay",
              "size": 10,
              "solidity": 0.2
             }
            },
            "type": "histogram"
           }
          ],
          "histogram2d": [
           {
            "colorbar": {
             "outlinewidth": 0,
             "ticks": ""
            },
            "colorscale": [
             [
              0,
              "#0d0887"
             ],
             [
              0.1111111111111111,
              "#46039f"
             ],
             [
              0.2222222222222222,
              "#7201a8"
             ],
             [
              0.3333333333333333,
              "#9c179e"
             ],
             [
              0.4444444444444444,
              "#bd3786"
             ],
             [
              0.5555555555555556,
              "#d8576b"
             ],
             [
              0.6666666666666666,
              "#ed7953"
             ],
             [
              0.7777777777777778,
              "#fb9f3a"
             ],
             [
              0.8888888888888888,
              "#fdca26"
             ],
             [
              1,
              "#f0f921"
             ]
            ],
            "type": "histogram2d"
           }
          ],
          "histogram2dcontour": [
           {
            "colorbar": {
             "outlinewidth": 0,
             "ticks": ""
            },
            "colorscale": [
             [
              0,
              "#0d0887"
             ],
             [
              0.1111111111111111,
              "#46039f"
             ],
             [
              0.2222222222222222,
              "#7201a8"
             ],
             [
              0.3333333333333333,
              "#9c179e"
             ],
             [
              0.4444444444444444,
              "#bd3786"
             ],
             [
              0.5555555555555556,
              "#d8576b"
             ],
             [
              0.6666666666666666,
              "#ed7953"
             ],
             [
              0.7777777777777778,
              "#fb9f3a"
             ],
             [
              0.8888888888888888,
              "#fdca26"
             ],
             [
              1,
              "#f0f921"
             ]
            ],
            "type": "histogram2dcontour"
           }
          ],
          "mesh3d": [
           {
            "colorbar": {
             "outlinewidth": 0,
             "ticks": ""
            },
            "type": "mesh3d"
           }
          ],
          "parcoords": [
           {
            "line": {
             "colorbar": {
              "outlinewidth": 0,
              "ticks": ""
             }
            },
            "type": "parcoords"
           }
          ],
          "pie": [
           {
            "automargin": true,
            "type": "pie"
           }
          ],
          "scatter": [
           {
            "fillpattern": {
             "fillmode": "overlay",
             "size": 10,
             "solidity": 0.2
            },
            "type": "scatter"
           }
          ],
          "scatter3d": [
           {
            "line": {
             "colorbar": {
              "outlinewidth": 0,
              "ticks": ""
             }
            },
            "marker": {
             "colorbar": {
              "outlinewidth": 0,
              "ticks": ""
             }
            },
            "type": "scatter3d"
           }
          ],
          "scattercarpet": [
           {
            "marker": {
             "colorbar": {
              "outlinewidth": 0,
              "ticks": ""
             }
            },
            "type": "scattercarpet"
           }
          ],
          "scattergeo": [
           {
            "marker": {
             "colorbar": {
              "outlinewidth": 0,
              "ticks": ""
             }
            },
            "type": "scattergeo"
           }
          ],
          "scattergl": [
           {
            "marker": {
             "colorbar": {
              "outlinewidth": 0,
              "ticks": ""
             }
            },
            "type": "scattergl"
           }
          ],
          "scattermapbox": [
           {
            "marker": {
             "colorbar": {
              "outlinewidth": 0,
              "ticks": ""
             }
            },
            "type": "scattermapbox"
           }
          ],
          "scatterpolar": [
           {
            "marker": {
             "colorbar": {
              "outlinewidth": 0,
              "ticks": ""
             }
            },
            "type": "scatterpolar"
           }
          ],
          "scatterpolargl": [
           {
            "marker": {
             "colorbar": {
              "outlinewidth": 0,
              "ticks": ""
             }
            },
            "type": "scatterpolargl"
           }
          ],
          "scatterternary": [
           {
            "marker": {
             "colorbar": {
              "outlinewidth": 0,
              "ticks": ""
             }
            },
            "type": "scatterternary"
           }
          ],
          "surface": [
           {
            "colorbar": {
             "outlinewidth": 0,
             "ticks": ""
            },
            "colorscale": [
             [
              0,
              "#0d0887"
             ],
             [
              0.1111111111111111,
              "#46039f"
             ],
             [
              0.2222222222222222,
              "#7201a8"
             ],
             [
              0.3333333333333333,
              "#9c179e"
             ],
             [
              0.4444444444444444,
              "#bd3786"
             ],
             [
              0.5555555555555556,
              "#d8576b"
             ],
             [
              0.6666666666666666,
              "#ed7953"
             ],
             [
              0.7777777777777778,
              "#fb9f3a"
             ],
             [
              0.8888888888888888,
              "#fdca26"
             ],
             [
              1,
              "#f0f921"
             ]
            ],
            "type": "surface"
           }
          ],
          "table": [
           {
            "cells": {
             "fill": {
              "color": "#EBF0F8"
             },
             "line": {
              "color": "white"
             }
            },
            "header": {
             "fill": {
              "color": "#C8D4E3"
             },
             "line": {
              "color": "white"
             }
            },
            "type": "table"
           }
          ]
         },
         "layout": {
          "annotationdefaults": {
           "arrowcolor": "#2a3f5f",
           "arrowhead": 0,
           "arrowwidth": 1
          },
          "autotypenumbers": "strict",
          "coloraxis": {
           "colorbar": {
            "outlinewidth": 0,
            "ticks": ""
           }
          },
          "colorscale": {
           "diverging": [
            [
             0,
             "#8e0152"
            ],
            [
             0.1,
             "#c51b7d"
            ],
            [
             0.2,
             "#de77ae"
            ],
            [
             0.3,
             "#f1b6da"
            ],
            [
             0.4,
             "#fde0ef"
            ],
            [
             0.5,
             "#f7f7f7"
            ],
            [
             0.6,
             "#e6f5d0"
            ],
            [
             0.7,
             "#b8e186"
            ],
            [
             0.8,
             "#7fbc41"
            ],
            [
             0.9,
             "#4d9221"
            ],
            [
             1,
             "#276419"
            ]
           ],
           "sequential": [
            [
             0,
             "#0d0887"
            ],
            [
             0.1111111111111111,
             "#46039f"
            ],
            [
             0.2222222222222222,
             "#7201a8"
            ],
            [
             0.3333333333333333,
             "#9c179e"
            ],
            [
             0.4444444444444444,
             "#bd3786"
            ],
            [
             0.5555555555555556,
             "#d8576b"
            ],
            [
             0.6666666666666666,
             "#ed7953"
            ],
            [
             0.7777777777777778,
             "#fb9f3a"
            ],
            [
             0.8888888888888888,
             "#fdca26"
            ],
            [
             1,
             "#f0f921"
            ]
           ],
           "sequentialminus": [
            [
             0,
             "#0d0887"
            ],
            [
             0.1111111111111111,
             "#46039f"
            ],
            [
             0.2222222222222222,
             "#7201a8"
            ],
            [
             0.3333333333333333,
             "#9c179e"
            ],
            [
             0.4444444444444444,
             "#bd3786"
            ],
            [
             0.5555555555555556,
             "#d8576b"
            ],
            [
             0.6666666666666666,
             "#ed7953"
            ],
            [
             0.7777777777777778,
             "#fb9f3a"
            ],
            [
             0.8888888888888888,
             "#fdca26"
            ],
            [
             1,
             "#f0f921"
            ]
           ]
          },
          "colorway": [
           "#636efa",
           "#EF553B",
           "#00cc96",
           "#ab63fa",
           "#FFA15A",
           "#19d3f3",
           "#FF6692",
           "#B6E880",
           "#FF97FF",
           "#FECB52"
          ],
          "font": {
           "color": "#2a3f5f"
          },
          "geo": {
           "bgcolor": "white",
           "lakecolor": "white",
           "landcolor": "#E5ECF6",
           "showlakes": true,
           "showland": true,
           "subunitcolor": "white"
          },
          "hoverlabel": {
           "align": "left"
          },
          "hovermode": "closest",
          "mapbox": {
           "style": "light"
          },
          "paper_bgcolor": "white",
          "plot_bgcolor": "#E5ECF6",
          "polar": {
           "angularaxis": {
            "gridcolor": "white",
            "linecolor": "white",
            "ticks": ""
           },
           "bgcolor": "#E5ECF6",
           "radialaxis": {
            "gridcolor": "white",
            "linecolor": "white",
            "ticks": ""
           }
          },
          "scene": {
           "xaxis": {
            "backgroundcolor": "#E5ECF6",
            "gridcolor": "white",
            "gridwidth": 2,
            "linecolor": "white",
            "showbackground": true,
            "ticks": "",
            "zerolinecolor": "white"
           },
           "yaxis": {
            "backgroundcolor": "#E5ECF6",
            "gridcolor": "white",
            "gridwidth": 2,
            "linecolor": "white",
            "showbackground": true,
            "ticks": "",
            "zerolinecolor": "white"
           },
           "zaxis": {
            "backgroundcolor": "#E5ECF6",
            "gridcolor": "white",
            "gridwidth": 2,
            "linecolor": "white",
            "showbackground": true,
            "ticks": "",
            "zerolinecolor": "white"
           }
          },
          "shapedefaults": {
           "line": {
            "color": "#2a3f5f"
           }
          },
          "ternary": {
           "aaxis": {
            "gridcolor": "white",
            "linecolor": "white",
            "ticks": ""
           },
           "baxis": {
            "gridcolor": "white",
            "linecolor": "white",
            "ticks": ""
           },
           "bgcolor": "#E5ECF6",
           "caxis": {
            "gridcolor": "white",
            "linecolor": "white",
            "ticks": ""
           }
          },
          "title": {
           "x": 0.05
          },
          "xaxis": {
           "automargin": true,
           "gridcolor": "white",
           "linecolor": "white",
           "ticks": "",
           "title": {
            "standoff": 15
           },
           "zerolinecolor": "white",
           "zerolinewidth": 2
          },
          "yaxis": {
           "automargin": true,
           "gridcolor": "white",
           "linecolor": "white",
           "ticks": "",
           "title": {
            "standoff": 15
           },
           "zerolinecolor": "white",
           "zerolinewidth": 2
          }
         }
        },
        "title": {
         "text": "Isaak's Diapers over time",
         "x": 0.5
        },
        "xaxis": {
         "anchor": "y",
         "autorange": true,
         "domain": [
          0,
          1
         ],
         "range": [
          "2024-02-02 12:00",
          "2024-06-08 12:00"
         ],
         "title": {
          "text": "Date"
         },
         "type": "date"
        },
        "yaxis": {
         "anchor": "x",
         "autorange": true,
         "domain": [
          0,
          1
         ],
         "range": [
          0,
          17.894736842105264
         ],
         "title": {
          "text": "Diapers"
         },
         "type": "linear"
        }
       }
      },
      "image/png": "[encoded data removed]",
      "text/html": [
       "<div>                            <div id=\"649aa357-d3c0-4e12-9ef4-f6312ffc7db5\" class=\"plotly-graph-div\" style=\"height:525px; width:100%;\"></div>            <script type=\"text/javascript\">                require([\"plotly\"], function(Plotly) {                    window.PLOTLYENV=window.PLOTLYENV || {};                                    if (document.getElementById(\"649aa357-d3c0-4e12-9ef4-f6312ffc7db5\")) {                    Plotly.newPlot(                        \"649aa357-d3c0-4e12-9ef4-f6312ffc7db5\",                        [{\"alignmentgroup\":\"True\",\"hovertemplate\":\"Date=%{x}\\u003cbr\\u003eDiapers=%{y}\\u003cextra\\u003e\\u003c\\u002fextra\\u003e\",\"legendgroup\":\"\",\"marker\":{\"color\":\"#636efa\",\"pattern\":{\"shape\":\"\"}},\"name\":\"\",\"offsetgroup\":\"\",\"orientation\":\"v\",\"showlegend\":false,\"textposition\":\"auto\",\"x\":[\"2024-02-03\",\"2024-02-04\",\"2024-02-05\",\"2024-02-06\",\"2024-02-07\",\"2024-02-08\",\"2024-02-09\",\"2024-02-10\",\"2024-02-11\",\"2024-02-12\",\"2024-02-13\",\"2024-02-14\",\"2024-02-15\",\"2024-02-16\",\"2024-02-17\",\"2024-02-18\",\"2024-02-19\",\"2024-02-20\",\"2024-02-21\",\"2024-02-22\",\"2024-02-23\",\"2024-02-24\",\"2024-02-25\",\"2024-02-26\",\"2024-02-27\",\"2024-02-28\",\"2024-02-29\",\"2024-03-01\",\"2024-03-02\",\"2024-03-03\",\"2024-03-04\",\"2024-03-05\",\"2024-03-06\",\"2024-03-07\",\"2024-03-08\",\"2024-03-09\",\"2024-03-10\",\"2024-03-11\",\"2024-03-12\",\"2024-03-13\",\"2024-03-14\",\"2024-03-15\",\"2024-03-16\",\"2024-03-17\",\"2024-03-18\",\"2024-03-19\",\"2024-03-20\",\"2024-03-21\",\"2024-03-22\",\"2024-03-23\",\"2024-03-24\",\"2024-03-25\",\"2024-03-26\",\"2024-03-27\",\"2024-03-28\",\"2024-03-29\",\"2024-03-30\",\"2024-03-31\",\"2024-04-01\",\"2024-04-02\",\"2024-04-03\",\"2024-04-04\",\"2024-04-05\",\"2024-04-06\",\"2024-04-07\",\"2024-04-08\",\"2024-04-09\",\"2024-04-10\",\"2024-04-11\",\"2024-04-12\",\"2024-04-13\",\"2024-04-14\",\"2024-04-15\",\"2024-04-16\",\"2024-04-17\",\"2024-04-18\",\"2024-04-19\",\"2024-04-20\",\"2024-04-21\",\"2024-04-22\",\"2024-04-23\",\"2024-04-24\",\"2024-04-25\",\"2024-04-26\",\"2024-04-27\",\"2024-04-28\",\"2024-04-29\",\"2024-04-30\",\"2024-05-01\",\"2024-05-02\",\"2024-05-03\",\"2024-05-04\",\"2024-05-05\",\"2024-05-06\",\"2024-05-07\",\"2024-05-08\",\"2024-05-09\",\"2024-05-10\",\"2024-05-11\",\"2024-05-12\",\"2024-05-13\",\"2024-05-14\",\"2024-05-15\",\"2024-05-16\",\"2024-05-17\",\"2024-05-18\",\"2024-05-19\",\"2024-05-20\",\"2024-05-22\",\"2024-05-23\",\"2024-05-24\",\"2024-05-25\",\"2024-05-26\",\"2024-05-27\",\"2024-05-28\",\"2024-05-29\",\"2024-05-30\",\"2024-05-31\",\"2024-06-01\",\"2024-06-02\",\"2024-06-03\",\"2024-06-04\",\"2024-06-05\",\"2024-06-06\",\"2024-06-07\",\"2024-06-08\"],\"xaxis\":\"x\",\"y\":[11,9,12,16,14,14,16,14,17,13,14,10,17,8,15,8,11,11,12,13,10,13,11,10,12,9,10,8,10,10,11,11,10,12,12,10,8,10,6,11,10,9,11,12,10,10,11,10,8,12,12,9,9,8,13,8,10,11,10,8,8,10,8,8,8,10,11,11,13,10,11,10,10,8,9,10,8,10,9,8,9,8,9,7,7,6,7,8,8,6,7,11,8,8,7,6,6,7,7,5,8,4,4,3,2,4,4,1,1,8,6,7,6,7,9,5,4,6,6,9,5,5,7,8,7,4],\"yaxis\":\"y\",\"type\":\"bar\"}],                        {\"template\":{\"data\":{\"histogram2dcontour\":[{\"type\":\"histogram2dcontour\",\"colorbar\":{\"outlinewidth\":0,\"ticks\":\"\"},\"colorscale\":[[0.0,\"#0d0887\"],[0.1111111111111111,\"#46039f\"],[0.2222222222222222,\"#7201a8\"],[0.3333333333333333,\"#9c179e\"],[0.4444444444444444,\"#bd3786\"],[0.5555555555555556,\"#d8576b\"],[0.6666666666666666,\"#ed7953\"],[0.7777777777777778,\"#fb9f3a\"],[0.8888888888888888,\"#fdca26\"],[1.0,\"#f0f921\"]]}],\"choropleth\":[{\"type\":\"choropleth\",\"colorbar\":{\"outlinewidth\":0,\"ticks\":\"\"}}],\"histogram2d\":[{\"type\":\"histogram2d\",\"colorbar\":{\"outlinewidth\":0,\"ticks\":\"\"},\"colorscale\":[[0.0,\"#0d0887\"],[0.1111111111111111,\"#46039f\"],[0.2222222222222222,\"#7201a8\"],[0.3333333333333333,\"#9c179e\"],[0.4444444444444444,\"#bd3786\"],[0.5555555555555556,\"#d8576b\"],[0.6666666666666666,\"#ed7953\"],[0.7777777777777778,\"#fb9f3a\"],[0.8888888888888888,\"#fdca26\"],[1.0,\"#f0f921\"]]}],\"heatmap\":[{\"type\":\"heatmap\",\"colorbar\":{\"outlinewidth\":0,\"ticks\":\"\"},\"colorscale\":[[0.0,\"#0d0887\"],[0.1111111111111111,\"#46039f\"],[0.2222222222222222,\"#7201a8\"],[0.3333333333333333,\"#9c179e\"],[0.4444444444444444,\"#bd3786\"],[0.5555555555555556,\"#d8576b\"],[0.6666666666666666,\"#ed7953\"],[0.7777777777777778,\"#fb9f3a\"],[0.8888888888888888,\"#fdca26\"],[1.0,\"#f0f921\"]]}],\"heatmapgl\":[{\"type\":\"heatmapgl\",\"colorbar\":{\"outlinewidth\":0,\"ticks\":\"\"},\"colorscale\":[[0.0,\"#0d0887\"],[0.1111111111111111,\"#46039f\"],[0.2222222222222222,\"#7201a8\"],[0.3333333333333333,\"#9c179e\"],[0.4444444444444444,\"#bd3786\"],[0.5555555555555556,\"#d8576b\"],[0.6666666666666666,\"#ed7953\"],[0.7777777777777778,\"#fb9f3a\"],[0.8888888888888888,\"#fdca26\"],[1.0,\"#f0f921\"]]}],\"contourcarpet\":[{\"type\":\"contourcarpet\",\"colorbar\":{\"outlinewidth\":0,\"ticks\":\"\"}}],\"contour\":[{\"type\":\"contour\",\"colorbar\":{\"outlinewidth\":0,\"ticks\":\"\"},\"colorscale\":[[0.0,\"#0d0887\"],[0.1111111111111111,\"#46039f\"],[0.2222222222222222,\"#7201a8\"],[0.3333333333333333,\"#9c179e\"],[0.4444444444444444,\"#bd3786\"],[0.5555555555555556,\"#d8576b\"],[0.6666666666666666,\"#ed7953\"],[0.7777777777777778,\"#fb9f3a\"],[0.8888888888888888,\"#fdca26\"],[1.0,\"#f0f921\"]]}],\"surface\":[{\"type\":\"surface\",\"colorbar\":{\"outlinewidth\":0,\"ticks\":\"\"},\"colorscale\":[[0.0,\"#0d0887\"],[0.1111111111111111,\"#46039f\"],[0.2222222222222222,\"#7201a8\"],[0.3333333333333333,\"#9c179e\"],[0.4444444444444444,\"#bd3786\"],[0.5555555555555556,\"#d8576b\"],[0.6666666666666666,\"#ed7953\"],[0.7777777777777778,\"#fb9f3a\"],[0.8888888888888888,\"#fdca26\"],[1.0,\"#f0f921\"]]}],\"mesh3d\":[{\"type\":\"mesh3d\",\"colorbar\":{\"outlinewidth\":0,\"ticks\":\"\"}}],\"scatter\":[{\"fillpattern\":{\"fillmode\":\"overlay\",\"size\":10,\"solidity\":0.2},\"type\":\"scatter\"}],\"parcoords\":[{\"type\":\"parcoords\",\"line\":{\"colorbar\":{\"outlinewidth\":0,\"ticks\":\"\"}}}],\"scatterpolargl\":[{\"type\":\"scatterpolargl\",\"marker\":{\"colorbar\":{\"outlinewidth\":0,\"ticks\":\"\"}}}],\"bar\":[{\"error_x\":{\"color\":\"#2a3f5f\"},\"error_y\":{\"color\":\"#2a3f5f\"},\"marker\":{\"line\":{\"color\":\"#E5ECF6\",\"width\":0.5},\"pattern\":{\"fillmode\":\"overlay\",\"size\":10,\"solidity\":0.2}},\"type\":\"bar\"}],\"scattergeo\":[{\"type\":\"scattergeo\",\"marker\":{\"colorbar\":{\"outlinewidth\":0,\"ticks\":\"\"}}}],\"scatterpolar\":[{\"type\":\"scatterpolar\",\"marker\":{\"colorbar\":{\"outlinewidth\":0,\"ticks\":\"\"}}}],\"histogram\":[{\"marker\":{\"pattern\":{\"fillmode\":\"overlay\",\"size\":10,\"solidity\":0.2}},\"type\":\"histogram\"}],\"scattergl\":[{\"type\":\"scattergl\",\"marker\":{\"colorbar\":{\"outlinewidth\":0,\"ticks\":\"\"}}}],\"scatter3d\":[{\"type\":\"scatter3d\",\"line\":{\"colorbar\":{\"outlinewidth\":0,\"ticks\":\"\"}},\"marker\":{\"colorbar\":{\"outlinewidth\":0,\"ticks\":\"\"}}}],\"scattermapbox\":[{\"type\":\"scattermapbox\",\"marker\":{\"colorbar\":{\"outlinewidth\":0,\"ticks\":\"\"}}}],\"scatterternary\":[{\"type\":\"scatterternary\",\"marker\":{\"colorbar\":{\"outlinewidth\":0,\"ticks\":\"\"}}}],\"scattercarpet\":[{\"type\":\"scattercarpet\",\"marker\":{\"colorbar\":{\"outlinewidth\":0,\"ticks\":\"\"}}}],\"carpet\":[{\"aaxis\":{\"endlinecolor\":\"#2a3f5f\",\"gridcolor\":\"white\",\"linecolor\":\"white\",\"minorgridcolor\":\"white\",\"startlinecolor\":\"#2a3f5f\"},\"baxis\":{\"endlinecolor\":\"#2a3f5f\",\"gridcolor\":\"white\",\"linecolor\":\"white\",\"minorgridcolor\":\"white\",\"startlinecolor\":\"#2a3f5f\"},\"type\":\"carpet\"}],\"table\":[{\"cells\":{\"fill\":{\"color\":\"#EBF0F8\"},\"line\":{\"color\":\"white\"}},\"header\":{\"fill\":{\"color\":\"#C8D4E3\"},\"line\":{\"color\":\"white\"}},\"type\":\"table\"}],\"barpolar\":[{\"marker\":{\"line\":{\"color\":\"#E5ECF6\",\"width\":0.5},\"pattern\":{\"fillmode\":\"overlay\",\"size\":10,\"solidity\":0.2}},\"type\":\"barpolar\"}],\"pie\":[{\"automargin\":true,\"type\":\"pie\"}]},\"layout\":{\"autotypenumbers\":\"strict\",\"colorway\":[\"#636efa\",\"#EF553B\",\"#00cc96\",\"#ab63fa\",\"#FFA15A\",\"#19d3f3\",\"#FF6692\",\"#B6E880\",\"#FF97FF\",\"#FECB52\"],\"font\":{\"color\":\"#2a3f5f\"},\"hovermode\":\"closest\",\"hoverlabel\":{\"align\":\"left\"},\"paper_bgcolor\":\"white\",\"plot_bgcolor\":\"#E5ECF6\",\"polar\":{\"bgcolor\":\"#E5ECF6\",\"angularaxis\":{\"gridcolor\":\"white\",\"linecolor\":\"white\",\"ticks\":\"\"},\"radialaxis\":{\"gridcolor\":\"white\",\"linecolor\":\"white\",\"ticks\":\"\"}},\"ternary\":{\"bgcolor\":\"#E5ECF6\",\"aaxis\":{\"gridcolor\":\"white\",\"linecolor\":\"white\",\"ticks\":\"\"},\"baxis\":{\"gridcolor\":\"white\",\"linecolor\":\"white\",\"ticks\":\"\"},\"caxis\":{\"gridcolor\":\"white\",\"linecolor\":\"white\",\"ticks\":\"\"}},\"coloraxis\":{\"colorbar\":{\"outlinewidth\":0,\"ticks\":\"\"}},\"colorscale\":{\"sequential\":[[0.0,\"#0d0887\"],[0.1111111111111111,\"#46039f\"],[0.2222222222222222,\"#7201a8\"],[0.3333333333333333,\"#9c179e\"],[0.4444444444444444,\"#bd3786\"],[0.5555555555555556,\"#d8576b\"],[0.6666666666666666,\"#ed7953\"],[0.7777777777777778,\"#fb9f3a\"],[0.8888888888888888,\"#fdca26\"],[1.0,\"#f0f921\"]],\"sequentialminus\":[[0.0,\"#0d0887\"],[0.1111111111111111,\"#46039f\"],[0.2222222222222222,\"#7201a8\"],[0.3333333333333333,\"#9c179e\"],[0.4444444444444444,\"#bd3786\"],[0.5555555555555556,\"#d8576b\"],[0.6666666666666666,\"#ed7953\"],[0.7777777777777778,\"#fb9f3a\"],[0.8888888888888888,\"#fdca26\"],[1.0,\"#f0f921\"]],\"diverging\":[[0,\"#8e0152\"],[0.1,\"#c51b7d\"],[0.2,\"#de77ae\"],[0.3,\"#f1b6da\"],[0.4,\"#fde0ef\"],[0.5,\"#f7f7f7\"],[0.6,\"#e6f5d0\"],[0.7,\"#b8e186\"],[0.8,\"#7fbc41\"],[0.9,\"#4d9221\"],[1,\"#276419\"]]},\"xaxis\":{\"gridcolor\":\"white\",\"linecolor\":\"white\",\"ticks\":\"\",\"title\":{\"standoff\":15},\"zerolinecolor\":\"white\",\"automargin\":true,\"zerolinewidth\":2},\"yaxis\":{\"gridcolor\":\"white\",\"linecolor\":\"white\",\"ticks\":\"\",\"title\":{\"standoff\":15},\"zerolinecolor\":\"white\",\"automargin\":true,\"zerolinewidth\":2},\"scene\":{\"xaxis\":{\"backgroundcolor\":\"#E5ECF6\",\"gridcolor\":\"white\",\"linecolor\":\"white\",\"showbackground\":true,\"ticks\":\"\",\"zerolinecolor\":\"white\",\"gridwidth\":2},\"yaxis\":{\"backgroundcolor\":\"#E5ECF6\",\"gridcolor\":\"white\",\"linecolor\":\"white\",\"showbackground\":true,\"ticks\":\"\",\"zerolinecolor\":\"white\",\"gridwidth\":2},\"zaxis\":{\"backgroundcolor\":\"#E5ECF6\",\"gridcolor\":\"white\",\"linecolor\":\"white\",\"showbackground\":true,\"ticks\":\"\",\"zerolinecolor\":\"white\",\"gridwidth\":2}},\"shapedefaults\":{\"line\":{\"color\":\"#2a3f5f\"}},\"annotationdefaults\":{\"arrowcolor\":\"#2a3f5f\",\"arrowhead\":0,\"arrowwidth\":1},\"geo\":{\"bgcolor\":\"white\",\"landcolor\":\"#E5ECF6\",\"subunitcolor\":\"white\",\"showland\":true,\"showlakes\":true,\"lakecolor\":\"white\"},\"title\":{\"x\":0.05},\"mapbox\":{\"style\":\"light\"}}},\"xaxis\":{\"anchor\":\"y\",\"domain\":[0.0,1.0],\"title\":{\"text\":\"Date\"}},\"yaxis\":{\"anchor\":\"x\",\"domain\":[0.0,1.0],\"title\":{\"text\":\"Diapers\"}},\"legend\":{\"tracegroupgap\":0},\"margin\":{\"t\":60},\"barmode\":\"relative\",\"title\":{\"text\":\"Isaak's Diapers over time\",\"x\":0.5},\"shapes\":[{\"line\":{\"color\":\"green\",\"dash\":\"dash\"},\"type\":\"line\",\"x0\":\"2024-05-06T00:00:00\",\"x1\":\"2024-05-06T00:00:00\",\"xref\":\"x\",\"y0\":0,\"y1\":1,\"yref\":\"y domain\"},{\"line\":{\"color\":\"green\",\"dash\":\"dash\"},\"type\":\"line\",\"x0\":\"2024-02-29T00:00:00\",\"x1\":\"2024-02-29T00:00:00\",\"xref\":\"x\",\"y0\":0,\"y1\":1,\"yref\":\"y domain\"},{\"line\":{\"color\":\"green\",\"dash\":\"dash\"},\"type\":\"line\",\"x0\":\"2024-03-30T00:00:00\",\"x1\":\"2024-03-30T00:00:00\",\"xref\":\"x\",\"y0\":0,\"y1\":1,\"yref\":\"y domain\"},{\"line\":{\"color\":\"green\",\"dash\":\"dash\"},\"type\":\"line\",\"x0\":\"2024-04-30T00:00:00\",\"x1\":\"2024-04-30T00:00:00\",\"xref\":\"x\",\"y0\":0,\"y1\":1,\"yref\":\"y domain\"},{\"line\":{\"color\":\"green\",\"dash\":\"dash\"},\"type\":\"line\",\"x0\":\"2024-05-30T00:00:00\",\"x1\":\"2024-05-30T00:00:00\",\"xref\":\"x\",\"y0\":0,\"y1\":1,\"yref\":\"y domain\"}],\"annotations\":[{\"font\":{\"family\":\"Arial\"},\"showarrow\":false,\"text\":\"\\u003cb\\u003eBrian went back to work\\u003c\\u002fb\\u003e\",\"x\":\"2024-05-06T00:00:00\",\"xshift\":75,\"y\":12},{\"font\":{\"family\":\"Arial\"},\"showarrow\":false,\"text\":\"Isaak is 1 months old\",\"x\":\"2024-02-29T00:00:00\",\"xshift\":-65,\"y\":14},{\"font\":{\"family\":\"Arial\"},\"showarrow\":false,\"text\":\"Isaak is 2 months old\",\"x\":\"2024-03-30T00:00:00\",\"xshift\":-65,\"y\":14},{\"font\":{\"family\":\"Arial\"},\"showarrow\":false,\"text\":\"Isaak is 3 months old\",\"x\":\"2024-04-30T00:00:00\",\"xshift\":-65,\"y\":14},{\"font\":{\"family\":\"Arial\"},\"showarrow\":false,\"text\":\"Isaak is 4 months old\",\"x\":\"2024-05-30T00:00:00\",\"xshift\":-65,\"y\":14}]},                        {\"responsive\": true}                    ).then(function(){\n",
       "                            \n",
       "var gd = document.getElementById('649aa357-d3c0-4e12-9ef4-f6312ffc7db5');\n",
       "var x = new MutationObserver(function (mutations, observer) {{\n",
       "        var display = window.getComputedStyle(gd).display;\n",
       "        if (!display || display === 'none') {{\n",
       "            console.log([gd, 'removed!']);\n",
       "            Plotly.purge(gd);\n",
       "            observer.disconnect();\n",
       "        }}\n",
       "}});\n",
       "\n",
       "// Listen for the removal of the full notebook cells\n",
       "var notebookContainer = gd.closest('#notebook-container');\n",
       "if (notebookContainer) {{\n",
       "    x.observe(notebookContainer, {childList: true});\n",
       "}}\n",
       "\n",
       "// Listen for the clearing of the current output cell\n",
       "var outputEl = gd.closest('.output');\n",
       "if (outputEl) {{\n",
       "    x.observe(outputEl, {childList: true});\n",
       "}}\n",
       "\n",
       "                        })                };                });            </script>        </div>"
      ]
     },
     "metadata": {},
     "output_type": "display_data"
    }
   ],
   "source": [
    "fig = px.bar(diapers_by_date, x=\"Date\", y=\"Diapers\")\n",
    "fig.update_layout(title_text=\"Isaak's Diapers over time\", title_x=0.5)\n",
    "fig.add_vline(x=BRIAN_BACK_TO_WORK_DATE, line_dash=\"dash\", line_color=\"green\")\n",
    "fig.add_annotation(\n",
    "    x=BRIAN_BACK_TO_WORK_DATE,\n",
    "    text=\"<b>Brian went back to work</b>\",\n",
    "    xshift=75,\n",
    "    y=12,\n",
    "    font={\"family\": \"Arial\"},\n",
    "    showarrow=False,\n",
    ")\n",
    "\n",
    "for month in [1, 2, 3, 4]:\n",
    "    months_old = ISAAK_BIRTHDATE + relativedelta(months=month)\n",
    "    fig.add_vline(x=months_old, line_dash=\"dash\", line_color=\"green\")\n",
    "    fig.add_annotation(\n",
    "        x=months_old,\n",
    "        text=f\"Isaak is {month} months old\",\n",
    "        xshift=-65,\n",
    "        y=14,\n",
    "        font={\n",
    "            \"family\": \"Arial\",\n",
    "        },\n",
    "        showarrow=False,\n",
    "    )\n",
    "fig.show()\n",
    "fig.write_html(\"isaak_diapers_over_time.html\")"
   ]
  },
  {
   "cell_type": "code",
   "execution_count": 325,
   "id": "a4f1f5fc-df29-49df-9245-8a3b24e7bed2",
   "metadata": {},
   "outputs": [],
   "source": [
    "df = pd.merge(\n",
    "    df,\n",
    "    df[\"End Condition\"]\n",
    "    .str.extractall(r\"(?P<diaper_type>[a-zA-z]{3}):(?P<diaper_size>[a-z]+)\")\n",
    "    .apply(lambda x: x.str.lower())\n",
    "    .reset_index(\"match\"),\n",
    "    left_index=True,\n",
    "    right_index=True,\n",
    "    how=\"left\",\n",
    ")\n",
    "df.drop(\"match\", axis=1, inplace=True)"
   ]
  },
  {
   "cell_type": "code",
   "execution_count": 326,
   "id": "c6ee2c4c-522b-4221-a373-d99946387853",
   "metadata": {},
   "outputs": [],
   "source": [
    "diaper_type_by_date = (\n",
    "    df.groupby([\"Date\", \"diaper_type\", \"diaper_size\"])[\"Type\"].count().reset_index()\n",
    ")\n",
    "diaper_type_by_date.rename(columns={\"Type\": \"Diapers\"}, inplace=True)"
   ]
  },
  {
   "cell_type": "code",
   "execution_count": 328,
   "id": "cc2adcd2-9d4e-4c6f-b79a-93c61a083ebd",
   "metadata": {},
   "outputs": [
    {
     "data": {
      "application/vnd.plotly.v1+json": {
       "config": {
        "plotlyServerURL": "https://plot.ly"
       },
       "data": [
        {
         "alignmentgroup": "True",
         "hovertemplate": "Type=pee<br>Size=large<br>Date=%{x}<br>Diapers=%{y}<extra></extra>",
         "legendgroup": "pee",
         "marker": {
          "color": "goldenrod",
          "pattern": {
           "shape": ""
          }
         },
         "name": "pee",
         "offsetgroup": "pee",
         "orientation": "v",
         "showlegend": true,
         "textposition": "auto",
         "type": "bar",
         "x": [
          "2024-02-05",
          "2024-02-06",
          "2024-02-07",
          "2024-02-08",
          "2024-02-09",
          "2024-02-10",
          "2024-02-11",
          "2024-02-12",
          "2024-02-13",
          "2024-02-14",
          "2024-02-15",
          "2024-02-16",
          "2024-02-17",
          "2024-02-18",
          "2024-02-19",
          "2024-02-20",
          "2024-02-21",
          "2024-02-22",
          "2024-02-23",
          "2024-02-24",
          "2024-02-25",
          "2024-02-26",
          "2024-02-27",
          "2024-02-28",
          "2024-02-29",
          "2024-03-01",
          "2024-03-02",
          "2024-03-03",
          "2024-03-04",
          "2024-03-05",
          "2024-03-06",
          "2024-03-07",
          "2024-03-08",
          "2024-03-09",
          "2024-03-10",
          "2024-03-11",
          "2024-03-12",
          "2024-03-13",
          "2024-03-14",
          "2024-03-15",
          "2024-03-16",
          "2024-03-17",
          "2024-03-18",
          "2024-03-19",
          "2024-03-20",
          "2024-03-21",
          "2024-03-22",
          "2024-03-23",
          "2024-03-24",
          "2024-03-25",
          "2024-03-26",
          "2024-03-27",
          "2024-03-28",
          "2024-03-29",
          "2024-03-30",
          "2024-03-31",
          "2024-04-01",
          "2024-04-02",
          "2024-04-03",
          "2024-04-04",
          "2024-04-05",
          "2024-04-06",
          "2024-04-07",
          "2024-04-08",
          "2024-04-09",
          "2024-04-10",
          "2024-04-11",
          "2024-04-12",
          "2024-04-13",
          "2024-04-14",
          "2024-04-15",
          "2024-04-16",
          "2024-04-17",
          "2024-04-18",
          "2024-04-19",
          "2024-04-20",
          "2024-04-21",
          "2024-04-22",
          "2024-04-23",
          "2024-04-24",
          "2024-04-25",
          "2024-04-26",
          "2024-04-27",
          "2024-04-28",
          "2024-04-29",
          "2024-04-30",
          "2024-05-01",
          "2024-05-02",
          "2024-05-03",
          "2024-05-04",
          "2024-05-05",
          "2024-05-06",
          "2024-05-07",
          "2024-05-08",
          "2024-05-09",
          "2024-05-10",
          "2024-05-11",
          "2024-05-12",
          "2024-05-13",
          "2024-05-14",
          "2024-05-15",
          "2024-05-16",
          "2024-05-17",
          "2024-05-18",
          "2024-05-19",
          "2024-05-20",
          "2024-05-23",
          "2024-05-24",
          "2024-05-25",
          "2024-05-26",
          "2024-05-27",
          "2024-05-28",
          "2024-05-29",
          "2024-05-30",
          "2024-05-31",
          "2024-06-02",
          "2024-06-04",
          "2024-06-05",
          "2024-06-06",
          "2024-06-07",
          "2024-06-08"
         ],
         "xaxis": "x3",
         "y": [
          1,
          6,
          6,
          6,
          6,
          3,
          3,
          3,
          2,
          2,
          4,
          1,
          3,
          2,
          2,
          5,
          6,
          3,
          3,
          2,
          4,
          4,
          4,
          2,
          6,
          2,
          4,
          3,
          5,
          3,
          5,
          3,
          2,
          4,
          1,
          5,
          2,
          3,
          2,
          4,
          6,
          4,
          2,
          3,
          2,
          1,
          5,
          3,
          3,
          5,
          7,
          2,
          2,
          5,
          3,
          3,
          4,
          3,
          3,
          2,
          3,
          1,
          2,
          2,
          5,
          6,
          1,
          3,
          4,
          4,
          3,
          3,
          4,
          3,
          6,
          3,
          2,
          2,
          3,
          2,
          3,
          3,
          3,
          1,
          3,
          4,
          3,
          4,
          4,
          2,
          4,
          3,
          3,
          3,
          4,
          5,
          4,
          4,
          4,
          3,
          1,
          2,
          2,
          1,
          1,
          1,
          2,
          1,
          1,
          1,
          3,
          3,
          2,
          3,
          4,
          1,
          3,
          3,
          2,
          2,
          1
         ],
         "yaxis": "y3"
        },
        {
         "alignmentgroup": "True",
         "hovertemplate": "Type=pee<br>Size=medium<br>Date=%{x}<br>Diapers=%{y}<extra></extra>",
         "legendgroup": "pee",
         "marker": {
          "color": "goldenrod",
          "pattern": {
           "shape": ""
          }
         },
         "name": "pee",
         "offsetgroup": "pee",
         "orientation": "v",
         "showlegend": false,
         "textposition": "auto",
         "type": "bar",
         "x": [
          "2024-02-03",
          "2024-02-04",
          "2024-02-05",
          "2024-02-06",
          "2024-02-07",
          "2024-02-08",
          "2024-02-09",
          "2024-02-10",
          "2024-02-11",
          "2024-02-12",
          "2024-02-13",
          "2024-02-14",
          "2024-02-15",
          "2024-02-16",
          "2024-02-17",
          "2024-02-19",
          "2024-02-20",
          "2024-02-21",
          "2024-02-22",
          "2024-02-23",
          "2024-02-24",
          "2024-02-25",
          "2024-02-26",
          "2024-02-27",
          "2024-02-28",
          "2024-02-29",
          "2024-03-01",
          "2024-03-02",
          "2024-03-03",
          "2024-03-04",
          "2024-03-05",
          "2024-03-06",
          "2024-03-07",
          "2024-03-08",
          "2024-03-09",
          "2024-03-10",
          "2024-03-11",
          "2024-03-12",
          "2024-03-13",
          "2024-03-14",
          "2024-03-15",
          "2024-03-16",
          "2024-03-17",
          "2024-03-18",
          "2024-03-19",
          "2024-03-20",
          "2024-03-21",
          "2024-03-22",
          "2024-03-23",
          "2024-03-24",
          "2024-03-25",
          "2024-03-26",
          "2024-03-27",
          "2024-03-28",
          "2024-03-29",
          "2024-03-30",
          "2024-03-31",
          "2024-04-01",
          "2024-04-02",
          "2024-04-03",
          "2024-04-04",
          "2024-04-05",
          "2024-04-06",
          "2024-04-07",
          "2024-04-08",
          "2024-04-09",
          "2024-04-11",
          "2024-04-12",
          "2024-04-13",
          "2024-04-14",
          "2024-04-15",
          "2024-04-16",
          "2024-04-17",
          "2024-04-18",
          "2024-04-20",
          "2024-04-21",
          "2024-04-22",
          "2024-04-23",
          "2024-04-24",
          "2024-04-25",
          "2024-04-26",
          "2024-04-27",
          "2024-04-29",
          "2024-04-30",
          "2024-05-01",
          "2024-05-03",
          "2024-05-04",
          "2024-05-05",
          "2024-05-06",
          "2024-05-07",
          "2024-05-08",
          "2024-05-09",
          "2024-05-10",
          "2024-05-15",
          "2024-05-16",
          "2024-05-18",
          "2024-05-19",
          "2024-05-23",
          "2024-05-24",
          "2024-05-25",
          "2024-05-26",
          "2024-05-27",
          "2024-05-28",
          "2024-05-29",
          "2024-05-30",
          "2024-05-31",
          "2024-06-01",
          "2024-06-02",
          "2024-06-03",
          "2024-06-04",
          "2024-06-05",
          "2024-06-06",
          "2024-06-07",
          "2024-06-08"
         ],
         "xaxis": "x2",
         "y": [
          5,
          1,
          4,
          6,
          6,
          6,
          5,
          7,
          7,
          6,
          6,
          1,
          6,
          2,
          8,
          3,
          3,
          3,
          4,
          6,
          7,
          5,
          4,
          3,
          3,
          3,
          4,
          4,
          4,
          3,
          3,
          5,
          6,
          5,
          3,
          3,
          2,
          2,
          4,
          2,
          1,
          1,
          4,
          5,
          3,
          6,
          4,
          1,
          4,
          4,
          1,
          1,
          3,
          6,
          2,
          4,
          3,
          4,
          3,
          4,
          6,
          2,
          5,
          3,
          3,
          1,
          4,
          4,
          6,
          1,
          1,
          1,
          1,
          3,
          2,
          4,
          2,
          3,
          2,
          2,
          1,
          2,
          3,
          2,
          3,
          2,
          2,
          3,
          1,
          2,
          1,
          1,
          1,
          1,
          1,
          1,
          2,
          4,
          3,
          3,
          1,
          1,
          2,
          2,
          1,
          1,
          4,
          6,
          5,
          1,
          2,
          4,
          4,
          1
         ],
         "yaxis": "y2"
        },
        {
         "alignmentgroup": "True",
         "hovertemplate": "Type=pee<br>Size=small<br>Date=%{x}<br>Diapers=%{y}<extra></extra>",
         "legendgroup": "pee",
         "marker": {
          "color": "goldenrod",
          "pattern": {
           "shape": ""
          }
         },
         "name": "pee",
         "offsetgroup": "pee",
         "orientation": "v",
         "showlegend": false,
         "textposition": "auto",
         "type": "bar",
         "x": [
          "2024-02-03",
          "2024-02-04",
          "2024-02-05",
          "2024-02-06",
          "2024-02-07",
          "2024-02-08",
          "2024-02-09",
          "2024-02-10",
          "2024-02-11",
          "2024-02-12",
          "2024-02-13",
          "2024-02-14",
          "2024-02-15",
          "2024-02-16",
          "2024-02-17",
          "2024-02-18",
          "2024-02-19",
          "2024-02-20",
          "2024-02-21",
          "2024-02-22",
          "2024-02-24",
          "2024-02-25",
          "2024-02-26",
          "2024-02-27",
          "2024-02-28",
          "2024-03-01",
          "2024-03-02",
          "2024-03-03",
          "2024-03-04",
          "2024-03-05",
          "2024-03-07",
          "2024-03-08",
          "2024-03-09",
          "2024-03-10",
          "2024-03-11",
          "2024-03-12",
          "2024-03-13",
          "2024-03-14",
          "2024-03-15",
          "2024-03-16",
          "2024-03-17",
          "2024-03-18",
          "2024-03-19",
          "2024-03-20",
          "2024-03-21",
          "2024-03-22",
          "2024-03-23",
          "2024-03-24",
          "2024-03-25",
          "2024-03-26",
          "2024-03-27",
          "2024-03-28",
          "2024-03-30",
          "2024-03-31",
          "2024-04-01",
          "2024-04-02",
          "2024-04-03",
          "2024-04-04",
          "2024-04-05",
          "2024-04-06",
          "2024-04-07",
          "2024-04-08",
          "2024-04-09",
          "2024-04-10",
          "2024-04-11",
          "2024-04-12",
          "2024-04-14",
          "2024-04-15",
          "2024-04-16",
          "2024-04-17",
          "2024-04-18",
          "2024-04-19",
          "2024-04-20",
          "2024-04-21",
          "2024-04-22",
          "2024-04-23",
          "2024-04-24",
          "2024-04-25",
          "2024-04-26",
          "2024-04-27",
          "2024-04-28",
          "2024-04-29",
          "2024-04-30",
          "2024-05-01",
          "2024-05-02",
          "2024-05-03",
          "2024-05-04",
          "2024-05-05",
          "2024-05-06",
          "2024-05-08",
          "2024-05-10",
          "2024-05-11",
          "2024-05-13",
          "2024-05-14",
          "2024-05-15",
          "2024-05-18",
          "2024-05-19",
          "2024-05-22",
          "2024-05-23",
          "2024-05-24",
          "2024-05-25",
          "2024-05-26",
          "2024-05-27",
          "2024-05-28",
          "2024-05-29",
          "2024-05-31",
          "2024-06-01",
          "2024-06-02",
          "2024-06-04",
          "2024-06-05",
          "2024-06-06",
          "2024-06-07",
          "2024-06-08"
         ],
         "xaxis": "x",
         "y": [
          1,
          7,
          7,
          4,
          2,
          1,
          1,
          3,
          4,
          2,
          3,
          6,
          3,
          2,
          3,
          5,
          3,
          3,
          1,
          6,
          4,
          1,
          1,
          2,
          2,
          2,
          2,
          3,
          1,
          3,
          3,
          4,
          3,
          4,
          2,
          1,
          3,
          4,
          2,
          2,
          2,
          3,
          2,
          1,
          5,
          1,
          5,
          1,
          2,
          1,
          2,
          3,
          1,
          4,
          1,
          1,
          1,
          1,
          2,
          1,
          2,
          4,
          3,
          2,
          5,
          3,
          2,
          2,
          3,
          2,
          2,
          2,
          4,
          2,
          4,
          3,
          2,
          2,
          3,
          2,
          4,
          1,
          2,
          2,
          1,
          1,
          6,
          1,
          2,
          1,
          1,
          2,
          2,
          1,
          1,
          1,
          1,
          1,
          2,
          1,
          2,
          4,
          2,
          4,
          1,
          1,
          2,
          2,
          1,
          1,
          1,
          1,
          1
         ],
         "yaxis": "y"
        },
        {
         "alignmentgroup": "True",
         "hovertemplate": "Type=poo<br>Size=large<br>Date=%{x}<br>Diapers=%{y}<extra></extra>",
         "legendgroup": "poo",
         "marker": {
          "color": "maroon",
          "pattern": {
           "shape": ""
          }
         },
         "name": "poo",
         "offsetgroup": "poo",
         "orientation": "v",
         "showlegend": true,
         "textposition": "auto",
         "type": "bar",
         "x": [
          "2024-02-05",
          "2024-02-06",
          "2024-02-07",
          "2024-02-08",
          "2024-02-09",
          "2024-02-10",
          "2024-02-11",
          "2024-02-12",
          "2024-02-13",
          "2024-02-15",
          "2024-02-16",
          "2024-02-17",
          "2024-02-18",
          "2024-02-19",
          "2024-02-20",
          "2024-02-21",
          "2024-02-22",
          "2024-02-23",
          "2024-02-24",
          "2024-02-25",
          "2024-02-26",
          "2024-02-27",
          "2024-02-28",
          "2024-02-29",
          "2024-03-01",
          "2024-03-02",
          "2024-03-03",
          "2024-03-04",
          "2024-03-05",
          "2024-03-06",
          "2024-03-07",
          "2024-03-08",
          "2024-03-09",
          "2024-03-10",
          "2024-03-11",
          "2024-03-12",
          "2024-03-13",
          "2024-03-14",
          "2024-03-15",
          "2024-03-16",
          "2024-03-17",
          "2024-03-18",
          "2024-03-19",
          "2024-03-20",
          "2024-03-21",
          "2024-03-22",
          "2024-03-23",
          "2024-03-24",
          "2024-03-25",
          "2024-03-26",
          "2024-03-27",
          "2024-03-28",
          "2024-03-29",
          "2024-03-30",
          "2024-03-31",
          "2024-04-01",
          "2024-04-02",
          "2024-04-03",
          "2024-04-04",
          "2024-04-05",
          "2024-04-06",
          "2024-04-07",
          "2024-04-08",
          "2024-04-09",
          "2024-04-10",
          "2024-04-11",
          "2024-04-12",
          "2024-04-13",
          "2024-04-14",
          "2024-04-15",
          "2024-04-16",
          "2024-04-17",
          "2024-04-18",
          "2024-04-19",
          "2024-04-20",
          "2024-04-21",
          "2024-04-22",
          "2024-04-23",
          "2024-04-24",
          "2024-04-25",
          "2024-04-26",
          "2024-04-27",
          "2024-04-28",
          "2024-04-29",
          "2024-04-30",
          "2024-05-01",
          "2024-05-02",
          "2024-05-03",
          "2024-05-04",
          "2024-05-05",
          "2024-05-06",
          "2024-05-07",
          "2024-05-08",
          "2024-05-09",
          "2024-05-10",
          "2024-05-11",
          "2024-05-12",
          "2024-05-13",
          "2024-05-14",
          "2024-05-15",
          "2024-05-16",
          "2024-05-17",
          "2024-05-18",
          "2024-05-20",
          "2024-05-22",
          "2024-05-23",
          "2024-05-24",
          "2024-05-25",
          "2024-05-26",
          "2024-05-27",
          "2024-05-29",
          "2024-05-30",
          "2024-05-31",
          "2024-06-03",
          "2024-06-04"
         ],
         "xaxis": "x3",
         "y": [
          1,
          1,
          1,
          2,
          1,
          2,
          1,
          3,
          1,
          2,
          1,
          3,
          2,
          2,
          3,
          1,
          1,
          1,
          4,
          1,
          1,
          1,
          1,
          3,
          2,
          3,
          2,
          2,
          2,
          1,
          5,
          2,
          2,
          1,
          2,
          2,
          3,
          2,
          2,
          3,
          4,
          2,
          1,
          1,
          2,
          1,
          2,
          2,
          5,
          1,
          2,
          4,
          2,
          2,
          2,
          2,
          3,
          1,
          3,
          2,
          1,
          3,
          2,
          2,
          3,
          2,
          1,
          4,
          1,
          1,
          1,
          2,
          3,
          1,
          2,
          1,
          2,
          2,
          2,
          1,
          1,
          2,
          1,
          2,
          3,
          2,
          3,
          1,
          2,
          3,
          1,
          3,
          1,
          1,
          2,
          2,
          4,
          3,
          1,
          1,
          1,
          2,
          1,
          1,
          1,
          2,
          2,
          2,
          1,
          1,
          1,
          2,
          4,
          1,
          1
         ],
         "yaxis": "y3"
        },
        {
         "alignmentgroup": "True",
         "hovertemplate": "Type=poo<br>Size=medium<br>Date=%{x}<br>Diapers=%{y}<extra></extra>",
         "legendgroup": "poo",
         "marker": {
          "color": "maroon",
          "pattern": {
           "shape": ""
          }
         },
         "name": "poo",
         "offsetgroup": "poo",
         "orientation": "v",
         "showlegend": false,
         "textposition": "auto",
         "type": "bar",
         "x": [
          "2024-02-03",
          "2024-02-04",
          "2024-02-05",
          "2024-02-06",
          "2024-02-07",
          "2024-02-08",
          "2024-02-09",
          "2024-02-10",
          "2024-02-11",
          "2024-02-12",
          "2024-02-13",
          "2024-02-14",
          "2024-02-15",
          "2024-02-16",
          "2024-02-17",
          "2024-02-19",
          "2024-02-20",
          "2024-02-21",
          "2024-02-22",
          "2024-02-23",
          "2024-02-24",
          "2024-02-25",
          "2024-02-27",
          "2024-02-28",
          "2024-02-29",
          "2024-03-01",
          "2024-03-03",
          "2024-03-04",
          "2024-03-05",
          "2024-03-07",
          "2024-03-08",
          "2024-03-09",
          "2024-03-10",
          "2024-03-11",
          "2024-03-13",
          "2024-03-14",
          "2024-03-15",
          "2024-03-18",
          "2024-03-19",
          "2024-03-21",
          "2024-03-22",
          "2024-03-23",
          "2024-03-28",
          "2024-03-31",
          "2024-04-01",
          "2024-04-03",
          "2024-04-04",
          "2024-04-07",
          "2024-04-09",
          "2024-04-10",
          "2024-04-11",
          "2024-04-12",
          "2024-04-13",
          "2024-04-14",
          "2024-04-17",
          "2024-04-24",
          "2024-04-29",
          "2024-04-30",
          "2024-05-05",
          "2024-05-06",
          "2024-05-07",
          "2024-05-08",
          "2024-05-16",
          "2024-05-19",
          "2024-05-23",
          "2024-05-24",
          "2024-05-25",
          "2024-05-26",
          "2024-05-27",
          "2024-05-28",
          "2024-05-31",
          "2024-06-01",
          "2024-06-02",
          "2024-06-04",
          "2024-06-05",
          "2024-06-06",
          "2024-06-07",
          "2024-06-08"
         ],
         "xaxis": "x2",
         "y": [
          5,
          1,
          5,
          3,
          5,
          1,
          4,
          3,
          3,
          1,
          4,
          2,
          2,
          4,
          2,
          2,
          1,
          3,
          2,
          2,
          2,
          1,
          4,
          2,
          1,
          1,
          2,
          3,
          1,
          1,
          1,
          1,
          1,
          1,
          1,
          1,
          1,
          1,
          2,
          2,
          1,
          1,
          1,
          1,
          1,
          1,
          1,
          1,
          1,
          1,
          1,
          2,
          1,
          2,
          1,
          2,
          2,
          2,
          1,
          1,
          1,
          1,
          1,
          3,
          5,
          3,
          2,
          1,
          3,
          3,
          1,
          3,
          3,
          1,
          1,
          3,
          3,
          1
         ],
         "yaxis": "y2"
        },
        {
         "alignmentgroup": "True",
         "hovertemplate": "Type=poo<br>Size=small<br>Date=%{x}<br>Diapers=%{y}<extra></extra>",
         "legendgroup": "poo",
         "marker": {
          "color": "maroon",
          "pattern": {
           "shape": ""
          }
         },
         "name": "poo",
         "offsetgroup": "poo",
         "orientation": "v",
         "showlegend": false,
         "textposition": "auto",
         "type": "bar",
         "x": [
          "2024-02-03",
          "2024-02-04",
          "2024-02-05",
          "2024-02-06",
          "2024-02-07",
          "2024-02-08",
          "2024-02-09",
          "2024-02-10",
          "2024-02-11",
          "2024-02-12",
          "2024-02-15",
          "2024-02-17",
          "2024-02-19",
          "2024-02-20",
          "2024-02-21",
          "2024-02-22",
          "2024-02-23",
          "2024-02-24",
          "2024-02-25",
          "2024-02-27",
          "2024-03-03",
          "2024-03-04",
          "2024-03-05",
          "2024-03-06",
          "2024-03-08",
          "2024-03-10",
          "2024-03-11",
          "2024-03-16",
          "2024-03-19",
          "2024-03-20",
          "2024-03-23",
          "2024-03-24",
          "2024-04-08",
          "2024-04-09",
          "2024-04-11",
          "2024-04-15",
          "2024-04-16",
          "2024-04-17",
          "2024-04-20",
          "2024-04-21",
          "2024-04-22",
          "2024-04-23",
          "2024-04-25",
          "2024-04-26",
          "2024-04-27",
          "2024-04-28",
          "2024-05-03",
          "2024-05-04",
          "2024-05-05",
          "2024-05-11",
          "2024-05-13",
          "2024-05-14",
          "2024-05-15",
          "2024-05-18",
          "2024-05-19",
          "2024-05-25",
          "2024-05-26",
          "2024-05-27",
          "2024-05-28",
          "2024-05-31",
          "2024-06-01",
          "2024-06-02",
          "2024-06-03",
          "2024-06-04",
          "2024-06-05",
          "2024-06-07"
         ],
         "xaxis": "x",
         "y": [
          3,
          4,
          2,
          2,
          1,
          2,
          2,
          2,
          3,
          3,
          3,
          2,
          3,
          2,
          1,
          1,
          2,
          1,
          2,
          3,
          1,
          1,
          1,
          1,
          1,
          1,
          1,
          1,
          1,
          2,
          1,
          1,
          2,
          1,
          1,
          1,
          1,
          2,
          1,
          1,
          1,
          1,
          1,
          1,
          4,
          1,
          1,
          1,
          1,
          1,
          1,
          2,
          1,
          1,
          1,
          2,
          2,
          2,
          1,
          1,
          1,
          2,
          3,
          1,
          1,
          2
         ],
         "yaxis": "y"
        }
       ],
       "layout": {
        "annotations": [
         {
          "font": {},
          "showarrow": false,
          "text": "Size=small",
          "textangle": 90,
          "x": 0.98,
          "xanchor": "left",
          "xref": "paper",
          "y": 0.15666666666666665,
          "yanchor": "middle",
          "yref": "paper"
         },
         {
          "font": {},
          "showarrow": false,
          "text": "Size=medium",
          "textangle": 90,
          "x": 0.98,
          "xanchor": "left",
          "xref": "paper",
          "y": 0.4999999999999999,
          "yanchor": "middle",
          "yref": "paper"
         },
         {
          "font": {},
          "showarrow": false,
          "text": "Size=large",
          "textangle": 90,
          "x": 0.98,
          "xanchor": "left",
          "xref": "paper",
          "y": 0.8433333333333332,
          "yanchor": "middle",
          "yref": "paper"
         }
        ],
        "autosize": true,
        "barmode": "relative",
        "legend": {
         "title": {
          "text": "Type"
         },
         "tracegroupgap": 0
        },
        "margin": {
         "t": 60
        },
        "template": {
         "data": {
          "bar": [
           {
            "error_x": {
             "color": "#2a3f5f"
            },
            "error_y": {
             "color": "#2a3f5f"
            },
            "marker": {
             "line": {
              "color": "#E5ECF6",
              "width": 0.5
             },
             "pattern": {
              "fillmode": "overlay",
              "size": 10,
              "solidity": 0.2
             }
            },
            "type": "bar"
           }
          ],
          "barpolar": [
           {
            "marker": {
             "line": {
              "color": "#E5ECF6",
              "width": 0.5
             },
             "pattern": {
              "fillmode": "overlay",
              "size": 10,
              "solidity": 0.2
             }
            },
            "type": "barpolar"
           }
          ],
          "carpet": [
           {
            "aaxis": {
             "endlinecolor": "#2a3f5f",
             "gridcolor": "white",
             "linecolor": "white",
             "minorgridcolor": "white",
             "startlinecolor": "#2a3f5f"
            },
            "baxis": {
             "endlinecolor": "#2a3f5f",
             "gridcolor": "white",
             "linecolor": "white",
             "minorgridcolor": "white",
             "startlinecolor": "#2a3f5f"
            },
            "type": "carpet"
           }
          ],
          "choropleth": [
           {
            "colorbar": {
             "outlinewidth": 0,
             "ticks": ""
            },
            "type": "choropleth"
           }
          ],
          "contour": [
           {
            "colorbar": {
             "outlinewidth": 0,
             "ticks": ""
            },
            "colorscale": [
             [
              0,
              "#0d0887"
             ],
             [
              0.1111111111111111,
              "#46039f"
             ],
             [
              0.2222222222222222,
              "#7201a8"
             ],
             [
              0.3333333333333333,
              "#9c179e"
             ],
             [
              0.4444444444444444,
              "#bd3786"
             ],
             [
              0.5555555555555556,
              "#d8576b"
             ],
             [
              0.6666666666666666,
              "#ed7953"
             ],
             [
              0.7777777777777778,
              "#fb9f3a"
             ],
             [
              0.8888888888888888,
              "#fdca26"
             ],
             [
              1,
              "#f0f921"
             ]
            ],
            "type": "contour"
           }
          ],
          "contourcarpet": [
           {
            "colorbar": {
             "outlinewidth": 0,
             "ticks": ""
            },
            "type": "contourcarpet"
           }
          ],
          "heatmap": [
           {
            "colorbar": {
             "outlinewidth": 0,
             "ticks": ""
            },
            "colorscale": [
             [
              0,
              "#0d0887"
             ],
             [
              0.1111111111111111,
              "#46039f"
             ],
             [
              0.2222222222222222,
              "#7201a8"
             ],
             [
              0.3333333333333333,
              "#9c179e"
             ],
             [
              0.4444444444444444,
              "#bd3786"
             ],
             [
              0.5555555555555556,
              "#d8576b"
             ],
             [
              0.6666666666666666,
              "#ed7953"
             ],
             [
              0.7777777777777778,
              "#fb9f3a"
             ],
             [
              0.8888888888888888,
              "#fdca26"
             ],
             [
              1,
              "#f0f921"
             ]
            ],
            "type": "heatmap"
           }
          ],
          "heatmapgl": [
           {
            "colorbar": {
             "outlinewidth": 0,
             "ticks": ""
            },
            "colorscale": [
             [
              0,
              "#0d0887"
             ],
             [
              0.1111111111111111,
              "#46039f"
             ],
             [
              0.2222222222222222,
              "#7201a8"
             ],
             [
              0.3333333333333333,
              "#9c179e"
             ],
             [
              0.4444444444444444,
              "#bd3786"
             ],
             [
              0.5555555555555556,
              "#d8576b"
             ],
             [
              0.6666666666666666,
              "#ed7953"
             ],
             [
              0.7777777777777778,
              "#fb9f3a"
             ],
             [
              0.8888888888888888,
              "#fdca26"
             ],
             [
              1,
              "#f0f921"
             ]
            ],
            "type": "heatmapgl"
           }
          ],
          "histogram": [
           {
            "marker": {
             "pattern": {
              "fillmode": "overlay",
              "size": 10,
              "solidity": 0.2
             }
            },
            "type": "histogram"
           }
          ],
          "histogram2d": [
           {
            "colorbar": {
             "outlinewidth": 0,
             "ticks": ""
            },
            "colorscale": [
             [
              0,
              "#0d0887"
             ],
             [
              0.1111111111111111,
              "#46039f"
             ],
             [
              0.2222222222222222,
              "#7201a8"
             ],
             [
              0.3333333333333333,
              "#9c179e"
             ],
             [
              0.4444444444444444,
              "#bd3786"
             ],
             [
              0.5555555555555556,
              "#d8576b"
             ],
             [
              0.6666666666666666,
              "#ed7953"
             ],
             [
              0.7777777777777778,
              "#fb9f3a"
             ],
             [
              0.8888888888888888,
              "#fdca26"
             ],
             [
              1,
              "#f0f921"
             ]
            ],
            "type": "histogram2d"
           }
          ],
          "histogram2dcontour": [
           {
            "colorbar": {
             "outlinewidth": 0,
             "ticks": ""
            },
            "colorscale": [
             [
              0,
              "#0d0887"
             ],
             [
              0.1111111111111111,
              "#46039f"
             ],
             [
              0.2222222222222222,
              "#7201a8"
             ],
             [
              0.3333333333333333,
              "#9c179e"
             ],
             [
              0.4444444444444444,
              "#bd3786"
             ],
             [
              0.5555555555555556,
              "#d8576b"
             ],
             [
              0.6666666666666666,
              "#ed7953"
             ],
             [
              0.7777777777777778,
              "#fb9f3a"
             ],
             [
              0.8888888888888888,
              "#fdca26"
             ],
             [
              1,
              "#f0f921"
             ]
            ],
            "type": "histogram2dcontour"
           }
          ],
          "mesh3d": [
           {
            "colorbar": {
             "outlinewidth": 0,
             "ticks": ""
            },
            "type": "mesh3d"
           }
          ],
          "parcoords": [
           {
            "line": {
             "colorbar": {
              "outlinewidth": 0,
              "ticks": ""
             }
            },
            "type": "parcoords"
           }
          ],
          "pie": [
           {
            "automargin": true,
            "type": "pie"
           }
          ],
          "scatter": [
           {
            "fillpattern": {
             "fillmode": "overlay",
             "size": 10,
             "solidity": 0.2
            },
            "type": "scatter"
           }
          ],
          "scatter3d": [
           {
            "line": {
             "colorbar": {
              "outlinewidth": 0,
              "ticks": ""
             }
            },
            "marker": {
             "colorbar": {
              "outlinewidth": 0,
              "ticks": ""
             }
            },
            "type": "scatter3d"
           }
          ],
          "scattercarpet": [
           {
            "marker": {
             "colorbar": {
              "outlinewidth": 0,
              "ticks": ""
             }
            },
            "type": "scattercarpet"
           }
          ],
          "scattergeo": [
           {
            "marker": {
             "colorbar": {
              "outlinewidth": 0,
              "ticks": ""
             }
            },
            "type": "scattergeo"
           }
          ],
          "scattergl": [
           {
            "marker": {
             "colorbar": {
              "outlinewidth": 0,
              "ticks": ""
             }
            },
            "type": "scattergl"
           }
          ],
          "scattermapbox": [
           {
            "marker": {
             "colorbar": {
              "outlinewidth": 0,
              "ticks": ""
             }
            },
            "type": "scattermapbox"
           }
          ],
          "scatterpolar": [
           {
            "marker": {
             "colorbar": {
              "outlinewidth": 0,
              "ticks": ""
             }
            },
            "type": "scatterpolar"
           }
          ],
          "scatterpolargl": [
           {
            "marker": {
             "colorbar": {
              "outlinewidth": 0,
              "ticks": ""
             }
            },
            "type": "scatterpolargl"
           }
          ],
          "scatterternary": [
           {
            "marker": {
             "colorbar": {
              "outlinewidth": 0,
              "ticks": ""
             }
            },
            "type": "scatterternary"
           }
          ],
          "surface": [
           {
            "colorbar": {
             "outlinewidth": 0,
             "ticks": ""
            },
            "colorscale": [
             [
              0,
              "#0d0887"
             ],
             [
              0.1111111111111111,
              "#46039f"
             ],
             [
              0.2222222222222222,
              "#7201a8"
             ],
             [
              0.3333333333333333,
              "#9c179e"
             ],
             [
              0.4444444444444444,
              "#bd3786"
             ],
             [
              0.5555555555555556,
              "#d8576b"
             ],
             [
              0.6666666666666666,
              "#ed7953"
             ],
             [
              0.7777777777777778,
              "#fb9f3a"
             ],
             [
              0.8888888888888888,
              "#fdca26"
             ],
             [
              1,
              "#f0f921"
             ]
            ],
            "type": "surface"
           }
          ],
          "table": [
           {
            "cells": {
             "fill": {
              "color": "#EBF0F8"
             },
             "line": {
              "color": "white"
             }
            },
            "header": {
             "fill": {
              "color": "#C8D4E3"
             },
             "line": {
              "color": "white"
             }
            },
            "type": "table"
           }
          ]
         },
         "layout": {
          "annotationdefaults": {
           "arrowcolor": "#2a3f5f",
           "arrowhead": 0,
           "arrowwidth": 1
          },
          "autotypenumbers": "strict",
          "coloraxis": {
           "colorbar": {
            "outlinewidth": 0,
            "ticks": ""
           }
          },
          "colorscale": {
           "diverging": [
            [
             0,
             "#8e0152"
            ],
            [
             0.1,
             "#c51b7d"
            ],
            [
             0.2,
             "#de77ae"
            ],
            [
             0.3,
             "#f1b6da"
            ],
            [
             0.4,
             "#fde0ef"
            ],
            [
             0.5,
             "#f7f7f7"
            ],
            [
             0.6,
             "#e6f5d0"
            ],
            [
             0.7,
             "#b8e186"
            ],
            [
             0.8,
             "#7fbc41"
            ],
            [
             0.9,
             "#4d9221"
            ],
            [
             1,
             "#276419"
            ]
           ],
           "sequential": [
            [
             0,
             "#0d0887"
            ],
            [
             0.1111111111111111,
             "#46039f"
            ],
            [
             0.2222222222222222,
             "#7201a8"
            ],
            [
             0.3333333333333333,
             "#9c179e"
            ],
            [
             0.4444444444444444,
             "#bd3786"
            ],
            [
             0.5555555555555556,
             "#d8576b"
            ],
            [
             0.6666666666666666,
             "#ed7953"
            ],
            [
             0.7777777777777778,
             "#fb9f3a"
            ],
            [
             0.8888888888888888,
             "#fdca26"
            ],
            [
             1,
             "#f0f921"
            ]
           ],
           "sequentialminus": [
            [
             0,
             "#0d0887"
            ],
            [
             0.1111111111111111,
             "#46039f"
            ],
            [
             0.2222222222222222,
             "#7201a8"
            ],
            [
             0.3333333333333333,
             "#9c179e"
            ],
            [
             0.4444444444444444,
             "#bd3786"
            ],
            [
             0.5555555555555556,
             "#d8576b"
            ],
            [
             0.6666666666666666,
             "#ed7953"
            ],
            [
             0.7777777777777778,
             "#fb9f3a"
            ],
            [
             0.8888888888888888,
             "#fdca26"
            ],
            [
             1,
             "#f0f921"
            ]
           ]
          },
          "colorway": [
           "#636efa",
           "#EF553B",
           "#00cc96",
           "#ab63fa",
           "#FFA15A",
           "#19d3f3",
           "#FF6692",
           "#B6E880",
           "#FF97FF",
           "#FECB52"
          ],
          "font": {
           "color": "#2a3f5f"
          },
          "geo": {
           "bgcolor": "white",
           "lakecolor": "white",
           "landcolor": "#E5ECF6",
           "showlakes": true,
           "showland": true,
           "subunitcolor": "white"
          },
          "hoverlabel": {
           "align": "left"
          },
          "hovermode": "closest",
          "mapbox": {
           "style": "light"
          },
          "paper_bgcolor": "white",
          "plot_bgcolor": "#E5ECF6",
          "polar": {
           "angularaxis": {
            "gridcolor": "white",
            "linecolor": "white",
            "ticks": ""
           },
           "bgcolor": "#E5ECF6",
           "radialaxis": {
            "gridcolor": "white",
            "linecolor": "white",
            "ticks": ""
           }
          },
          "scene": {
           "xaxis": {
            "backgroundcolor": "#E5ECF6",
            "gridcolor": "white",
            "gridwidth": 2,
            "linecolor": "white",
            "showbackground": true,
            "ticks": "",
            "zerolinecolor": "white"
           },
           "yaxis": {
            "backgroundcolor": "#E5ECF6",
            "gridcolor": "white",
            "gridwidth": 2,
            "linecolor": "white",
            "showbackground": true,
            "ticks": "",
            "zerolinecolor": "white"
           },
           "zaxis": {
            "backgroundcolor": "#E5ECF6",
            "gridcolor": "white",
            "gridwidth": 2,
            "linecolor": "white",
            "showbackground": true,
            "ticks": "",
            "zerolinecolor": "white"
           }
          },
          "shapedefaults": {
           "line": {
            "color": "#2a3f5f"
           }
          },
          "ternary": {
           "aaxis": {
            "gridcolor": "white",
            "linecolor": "white",
            "ticks": ""
           },
           "baxis": {
            "gridcolor": "white",
            "linecolor": "white",
            "ticks": ""
           },
           "bgcolor": "#E5ECF6",
           "caxis": {
            "gridcolor": "white",
            "linecolor": "white",
            "ticks": ""
           }
          },
          "title": {
           "x": 0.05
          },
          "xaxis": {
           "automargin": true,
           "gridcolor": "white",
           "linecolor": "white",
           "ticks": "",
           "title": {
            "standoff": 15
           },
           "zerolinecolor": "white",
           "zerolinewidth": 2
          },
          "yaxis": {
           "automargin": true,
           "gridcolor": "white",
           "linecolor": "white",
           "ticks": "",
           "title": {
            "standoff": 15
           },
           "zerolinecolor": "white",
           "zerolinewidth": 2
          }
         }
        },
        "title": {
         "text": "Isaak's Diapers over time, by type and size",
         "x": 0.5
        },
        "xaxis": {
         "anchor": "y",
         "autorange": true,
         "domain": [
          0,
          0.98
         ],
         "range": [
          "2024-02-02 12:00",
          "2024-06-08 12:00"
         ],
         "title": {
          "text": "Date"
         },
         "type": "date"
        },
        "xaxis2": {
         "anchor": "y2",
         "autorange": true,
         "domain": [
          0,
          0.98
         ],
         "matches": "x",
         "range": [
          "2024-02-02 12:00",
          "2024-06-08 12:00"
         ],
         "showticklabels": false,
         "type": "date"
        },
        "xaxis3": {
         "anchor": "y3",
         "autorange": true,
         "domain": [
          0,
          0.98
         ],
         "matches": "x",
         "range": [
          "2024-02-02 12:00",
          "2024-06-08 12:00"
         ],
         "showticklabels": false,
         "type": "date"
        },
        "yaxis": {
         "anchor": "x",
         "autorange": true,
         "domain": [
          0,
          0.3133333333333333
         ],
         "range": [
          0,
          11.578947368421053
         ],
         "title": {
          "text": "Diapers"
         },
         "type": "linear"
        },
        "yaxis2": {
         "anchor": "x2",
         "autorange": true,
         "domain": [
          0.34333333333333327,
          0.6566666666666665
         ],
         "matches": "y",
         "range": [
          0,
          11.578947368421053
         ],
         "title": {
          "text": "Diapers"
         },
         "type": "linear"
        },
        "yaxis3": {
         "anchor": "x3",
         "autorange": true,
         "domain": [
          0.6866666666666665,
          0.9999999999999998
         ],
         "matches": "y",
         "range": [
          0,
          11.578947368421053
         ],
         "title": {
          "text": "Diapers"
         },
         "type": "linear"
        }
       }
      },
      "image/png": "[encoded data removed]",
      "text/html": [
       "<div>                            <div id=\"b3ac361e-1ef4-4128-9acd-e96bdd552044\" class=\"plotly-graph-div\" style=\"height:800px; width:100%;\"></div>            <script type=\"text/javascript\">                require([\"plotly\"], function(Plotly) {                    window.PLOTLYENV=window.PLOTLYENV || {};                                    if (document.getElementById(\"b3ac361e-1ef4-4128-9acd-e96bdd552044\")) {                    Plotly.newPlot(                        \"b3ac361e-1ef4-4128-9acd-e96bdd552044\",                        [{\"alignmentgroup\":\"True\",\"hovertemplate\":\"Type=pee\\u003cbr\\u003eSize=large\\u003cbr\\u003eDate=%{x}\\u003cbr\\u003eDiapers=%{y}\\u003cextra\\u003e\\u003c\\u002fextra\\u003e\",\"legendgroup\":\"pee\",\"marker\":{\"color\":\"goldenrod\",\"pattern\":{\"shape\":\"\"}},\"name\":\"pee\",\"offsetgroup\":\"pee\",\"orientation\":\"v\",\"showlegend\":true,\"textposition\":\"auto\",\"x\":[\"2024-02-05\",\"2024-02-06\",\"2024-02-07\",\"2024-02-08\",\"2024-02-09\",\"2024-02-10\",\"2024-02-11\",\"2024-02-12\",\"2024-02-13\",\"2024-02-14\",\"2024-02-15\",\"2024-02-16\",\"2024-02-17\",\"2024-02-18\",\"2024-02-19\",\"2024-02-20\",\"2024-02-21\",\"2024-02-22\",\"2024-02-23\",\"2024-02-24\",\"2024-02-25\",\"2024-02-26\",\"2024-02-27\",\"2024-02-28\",\"2024-02-29\",\"2024-03-01\",\"2024-03-02\",\"2024-03-03\",\"2024-03-04\",\"2024-03-05\",\"2024-03-06\",\"2024-03-07\",\"2024-03-08\",\"2024-03-09\",\"2024-03-10\",\"2024-03-11\",\"2024-03-12\",\"2024-03-13\",\"2024-03-14\",\"2024-03-15\",\"2024-03-16\",\"2024-03-17\",\"2024-03-18\",\"2024-03-19\",\"2024-03-20\",\"2024-03-21\",\"2024-03-22\",\"2024-03-23\",\"2024-03-24\",\"2024-03-25\",\"2024-03-26\",\"2024-03-27\",\"2024-03-28\",\"2024-03-29\",\"2024-03-30\",\"2024-03-31\",\"2024-04-01\",\"2024-04-02\",\"2024-04-03\",\"2024-04-04\",\"2024-04-05\",\"2024-04-06\",\"2024-04-07\",\"2024-04-08\",\"2024-04-09\",\"2024-04-10\",\"2024-04-11\",\"2024-04-12\",\"2024-04-13\",\"2024-04-14\",\"2024-04-15\",\"2024-04-16\",\"2024-04-17\",\"2024-04-18\",\"2024-04-19\",\"2024-04-20\",\"2024-04-21\",\"2024-04-22\",\"2024-04-23\",\"2024-04-24\",\"2024-04-25\",\"2024-04-26\",\"2024-04-27\",\"2024-04-28\",\"2024-04-29\",\"2024-04-30\",\"2024-05-01\",\"2024-05-02\",\"2024-05-03\",\"2024-05-04\",\"2024-05-05\",\"2024-05-06\",\"2024-05-07\",\"2024-05-08\",\"2024-05-09\",\"2024-05-10\",\"2024-05-11\",\"2024-05-12\",\"2024-05-13\",\"2024-05-14\",\"2024-05-15\",\"2024-05-16\",\"2024-05-17\",\"2024-05-18\",\"2024-05-19\",\"2024-05-20\",\"2024-05-23\",\"2024-05-24\",\"2024-05-25\",\"2024-05-26\",\"2024-05-27\",\"2024-05-28\",\"2024-05-29\",\"2024-05-30\",\"2024-05-31\",\"2024-06-02\",\"2024-06-04\",\"2024-06-05\",\"2024-06-06\",\"2024-06-07\",\"2024-06-08\"],\"xaxis\":\"x3\",\"y\":[1,6,6,6,6,3,3,3,2,2,4,1,3,2,2,5,6,3,3,2,4,4,4,2,6,2,4,3,5,3,5,3,2,4,1,5,2,3,2,4,6,4,2,3,2,1,5,3,3,5,7,2,2,5,3,3,4,3,3,2,3,1,2,2,5,6,1,3,4,4,3,3,4,3,6,3,2,2,3,2,3,3,3,1,3,4,3,4,4,2,4,3,3,3,4,5,4,4,4,3,1,2,2,1,1,1,2,1,1,1,3,3,2,3,4,1,3,3,2,2,1],\"yaxis\":\"y3\",\"type\":\"bar\"},{\"alignmentgroup\":\"True\",\"hovertemplate\":\"Type=pee\\u003cbr\\u003eSize=medium\\u003cbr\\u003eDate=%{x}\\u003cbr\\u003eDiapers=%{y}\\u003cextra\\u003e\\u003c\\u002fextra\\u003e\",\"legendgroup\":\"pee\",\"marker\":{\"color\":\"goldenrod\",\"pattern\":{\"shape\":\"\"}},\"name\":\"pee\",\"offsetgroup\":\"pee\",\"orientation\":\"v\",\"showlegend\":false,\"textposition\":\"auto\",\"x\":[\"2024-02-03\",\"2024-02-04\",\"2024-02-05\",\"2024-02-06\",\"2024-02-07\",\"2024-02-08\",\"2024-02-09\",\"2024-02-10\",\"2024-02-11\",\"2024-02-12\",\"2024-02-13\",\"2024-02-14\",\"2024-02-15\",\"2024-02-16\",\"2024-02-17\",\"2024-02-19\",\"2024-02-20\",\"2024-02-21\",\"2024-02-22\",\"2024-02-23\",\"2024-02-24\",\"2024-02-25\",\"2024-02-26\",\"2024-02-27\",\"2024-02-28\",\"2024-02-29\",\"2024-03-01\",\"2024-03-02\",\"2024-03-03\",\"2024-03-04\",\"2024-03-05\",\"2024-03-06\",\"2024-03-07\",\"2024-03-08\",\"2024-03-09\",\"2024-03-10\",\"2024-03-11\",\"2024-03-12\",\"2024-03-13\",\"2024-03-14\",\"2024-03-15\",\"2024-03-16\",\"2024-03-17\",\"2024-03-18\",\"2024-03-19\",\"2024-03-20\",\"2024-03-21\",\"2024-03-22\",\"2024-03-23\",\"2024-03-24\",\"2024-03-25\",\"2024-03-26\",\"2024-03-27\",\"2024-03-28\",\"2024-03-29\",\"2024-03-30\",\"2024-03-31\",\"2024-04-01\",\"2024-04-02\",\"2024-04-03\",\"2024-04-04\",\"2024-04-05\",\"2024-04-06\",\"2024-04-07\",\"2024-04-08\",\"2024-04-09\",\"2024-04-11\",\"2024-04-12\",\"2024-04-13\",\"2024-04-14\",\"2024-04-15\",\"2024-04-16\",\"2024-04-17\",\"2024-04-18\",\"2024-04-20\",\"2024-04-21\",\"2024-04-22\",\"2024-04-23\",\"2024-04-24\",\"2024-04-25\",\"2024-04-26\",\"2024-04-27\",\"2024-04-29\",\"2024-04-30\",\"2024-05-01\",\"2024-05-03\",\"2024-05-04\",\"2024-05-05\",\"2024-05-06\",\"2024-05-07\",\"2024-05-08\",\"2024-05-09\",\"2024-05-10\",\"2024-05-15\",\"2024-05-16\",\"2024-05-18\",\"2024-05-19\",\"2024-05-23\",\"2024-05-24\",\"2024-05-25\",\"2024-05-26\",\"2024-05-27\",\"2024-05-28\",\"2024-05-29\",\"2024-05-30\",\"2024-05-31\",\"2024-06-01\",\"2024-06-02\",\"2024-06-03\",\"2024-06-04\",\"2024-06-05\",\"2024-06-06\",\"2024-06-07\",\"2024-06-08\"],\"xaxis\":\"x2\",\"y\":[5,1,4,6,6,6,5,7,7,6,6,1,6,2,8,3,3,3,4,6,7,5,4,3,3,3,4,4,4,3,3,5,6,5,3,3,2,2,4,2,1,1,4,5,3,6,4,1,4,4,1,1,3,6,2,4,3,4,3,4,6,2,5,3,3,1,4,4,6,1,1,1,1,3,2,4,2,3,2,2,1,2,3,2,3,2,2,3,1,2,1,1,1,1,1,1,2,4,3,3,1,1,2,2,1,1,4,6,5,1,2,4,4,1],\"yaxis\":\"y2\",\"type\":\"bar\"},{\"alignmentgroup\":\"True\",\"hovertemplate\":\"Type=pee\\u003cbr\\u003eSize=small\\u003cbr\\u003eDate=%{x}\\u003cbr\\u003eDiapers=%{y}\\u003cextra\\u003e\\u003c\\u002fextra\\u003e\",\"legendgroup\":\"pee\",\"marker\":{\"color\":\"goldenrod\",\"pattern\":{\"shape\":\"\"}},\"name\":\"pee\",\"offsetgroup\":\"pee\",\"orientation\":\"v\",\"showlegend\":false,\"textposition\":\"auto\",\"x\":[\"2024-02-03\",\"2024-02-04\",\"2024-02-05\",\"2024-02-06\",\"2024-02-07\",\"2024-02-08\",\"2024-02-09\",\"2024-02-10\",\"2024-02-11\",\"2024-02-12\",\"2024-02-13\",\"2024-02-14\",\"2024-02-15\",\"2024-02-16\",\"2024-02-17\",\"2024-02-18\",\"2024-02-19\",\"2024-02-20\",\"2024-02-21\",\"2024-02-22\",\"2024-02-24\",\"2024-02-25\",\"2024-02-26\",\"2024-02-27\",\"2024-02-28\",\"2024-03-01\",\"2024-03-02\",\"2024-03-03\",\"2024-03-04\",\"2024-03-05\",\"2024-03-07\",\"2024-03-08\",\"2024-03-09\",\"2024-03-10\",\"2024-03-11\",\"2024-03-12\",\"2024-03-13\",\"2024-03-14\",\"2024-03-15\",\"2024-03-16\",\"2024-03-17\",\"2024-03-18\",\"2024-03-19\",\"2024-03-20\",\"2024-03-21\",\"2024-03-22\",\"2024-03-23\",\"2024-03-24\",\"2024-03-25\",\"2024-03-26\",\"2024-03-27\",\"2024-03-28\",\"2024-03-30\",\"2024-03-31\",\"2024-04-01\",\"2024-04-02\",\"2024-04-03\",\"2024-04-04\",\"2024-04-05\",\"2024-04-06\",\"2024-04-07\",\"2024-04-08\",\"2024-04-09\",\"2024-04-10\",\"2024-04-11\",\"2024-04-12\",\"2024-04-14\",\"2024-04-15\",\"2024-04-16\",\"2024-04-17\",\"2024-04-18\",\"2024-04-19\",\"2024-04-20\",\"2024-04-21\",\"2024-04-22\",\"2024-04-23\",\"2024-04-24\",\"2024-04-25\",\"2024-04-26\",\"2024-04-27\",\"2024-04-28\",\"2024-04-29\",\"2024-04-30\",\"2024-05-01\",\"2024-05-02\",\"2024-05-03\",\"2024-05-04\",\"2024-05-05\",\"2024-05-06\",\"2024-05-08\",\"2024-05-10\",\"2024-05-11\",\"2024-05-13\",\"2024-05-14\",\"2024-05-15\",\"2024-05-18\",\"2024-05-19\",\"2024-05-22\",\"2024-05-23\",\"2024-05-24\",\"2024-05-25\",\"2024-05-26\",\"2024-05-27\",\"2024-05-28\",\"2024-05-29\",\"2024-05-31\",\"2024-06-01\",\"2024-06-02\",\"2024-06-04\",\"2024-06-05\",\"2024-06-06\",\"2024-06-07\",\"2024-06-08\"],\"xaxis\":\"x\",\"y\":[1,7,7,4,2,1,1,3,4,2,3,6,3,2,3,5,3,3,1,6,4,1,1,2,2,2,2,3,1,3,3,4,3,4,2,1,3,4,2,2,2,3,2,1,5,1,5,1,2,1,2,3,1,4,1,1,1,1,2,1,2,4,3,2,5,3,2,2,3,2,2,2,4,2,4,3,2,2,3,2,4,1,2,2,1,1,6,1,2,1,1,2,2,1,1,1,1,1,2,1,2,4,2,4,1,1,2,2,1,1,1,1,1],\"yaxis\":\"y\",\"type\":\"bar\"},{\"alignmentgroup\":\"True\",\"hovertemplate\":\"Type=poo\\u003cbr\\u003eSize=large\\u003cbr\\u003eDate=%{x}\\u003cbr\\u003eDiapers=%{y}\\u003cextra\\u003e\\u003c\\u002fextra\\u003e\",\"legendgroup\":\"poo\",\"marker\":{\"color\":\"maroon\",\"pattern\":{\"shape\":\"\"}},\"name\":\"poo\",\"offsetgroup\":\"poo\",\"orientation\":\"v\",\"showlegend\":true,\"textposition\":\"auto\",\"x\":[\"2024-02-05\",\"2024-02-06\",\"2024-02-07\",\"2024-02-08\",\"2024-02-09\",\"2024-02-10\",\"2024-02-11\",\"2024-02-12\",\"2024-02-13\",\"2024-02-15\",\"2024-02-16\",\"2024-02-17\",\"2024-02-18\",\"2024-02-19\",\"2024-02-20\",\"2024-02-21\",\"2024-02-22\",\"2024-02-23\",\"2024-02-24\",\"2024-02-25\",\"2024-02-26\",\"2024-02-27\",\"2024-02-28\",\"2024-02-29\",\"2024-03-01\",\"2024-03-02\",\"2024-03-03\",\"2024-03-04\",\"2024-03-05\",\"2024-03-06\",\"2024-03-07\",\"2024-03-08\",\"2024-03-09\",\"2024-03-10\",\"2024-03-11\",\"2024-03-12\",\"2024-03-13\",\"2024-03-14\",\"2024-03-15\",\"2024-03-16\",\"2024-03-17\",\"2024-03-18\",\"2024-03-19\",\"2024-03-20\",\"2024-03-21\",\"2024-03-22\",\"2024-03-23\",\"2024-03-24\",\"2024-03-25\",\"2024-03-26\",\"2024-03-27\",\"2024-03-28\",\"2024-03-29\",\"2024-03-30\",\"2024-03-31\",\"2024-04-01\",\"2024-04-02\",\"2024-04-03\",\"2024-04-04\",\"2024-04-05\",\"2024-04-06\",\"2024-04-07\",\"2024-04-08\",\"2024-04-09\",\"2024-04-10\",\"2024-04-11\",\"2024-04-12\",\"2024-04-13\",\"2024-04-14\",\"2024-04-15\",\"2024-04-16\",\"2024-04-17\",\"2024-04-18\",\"2024-04-19\",\"2024-04-20\",\"2024-04-21\",\"2024-04-22\",\"2024-04-23\",\"2024-04-24\",\"2024-04-25\",\"2024-04-26\",\"2024-04-27\",\"2024-04-28\",\"2024-04-29\",\"2024-04-30\",\"2024-05-01\",\"2024-05-02\",\"2024-05-03\",\"2024-05-04\",\"2024-05-05\",\"2024-05-06\",\"2024-05-07\",\"2024-05-08\",\"2024-05-09\",\"2024-05-10\",\"2024-05-11\",\"2024-05-12\",\"2024-05-13\",\"2024-05-14\",\"2024-05-15\",\"2024-05-16\",\"2024-05-17\",\"2024-05-18\",\"2024-05-20\",\"2024-05-22\",\"2024-05-23\",\"2024-05-24\",\"2024-05-25\",\"2024-05-26\",\"2024-05-27\",\"2024-05-29\",\"2024-05-30\",\"2024-05-31\",\"2024-06-03\",\"2024-06-04\"],\"xaxis\":\"x3\",\"y\":[1,1,1,2,1,2,1,3,1,2,1,3,2,2,3,1,1,1,4,1,1,1,1,3,2,3,2,2,2,1,5,2,2,1,2,2,3,2,2,3,4,2,1,1,2,1,2,2,5,1,2,4,2,2,2,2,3,1,3,2,1,3,2,2,3,2,1,4,1,1,1,2,3,1,2,1,2,2,2,1,1,2,1,2,3,2,3,1,2,3,1,3,1,1,2,2,4,3,1,1,1,2,1,1,1,2,2,2,1,1,1,2,4,1,1],\"yaxis\":\"y3\",\"type\":\"bar\"},{\"alignmentgroup\":\"True\",\"hovertemplate\":\"Type=poo\\u003cbr\\u003eSize=medium\\u003cbr\\u003eDate=%{x}\\u003cbr\\u003eDiapers=%{y}\\u003cextra\\u003e\\u003c\\u002fextra\\u003e\",\"legendgroup\":\"poo\",\"marker\":{\"color\":\"maroon\",\"pattern\":{\"shape\":\"\"}},\"name\":\"poo\",\"offsetgroup\":\"poo\",\"orientation\":\"v\",\"showlegend\":false,\"textposition\":\"auto\",\"x\":[\"2024-02-03\",\"2024-02-04\",\"2024-02-05\",\"2024-02-06\",\"2024-02-07\",\"2024-02-08\",\"2024-02-09\",\"2024-02-10\",\"2024-02-11\",\"2024-02-12\",\"2024-02-13\",\"2024-02-14\",\"2024-02-15\",\"2024-02-16\",\"2024-02-17\",\"2024-02-19\",\"2024-02-20\",\"2024-02-21\",\"2024-02-22\",\"2024-02-23\",\"2024-02-24\",\"2024-02-25\",\"2024-02-27\",\"2024-02-28\",\"2024-02-29\",\"2024-03-01\",\"2024-03-03\",\"2024-03-04\",\"2024-03-05\",\"2024-03-07\",\"2024-03-08\",\"2024-03-09\",\"2024-03-10\",\"2024-03-11\",\"2024-03-13\",\"2024-03-14\",\"2024-03-15\",\"2024-03-18\",\"2024-03-19\",\"2024-03-21\",\"2024-03-22\",\"2024-03-23\",\"2024-03-28\",\"2024-03-31\",\"2024-04-01\",\"2024-04-03\",\"2024-04-04\",\"2024-04-07\",\"2024-04-09\",\"2024-04-10\",\"2024-04-11\",\"2024-04-12\",\"2024-04-13\",\"2024-04-14\",\"2024-04-17\",\"2024-04-24\",\"2024-04-29\",\"2024-04-30\",\"2024-05-05\",\"2024-05-06\",\"2024-05-07\",\"2024-05-08\",\"2024-05-16\",\"2024-05-19\",\"2024-05-23\",\"2024-05-24\",\"2024-05-25\",\"2024-05-26\",\"2024-05-27\",\"2024-05-28\",\"2024-05-31\",\"2024-06-01\",\"2024-06-02\",\"2024-06-04\",\"2024-06-05\",\"2024-06-06\",\"2024-06-07\",\"2024-06-08\"],\"xaxis\":\"x2\",\"y\":[5,1,5,3,5,1,4,3,3,1,4,2,2,4,2,2,1,3,2,2,2,1,4,2,1,1,2,3,1,1,1,1,1,1,1,1,1,1,2,2,1,1,1,1,1,1,1,1,1,1,1,2,1,2,1,2,2,2,1,1,1,1,1,3,5,3,2,1,3,3,1,3,3,1,1,3,3,1],\"yaxis\":\"y2\",\"type\":\"bar\"},{\"alignmentgroup\":\"True\",\"hovertemplate\":\"Type=poo\\u003cbr\\u003eSize=small\\u003cbr\\u003eDate=%{x}\\u003cbr\\u003eDiapers=%{y}\\u003cextra\\u003e\\u003c\\u002fextra\\u003e\",\"legendgroup\":\"poo\",\"marker\":{\"color\":\"maroon\",\"pattern\":{\"shape\":\"\"}},\"name\":\"poo\",\"offsetgroup\":\"poo\",\"orientation\":\"v\",\"showlegend\":false,\"textposition\":\"auto\",\"x\":[\"2024-02-03\",\"2024-02-04\",\"2024-02-05\",\"2024-02-06\",\"2024-02-07\",\"2024-02-08\",\"2024-02-09\",\"2024-02-10\",\"2024-02-11\",\"2024-02-12\",\"2024-02-15\",\"2024-02-17\",\"2024-02-19\",\"2024-02-20\",\"2024-02-21\",\"2024-02-22\",\"2024-02-23\",\"2024-02-24\",\"2024-02-25\",\"2024-02-27\",\"2024-03-03\",\"2024-03-04\",\"2024-03-05\",\"2024-03-06\",\"2024-03-08\",\"2024-03-10\",\"2024-03-11\",\"2024-03-16\",\"2024-03-19\",\"2024-03-20\",\"2024-03-23\",\"2024-03-24\",\"2024-04-08\",\"2024-04-09\",\"2024-04-11\",\"2024-04-15\",\"2024-04-16\",\"2024-04-17\",\"2024-04-20\",\"2024-04-21\",\"2024-04-22\",\"2024-04-23\",\"2024-04-25\",\"2024-04-26\",\"2024-04-27\",\"2024-04-28\",\"2024-05-03\",\"2024-05-04\",\"2024-05-05\",\"2024-05-11\",\"2024-05-13\",\"2024-05-14\",\"2024-05-15\",\"2024-05-18\",\"2024-05-19\",\"2024-05-25\",\"2024-05-26\",\"2024-05-27\",\"2024-05-28\",\"2024-05-31\",\"2024-06-01\",\"2024-06-02\",\"2024-06-03\",\"2024-06-04\",\"2024-06-05\",\"2024-06-07\"],\"xaxis\":\"x\",\"y\":[3,4,2,2,1,2,2,2,3,3,3,2,3,2,1,1,2,1,2,3,1,1,1,1,1,1,1,1,1,2,1,1,2,1,1,1,1,2,1,1,1,1,1,1,4,1,1,1,1,1,1,2,1,1,1,2,2,2,1,1,1,2,3,1,1,2],\"yaxis\":\"y\",\"type\":\"bar\"}],                        {\"template\":{\"data\":{\"histogram2dcontour\":[{\"type\":\"histogram2dcontour\",\"colorbar\":{\"outlinewidth\":0,\"ticks\":\"\"},\"colorscale\":[[0.0,\"#0d0887\"],[0.1111111111111111,\"#46039f\"],[0.2222222222222222,\"#7201a8\"],[0.3333333333333333,\"#9c179e\"],[0.4444444444444444,\"#bd3786\"],[0.5555555555555556,\"#d8576b\"],[0.6666666666666666,\"#ed7953\"],[0.7777777777777778,\"#fb9f3a\"],[0.8888888888888888,\"#fdca26\"],[1.0,\"#f0f921\"]]}],\"choropleth\":[{\"type\":\"choropleth\",\"colorbar\":{\"outlinewidth\":0,\"ticks\":\"\"}}],\"histogram2d\":[{\"type\":\"histogram2d\",\"colorbar\":{\"outlinewidth\":0,\"ticks\":\"\"},\"colorscale\":[[0.0,\"#0d0887\"],[0.1111111111111111,\"#46039f\"],[0.2222222222222222,\"#7201a8\"],[0.3333333333333333,\"#9c179e\"],[0.4444444444444444,\"#bd3786\"],[0.5555555555555556,\"#d8576b\"],[0.6666666666666666,\"#ed7953\"],[0.7777777777777778,\"#fb9f3a\"],[0.8888888888888888,\"#fdca26\"],[1.0,\"#f0f921\"]]}],\"heatmap\":[{\"type\":\"heatmap\",\"colorbar\":{\"outlinewidth\":0,\"ticks\":\"\"},\"colorscale\":[[0.0,\"#0d0887\"],[0.1111111111111111,\"#46039f\"],[0.2222222222222222,\"#7201a8\"],[0.3333333333333333,\"#9c179e\"],[0.4444444444444444,\"#bd3786\"],[0.5555555555555556,\"#d8576b\"],[0.6666666666666666,\"#ed7953\"],[0.7777777777777778,\"#fb9f3a\"],[0.8888888888888888,\"#fdca26\"],[1.0,\"#f0f921\"]]}],\"heatmapgl\":[{\"type\":\"heatmapgl\",\"colorbar\":{\"outlinewidth\":0,\"ticks\":\"\"},\"colorscale\":[[0.0,\"#0d0887\"],[0.1111111111111111,\"#46039f\"],[0.2222222222222222,\"#7201a8\"],[0.3333333333333333,\"#9c179e\"],[0.4444444444444444,\"#bd3786\"],[0.5555555555555556,\"#d8576b\"],[0.6666666666666666,\"#ed7953\"],[0.7777777777777778,\"#fb9f3a\"],[0.8888888888888888,\"#fdca26\"],[1.0,\"#f0f921\"]]}],\"contourcarpet\":[{\"type\":\"contourcarpet\",\"colorbar\":{\"outlinewidth\":0,\"ticks\":\"\"}}],\"contour\":[{\"type\":\"contour\",\"colorbar\":{\"outlinewidth\":0,\"ticks\":\"\"},\"colorscale\":[[0.0,\"#0d0887\"],[0.1111111111111111,\"#46039f\"],[0.2222222222222222,\"#7201a8\"],[0.3333333333333333,\"#9c179e\"],[0.4444444444444444,\"#bd3786\"],[0.5555555555555556,\"#d8576b\"],[0.6666666666666666,\"#ed7953\"],[0.7777777777777778,\"#fb9f3a\"],[0.8888888888888888,\"#fdca26\"],[1.0,\"#f0f921\"]]}],\"surface\":[{\"type\":\"surface\",\"colorbar\":{\"outlinewidth\":0,\"ticks\":\"\"},\"colorscale\":[[0.0,\"#0d0887\"],[0.1111111111111111,\"#46039f\"],[0.2222222222222222,\"#7201a8\"],[0.3333333333333333,\"#9c179e\"],[0.4444444444444444,\"#bd3786\"],[0.5555555555555556,\"#d8576b\"],[0.6666666666666666,\"#ed7953\"],[0.7777777777777778,\"#fb9f3a\"],[0.8888888888888888,\"#fdca26\"],[1.0,\"#f0f921\"]]}],\"mesh3d\":[{\"type\":\"mesh3d\",\"colorbar\":{\"outlinewidth\":0,\"ticks\":\"\"}}],\"scatter\":[{\"fillpattern\":{\"fillmode\":\"overlay\",\"size\":10,\"solidity\":0.2},\"type\":\"scatter\"}],\"parcoords\":[{\"type\":\"parcoords\",\"line\":{\"colorbar\":{\"outlinewidth\":0,\"ticks\":\"\"}}}],\"scatterpolargl\":[{\"type\":\"scatterpolargl\",\"marker\":{\"colorbar\":{\"outlinewidth\":0,\"ticks\":\"\"}}}],\"bar\":[{\"error_x\":{\"color\":\"#2a3f5f\"},\"error_y\":{\"color\":\"#2a3f5f\"},\"marker\":{\"line\":{\"color\":\"#E5ECF6\",\"width\":0.5},\"pattern\":{\"fillmode\":\"overlay\",\"size\":10,\"solidity\":0.2}},\"type\":\"bar\"}],\"scattergeo\":[{\"type\":\"scattergeo\",\"marker\":{\"colorbar\":{\"outlinewidth\":0,\"ticks\":\"\"}}}],\"scatterpolar\":[{\"type\":\"scatterpolar\",\"marker\":{\"colorbar\":{\"outlinewidth\":0,\"ticks\":\"\"}}}],\"histogram\":[{\"marker\":{\"pattern\":{\"fillmode\":\"overlay\",\"size\":10,\"solidity\":0.2}},\"type\":\"histogram\"}],\"scattergl\":[{\"type\":\"scattergl\",\"marker\":{\"colorbar\":{\"outlinewidth\":0,\"ticks\":\"\"}}}],\"scatter3d\":[{\"type\":\"scatter3d\",\"line\":{\"colorbar\":{\"outlinewidth\":0,\"ticks\":\"\"}},\"marker\":{\"colorbar\":{\"outlinewidth\":0,\"ticks\":\"\"}}}],\"scattermapbox\":[{\"type\":\"scattermapbox\",\"marker\":{\"colorbar\":{\"outlinewidth\":0,\"ticks\":\"\"}}}],\"scatterternary\":[{\"type\":\"scatterternary\",\"marker\":{\"colorbar\":{\"outlinewidth\":0,\"ticks\":\"\"}}}],\"scattercarpet\":[{\"type\":\"scattercarpet\",\"marker\":{\"colorbar\":{\"outlinewidth\":0,\"ticks\":\"\"}}}],\"carpet\":[{\"aaxis\":{\"endlinecolor\":\"#2a3f5f\",\"gridcolor\":\"white\",\"linecolor\":\"white\",\"minorgridcolor\":\"white\",\"startlinecolor\":\"#2a3f5f\"},\"baxis\":{\"endlinecolor\":\"#2a3f5f\",\"gridcolor\":\"white\",\"linecolor\":\"white\",\"minorgridcolor\":\"white\",\"startlinecolor\":\"#2a3f5f\"},\"type\":\"carpet\"}],\"table\":[{\"cells\":{\"fill\":{\"color\":\"#EBF0F8\"},\"line\":{\"color\":\"white\"}},\"header\":{\"fill\":{\"color\":\"#C8D4E3\"},\"line\":{\"color\":\"white\"}},\"type\":\"table\"}],\"barpolar\":[{\"marker\":{\"line\":{\"color\":\"#E5ECF6\",\"width\":0.5},\"pattern\":{\"fillmode\":\"overlay\",\"size\":10,\"solidity\":0.2}},\"type\":\"barpolar\"}],\"pie\":[{\"automargin\":true,\"type\":\"pie\"}]},\"layout\":{\"autotypenumbers\":\"strict\",\"colorway\":[\"#636efa\",\"#EF553B\",\"#00cc96\",\"#ab63fa\",\"#FFA15A\",\"#19d3f3\",\"#FF6692\",\"#B6E880\",\"#FF97FF\",\"#FECB52\"],\"font\":{\"color\":\"#2a3f5f\"},\"hovermode\":\"closest\",\"hoverlabel\":{\"align\":\"left\"},\"paper_bgcolor\":\"white\",\"plot_bgcolor\":\"#E5ECF6\",\"polar\":{\"bgcolor\":\"#E5ECF6\",\"angularaxis\":{\"gridcolor\":\"white\",\"linecolor\":\"white\",\"ticks\":\"\"},\"radialaxis\":{\"gridcolor\":\"white\",\"linecolor\":\"white\",\"ticks\":\"\"}},\"ternary\":{\"bgcolor\":\"#E5ECF6\",\"aaxis\":{\"gridcolor\":\"white\",\"linecolor\":\"white\",\"ticks\":\"\"},\"baxis\":{\"gridcolor\":\"white\",\"linecolor\":\"white\",\"ticks\":\"\"},\"caxis\":{\"gridcolor\":\"white\",\"linecolor\":\"white\",\"ticks\":\"\"}},\"coloraxis\":{\"colorbar\":{\"outlinewidth\":0,\"ticks\":\"\"}},\"colorscale\":{\"sequential\":[[0.0,\"#0d0887\"],[0.1111111111111111,\"#46039f\"],[0.2222222222222222,\"#7201a8\"],[0.3333333333333333,\"#9c179e\"],[0.4444444444444444,\"#bd3786\"],[0.5555555555555556,\"#d8576b\"],[0.6666666666666666,\"#ed7953\"],[0.7777777777777778,\"#fb9f3a\"],[0.8888888888888888,\"#fdca26\"],[1.0,\"#f0f921\"]],\"sequentialminus\":[[0.0,\"#0d0887\"],[0.1111111111111111,\"#46039f\"],[0.2222222222222222,\"#7201a8\"],[0.3333333333333333,\"#9c179e\"],[0.4444444444444444,\"#bd3786\"],[0.5555555555555556,\"#d8576b\"],[0.6666666666666666,\"#ed7953\"],[0.7777777777777778,\"#fb9f3a\"],[0.8888888888888888,\"#fdca26\"],[1.0,\"#f0f921\"]],\"diverging\":[[0,\"#8e0152\"],[0.1,\"#c51b7d\"],[0.2,\"#de77ae\"],[0.3,\"#f1b6da\"],[0.4,\"#fde0ef\"],[0.5,\"#f7f7f7\"],[0.6,\"#e6f5d0\"],[0.7,\"#b8e186\"],[0.8,\"#7fbc41\"],[0.9,\"#4d9221\"],[1,\"#276419\"]]},\"xaxis\":{\"gridcolor\":\"white\",\"linecolor\":\"white\",\"ticks\":\"\",\"title\":{\"standoff\":15},\"zerolinecolor\":\"white\",\"automargin\":true,\"zerolinewidth\":2},\"yaxis\":{\"gridcolor\":\"white\",\"linecolor\":\"white\",\"ticks\":\"\",\"title\":{\"standoff\":15},\"zerolinecolor\":\"white\",\"automargin\":true,\"zerolinewidth\":2},\"scene\":{\"xaxis\":{\"backgroundcolor\":\"#E5ECF6\",\"gridcolor\":\"white\",\"linecolor\":\"white\",\"showbackground\":true,\"ticks\":\"\",\"zerolinecolor\":\"white\",\"gridwidth\":2},\"yaxis\":{\"backgroundcolor\":\"#E5ECF6\",\"gridcolor\":\"white\",\"linecolor\":\"white\",\"showbackground\":true,\"ticks\":\"\",\"zerolinecolor\":\"white\",\"gridwidth\":2},\"zaxis\":{\"backgroundcolor\":\"#E5ECF6\",\"gridcolor\":\"white\",\"linecolor\":\"white\",\"showbackground\":true,\"ticks\":\"\",\"zerolinecolor\":\"white\",\"gridwidth\":2}},\"shapedefaults\":{\"line\":{\"color\":\"#2a3f5f\"}},\"annotationdefaults\":{\"arrowcolor\":\"#2a3f5f\",\"arrowhead\":0,\"arrowwidth\":1},\"geo\":{\"bgcolor\":\"white\",\"landcolor\":\"#E5ECF6\",\"subunitcolor\":\"white\",\"showland\":true,\"showlakes\":true,\"lakecolor\":\"white\"},\"title\":{\"x\":0.05},\"mapbox\":{\"style\":\"light\"}}},\"xaxis\":{\"anchor\":\"y\",\"domain\":[0.0,0.98],\"title\":{\"text\":\"Date\"}},\"yaxis\":{\"anchor\":\"x\",\"domain\":[0.0,0.3133333333333333],\"title\":{\"text\":\"Diapers\"}},\"xaxis2\":{\"anchor\":\"y2\",\"domain\":[0.0,0.98],\"matches\":\"x\",\"showticklabels\":false},\"yaxis2\":{\"anchor\":\"x2\",\"domain\":[0.34333333333333327,0.6566666666666665],\"matches\":\"y\",\"title\":{\"text\":\"Diapers\"}},\"xaxis3\":{\"anchor\":\"y3\",\"domain\":[0.0,0.98],\"matches\":\"x\",\"showticklabels\":false},\"yaxis3\":{\"anchor\":\"x3\",\"domain\":[0.6866666666666665,0.9999999999999998],\"matches\":\"y\",\"title\":{\"text\":\"Diapers\"}},\"annotations\":[{\"font\":{},\"showarrow\":false,\"text\":\"Size=small\",\"textangle\":90,\"x\":0.98,\"xanchor\":\"left\",\"xref\":\"paper\",\"y\":0.15666666666666665,\"yanchor\":\"middle\",\"yref\":\"paper\"},{\"font\":{},\"showarrow\":false,\"text\":\"Size=medium\",\"textangle\":90,\"x\":0.98,\"xanchor\":\"left\",\"xref\":\"paper\",\"y\":0.4999999999999999,\"yanchor\":\"middle\",\"yref\":\"paper\"},{\"font\":{},\"showarrow\":false,\"text\":\"Size=large\",\"textangle\":90,\"x\":0.98,\"xanchor\":\"left\",\"xref\":\"paper\",\"y\":0.8433333333333332,\"yanchor\":\"middle\",\"yref\":\"paper\"}],\"legend\":{\"title\":{\"text\":\"Type\"},\"tracegroupgap\":0},\"margin\":{\"t\":60},\"barmode\":\"relative\",\"title\":{\"text\":\"Isaak's Diapers over time, by type and size\",\"x\":0.5},\"height\":800},                        {\"responsive\": true}                    ).then(function(){\n",
       "                            \n",
       "var gd = document.getElementById('b3ac361e-1ef4-4128-9acd-e96bdd552044');\n",
       "var x = new MutationObserver(function (mutations, observer) {{\n",
       "        var display = window.getComputedStyle(gd).display;\n",
       "        if (!display || display === 'none') {{\n",
       "            console.log([gd, 'removed!']);\n",
       "            Plotly.purge(gd);\n",
       "            observer.disconnect();\n",
       "        }}\n",
       "}});\n",
       "\n",
       "// Listen for the removal of the full notebook cells\n",
       "var notebookContainer = gd.closest('#notebook-container');\n",
       "if (notebookContainer) {{\n",
       "    x.observe(notebookContainer, {childList: true});\n",
       "}}\n",
       "\n",
       "// Listen for the clearing of the current output cell\n",
       "var outputEl = gd.closest('.output');\n",
       "if (outputEl) {{\n",
       "    x.observe(outputEl, {childList: true});\n",
       "}}\n",
       "\n",
       "                        })                };                });            </script>        </div>"
      ]
     },
     "metadata": {},
     "output_type": "display_data"
    }
   ],
   "source": [
    "fig = px.bar(\n",
    "    diaper_type_by_date,\n",
    "    x=\"Date\",\n",
    "    y=\"Diapers\",\n",
    "    color=\"diaper_type\",\n",
    "    facet_row=\"diaper_size\",\n",
    "    color_discrete_map={\"pee\": \"goldenrod\", \"poo\": \"maroon\"},\n",
    "    category_orders={\"diaper_size\": [\"large\", \"medium\", \"small\"]},\n",
    "    labels={\"diaper_type\": \"Type\", \"diaper_size\": \"Size\"},\n",
    ")\n",
    "fig.update_layout(title_text=\"Isaak's Diapers over time, by type and size\", title_x=0.5)\n",
    "fig.update_layout(height=800)\n",
    "fig.show()\n",
    "fig.write_html(\"isaak_diapers_over_time_by_type_and_size.html\")"
   ]
  },
  {
   "cell_type": "markdown",
   "id": "67204b98-c55e-499c-8953-273b494a4cd9",
   "metadata": {},
   "source": [
    "I've had this idea to _encode_ the diaper size as an integer, such that you can look at \"total output\" for a given day, instead of trying to mentally map what `small`, `medium`, and `large` mean. Let's try it!"
   ]
  },
  {
   "cell_type": "code",
   "execution_count": 329,
   "id": "830574cd-17f3-426d-9cd7-5cde325d8f6a",
   "metadata": {},
   "outputs": [],
   "source": [
    "def encode_diaper_size(s: str) -> int:\n",
    "    diaper_size_map = {\"small\": 1, \"medium\": 2, \"large\": 3}\n",
    "    return diaper_size_map[s.lower()]"
   ]
  },
  {
   "cell_type": "code",
   "execution_count": 330,
   "id": "f04105de-602d-4532-895b-1ce0d73f4a9b",
   "metadata": {},
   "outputs": [],
   "source": [
    "diaper_type_by_date[\"diaper_size_encoded\"] = diaper_type_by_date[\"diaper_size\"].apply(\n",
    "    encode_diaper_size\n",
    ")\n",
    "diaper_type_by_date[\"diaper_output\"] = (\n",
    "    diaper_type_by_date[\"diaper_size_encoded\"] * diaper_type_by_date[\"Diapers\"]\n",
    ")\n",
    "diaper_output = diaper_type_by_date.groupby(\"Date\")[\"diaper_output\"].sum().reset_index()\n",
    "\n",
    "# Compute some quick stats\n",
    "diaper_output_mean = np.mean(diaper_output[\"diaper_output\"])\n",
    "diaper_output_std = np.std(diaper_output[\"diaper_output\"])"
   ]
  },
  {
   "cell_type": "code",
   "execution_count": 331,
   "id": "44fb87b5-e996-4f99-a404-77ad1b80a320",
   "metadata": {},
   "outputs": [
    {
     "data": {
      "application/vnd.plotly.v1+json": {
       "config": {
        "plotlyServerURL": "https://plot.ly"
       },
       "data": [
        {
         "alignmentgroup": "True",
         "hovertemplate": "Date=%{x}<br>Total Diaper Output=%{y}<extra></extra>",
         "legendgroup": "",
         "marker": {
          "color": "#636efa",
          "pattern": {
           "shape": ""
          }
         },
         "name": "",
         "offsetgroup": "",
         "orientation": "v",
         "showlegend": false,
         "textposition": "auto",
         "type": "bar",
         "x": [
          "2024-02-03",
          "2024-02-04",
          "2024-02-05",
          "2024-02-06",
          "2024-02-07",
          "2024-02-08",
          "2024-02-09",
          "2024-02-10",
          "2024-02-11",
          "2024-02-12",
          "2024-02-13",
          "2024-02-14",
          "2024-02-15",
          "2024-02-16",
          "2024-02-17",
          "2024-02-18",
          "2024-02-19",
          "2024-02-20",
          "2024-02-21",
          "2024-02-22",
          "2024-02-23",
          "2024-02-24",
          "2024-02-25",
          "2024-02-26",
          "2024-02-27",
          "2024-02-28",
          "2024-02-29",
          "2024-03-01",
          "2024-03-02",
          "2024-03-03",
          "2024-03-04",
          "2024-03-05",
          "2024-03-06",
          "2024-03-07",
          "2024-03-08",
          "2024-03-09",
          "2024-03-10",
          "2024-03-11",
          "2024-03-12",
          "2024-03-13",
          "2024-03-14",
          "2024-03-15",
          "2024-03-16",
          "2024-03-17",
          "2024-03-18",
          "2024-03-19",
          "2024-03-20",
          "2024-03-21",
          "2024-03-22",
          "2024-03-23",
          "2024-03-24",
          "2024-03-25",
          "2024-03-26",
          "2024-03-27",
          "2024-03-28",
          "2024-03-29",
          "2024-03-30",
          "2024-03-31",
          "2024-04-01",
          "2024-04-02",
          "2024-04-03",
          "2024-04-04",
          "2024-04-05",
          "2024-04-06",
          "2024-04-07",
          "2024-04-08",
          "2024-04-09",
          "2024-04-10",
          "2024-04-11",
          "2024-04-12",
          "2024-04-13",
          "2024-04-14",
          "2024-04-15",
          "2024-04-16",
          "2024-04-17",
          "2024-04-18",
          "2024-04-19",
          "2024-04-20",
          "2024-04-21",
          "2024-04-22",
          "2024-04-23",
          "2024-04-24",
          "2024-04-25",
          "2024-04-26",
          "2024-04-27",
          "2024-04-28",
          "2024-04-29",
          "2024-04-30",
          "2024-05-01",
          "2024-05-02",
          "2024-05-03",
          "2024-05-04",
          "2024-05-05",
          "2024-05-06",
          "2024-05-07",
          "2024-05-08",
          "2024-05-09",
          "2024-05-10",
          "2024-05-11",
          "2024-05-12",
          "2024-05-13",
          "2024-05-14",
          "2024-05-15",
          "2024-05-16",
          "2024-05-17",
          "2024-05-18",
          "2024-05-19",
          "2024-05-20",
          "2024-05-22",
          "2024-05-23",
          "2024-05-24",
          "2024-05-25",
          "2024-05-26",
          "2024-05-27",
          "2024-05-28",
          "2024-05-29",
          "2024-05-30",
          "2024-05-31",
          "2024-06-01",
          "2024-06-02",
          "2024-06-03",
          "2024-06-04",
          "2024-06-05",
          "2024-06-06",
          "2024-06-07",
          "2024-06-08"
         ],
         "xaxis": "x",
         "y": [
          24,
          15,
          33,
          45,
          46,
          41,
          42,
          40,
          39,
          37,
          32,
          18,
          40,
          20,
          43,
          17,
          28,
          37,
          35,
          31,
          30,
          41,
          30,
          24,
          34,
          21,
          35,
          24,
          31,
          31,
          35,
          27,
          29,
          41,
          29,
          29,
          19,
          30,
          17,
          31,
          22,
          24,
          32,
          34,
          27,
          25,
          24,
          26,
          23,
          31,
          25,
          34,
          27,
          20,
          35,
          25,
          24,
          27,
          29,
          25,
          23,
          30,
          21,
          17,
          25,
          24,
          29,
          31,
          25,
          27,
          38,
          23,
          17,
          18,
          26,
          26,
          23,
          24,
          20,
          21,
          25,
          22,
          19,
          18,
          25,
          11,
          26,
          31,
          23,
          22,
          21,
          23,
          31,
          18,
          24,
          17,
          17,
          24,
          21,
          24,
          24,
          15,
          10,
          13,
          12,
          10,
          15,
          6,
          4,
          32,
          22,
          23,
          16,
          24,
          24,
          14,
          17,
          30,
          17,
          25,
          16,
          18,
          17,
          21,
          23,
          8
         ],
         "yaxis": "y"
        }
       ],
       "layout": {
        "annotations": [
         {
          "showarrow": false,
          "text": "Average Output",
          "x": 1,
          "xanchor": "right",
          "xref": "x domain",
          "xshift": -300,
          "y": 25.206349206349206,
          "yanchor": "bottom",
          "yref": "y"
         }
        ],
        "autosize": true,
        "barmode": "relative",
        "legend": {
         "tracegroupgap": 0
        },
        "margin": {
         "t": 60
        },
        "shapes": [
         {
          "line": {
           "color": "green",
           "dash": "dash"
          },
          "type": "line",
          "x0": 0,
          "x1": 1,
          "xref": "x domain",
          "y0": 25.206349206349206,
          "y1": 25.206349206349206,
          "yref": "y"
         }
        ],
        "template": {
         "data": {
          "bar": [
           {
            "error_x": {
             "color": "#2a3f5f"
            },
            "error_y": {
             "color": "#2a3f5f"
            },
            "marker": {
             "line": {
              "color": "#E5ECF6",
              "width": 0.5
             },
             "pattern": {
              "fillmode": "overlay",
              "size": 10,
              "solidity": 0.2
             }
            },
            "type": "bar"
           }
          ],
          "barpolar": [
           {
            "marker": {
             "line": {
              "color": "#E5ECF6",
              "width": 0.5
             },
             "pattern": {
              "fillmode": "overlay",
              "size": 10,
              "solidity": 0.2
             }
            },
            "type": "barpolar"
           }
          ],
          "carpet": [
           {
            "aaxis": {
             "endlinecolor": "#2a3f5f",
             "gridcolor": "white",
             "linecolor": "white",
             "minorgridcolor": "white",
             "startlinecolor": "#2a3f5f"
            },
            "baxis": {
             "endlinecolor": "#2a3f5f",
             "gridcolor": "white",
             "linecolor": "white",
             "minorgridcolor": "white",
             "startlinecolor": "#2a3f5f"
            },
            "type": "carpet"
           }
          ],
          "choropleth": [
           {
            "colorbar": {
             "outlinewidth": 0,
             "ticks": ""
            },
            "type": "choropleth"
           }
          ],
          "contour": [
           {
            "colorbar": {
             "outlinewidth": 0,
             "ticks": ""
            },
            "colorscale": [
             [
              0,
              "#0d0887"
             ],
             [
              0.1111111111111111,
              "#46039f"
             ],
             [
              0.2222222222222222,
              "#7201a8"
             ],
             [
              0.3333333333333333,
              "#9c179e"
             ],
             [
              0.4444444444444444,
              "#bd3786"
             ],
             [
              0.5555555555555556,
              "#d8576b"
             ],
             [
              0.6666666666666666,
              "#ed7953"
             ],
             [
              0.7777777777777778,
              "#fb9f3a"
             ],
             [
              0.8888888888888888,
              "#fdca26"
             ],
             [
              1,
              "#f0f921"
             ]
            ],
            "type": "contour"
           }
          ],
          "contourcarpet": [
           {
            "colorbar": {
             "outlinewidth": 0,
             "ticks": ""
            },
            "type": "contourcarpet"
           }
          ],
          "heatmap": [
           {
            "colorbar": {
             "outlinewidth": 0,
             "ticks": ""
            },
            "colorscale": [
             [
              0,
              "#0d0887"
             ],
             [
              0.1111111111111111,
              "#46039f"
             ],
             [
              0.2222222222222222,
              "#7201a8"
             ],
             [
              0.3333333333333333,
              "#9c179e"
             ],
             [
              0.4444444444444444,
              "#bd3786"
             ],
             [
              0.5555555555555556,
              "#d8576b"
             ],
             [
              0.6666666666666666,
              "#ed7953"
             ],
             [
              0.7777777777777778,
              "#fb9f3a"
             ],
             [
              0.8888888888888888,
              "#fdca26"
             ],
             [
              1,
              "#f0f921"
             ]
            ],
            "type": "heatmap"
           }
          ],
          "heatmapgl": [
           {
            "colorbar": {
             "outlinewidth": 0,
             "ticks": ""
            },
            "colorscale": [
             [
              0,
              "#0d0887"
             ],
             [
              0.1111111111111111,
              "#46039f"
             ],
             [
              0.2222222222222222,
              "#7201a8"
             ],
             [
              0.3333333333333333,
              "#9c179e"
             ],
             [
              0.4444444444444444,
              "#bd3786"
             ],
             [
              0.5555555555555556,
              "#d8576b"
             ],
             [
              0.6666666666666666,
              "#ed7953"
             ],
             [
              0.7777777777777778,
              "#fb9f3a"
             ],
             [
              0.8888888888888888,
              "#fdca26"
             ],
             [
              1,
              "#f0f921"
             ]
            ],
            "type": "heatmapgl"
           }
          ],
          "histogram": [
           {
            "marker": {
             "pattern": {
              "fillmode": "overlay",
              "size": 10,
              "solidity": 0.2
             }
            },
            "type": "histogram"
           }
          ],
          "histogram2d": [
           {
            "colorbar": {
             "outlinewidth": 0,
             "ticks": ""
            },
            "colorscale": [
             [
              0,
              "#0d0887"
             ],
             [
              0.1111111111111111,
              "#46039f"
             ],
             [
              0.2222222222222222,
              "#7201a8"
             ],
             [
              0.3333333333333333,
              "#9c179e"
             ],
             [
              0.4444444444444444,
              "#bd3786"
             ],
             [
              0.5555555555555556,
              "#d8576b"
             ],
             [
              0.6666666666666666,
              "#ed7953"
             ],
             [
              0.7777777777777778,
              "#fb9f3a"
             ],
             [
              0.8888888888888888,
              "#fdca26"
             ],
             [
              1,
              "#f0f921"
             ]
            ],
            "type": "histogram2d"
           }
          ],
          "histogram2dcontour": [
           {
            "colorbar": {
             "outlinewidth": 0,
             "ticks": ""
            },
            "colorscale": [
             [
              0,
              "#0d0887"
             ],
             [
              0.1111111111111111,
              "#46039f"
             ],
             [
              0.2222222222222222,
              "#7201a8"
             ],
             [
              0.3333333333333333,
              "#9c179e"
             ],
             [
              0.4444444444444444,
              "#bd3786"
             ],
             [
              0.5555555555555556,
              "#d8576b"
             ],
             [
              0.6666666666666666,
              "#ed7953"
             ],
             [
              0.7777777777777778,
              "#fb9f3a"
             ],
             [
              0.8888888888888888,
              "#fdca26"
             ],
             [
              1,
              "#f0f921"
             ]
            ],
            "type": "histogram2dcontour"
           }
          ],
          "mesh3d": [
           {
            "colorbar": {
             "outlinewidth": 0,
             "ticks": ""
            },
            "type": "mesh3d"
           }
          ],
          "parcoords": [
           {
            "line": {
             "colorbar": {
              "outlinewidth": 0,
              "ticks": ""
             }
            },
            "type": "parcoords"
           }
          ],
          "pie": [
           {
            "automargin": true,
            "type": "pie"
           }
          ],
          "scatter": [
           {
            "fillpattern": {
             "fillmode": "overlay",
             "size": 10,
             "solidity": 0.2
            },
            "type": "scatter"
           }
          ],
          "scatter3d": [
           {
            "line": {
             "colorbar": {
              "outlinewidth": 0,
              "ticks": ""
             }
            },
            "marker": {
             "colorbar": {
              "outlinewidth": 0,
              "ticks": ""
             }
            },
            "type": "scatter3d"
           }
          ],
          "scattercarpet": [
           {
            "marker": {
             "colorbar": {
              "outlinewidth": 0,
              "ticks": ""
             }
            },
            "type": "scattercarpet"
           }
          ],
          "scattergeo": [
           {
            "marker": {
             "colorbar": {
              "outlinewidth": 0,
              "ticks": ""
             }
            },
            "type": "scattergeo"
           }
          ],
          "scattergl": [
           {
            "marker": {
             "colorbar": {
              "outlinewidth": 0,
              "ticks": ""
             }
            },
            "type": "scattergl"
           }
          ],
          "scattermapbox": [
           {
            "marker": {
             "colorbar": {
              "outlinewidth": 0,
              "ticks": ""
             }
            },
            "type": "scattermapbox"
           }
          ],
          "scatterpolar": [
           {
            "marker": {
             "colorbar": {
              "outlinewidth": 0,
              "ticks": ""
             }
            },
            "type": "scatterpolar"
           }
          ],
          "scatterpolargl": [
           {
            "marker": {
             "colorbar": {
              "outlinewidth": 0,
              "ticks": ""
             }
            },
            "type": "scatterpolargl"
           }
          ],
          "scatterternary": [
           {
            "marker": {
             "colorbar": {
              "outlinewidth": 0,
              "ticks": ""
             }
            },
            "type": "scatterternary"
           }
          ],
          "surface": [
           {
            "colorbar": {
             "outlinewidth": 0,
             "ticks": ""
            },
            "colorscale": [
             [
              0,
              "#0d0887"
             ],
             [
              0.1111111111111111,
              "#46039f"
             ],
             [
              0.2222222222222222,
              "#7201a8"
             ],
             [
              0.3333333333333333,
              "#9c179e"
             ],
             [
              0.4444444444444444,
              "#bd3786"
             ],
             [
              0.5555555555555556,
              "#d8576b"
             ],
             [
              0.6666666666666666,
              "#ed7953"
             ],
             [
              0.7777777777777778,
              "#fb9f3a"
             ],
             [
              0.8888888888888888,
              "#fdca26"
             ],
             [
              1,
              "#f0f921"
             ]
            ],
            "type": "surface"
           }
          ],
          "table": [
           {
            "cells": {
             "fill": {
              "color": "#EBF0F8"
             },
             "line": {
              "color": "white"
             }
            },
            "header": {
             "fill": {
              "color": "#C8D4E3"
             },
             "line": {
              "color": "white"
             }
            },
            "type": "table"
           }
          ]
         },
         "layout": {
          "annotationdefaults": {
           "arrowcolor": "#2a3f5f",
           "arrowhead": 0,
           "arrowwidth": 1
          },
          "autotypenumbers": "strict",
          "coloraxis": {
           "colorbar": {
            "outlinewidth": 0,
            "ticks": ""
           }
          },
          "colorscale": {
           "diverging": [
            [
             0,
             "#8e0152"
            ],
            [
             0.1,
             "#c51b7d"
            ],
            [
             0.2,
             "#de77ae"
            ],
            [
             0.3,
             "#f1b6da"
            ],
            [
             0.4,
             "#fde0ef"
            ],
            [
             0.5,
             "#f7f7f7"
            ],
            [
             0.6,
             "#e6f5d0"
            ],
            [
             0.7,
             "#b8e186"
            ],
            [
             0.8,
             "#7fbc41"
            ],
            [
             0.9,
             "#4d9221"
            ],
            [
             1,
             "#276419"
            ]
           ],
           "sequential": [
            [
             0,
             "#0d0887"
            ],
            [
             0.1111111111111111,
             "#46039f"
            ],
            [
             0.2222222222222222,
             "#7201a8"
            ],
            [
             0.3333333333333333,
             "#9c179e"
            ],
            [
             0.4444444444444444,
             "#bd3786"
            ],
            [
             0.5555555555555556,
             "#d8576b"
            ],
            [
             0.6666666666666666,
             "#ed7953"
            ],
            [
             0.7777777777777778,
             "#fb9f3a"
            ],
            [
             0.8888888888888888,
             "#fdca26"
            ],
            [
             1,
             "#f0f921"
            ]
           ],
           "sequentialminus": [
            [
             0,
             "#0d0887"
            ],
            [
             0.1111111111111111,
             "#46039f"
            ],
            [
             0.2222222222222222,
             "#7201a8"
            ],
            [
             0.3333333333333333,
             "#9c179e"
            ],
            [
             0.4444444444444444,
             "#bd3786"
            ],
            [
             0.5555555555555556,
             "#d8576b"
            ],
            [
             0.6666666666666666,
             "#ed7953"
            ],
            [
             0.7777777777777778,
             "#fb9f3a"
            ],
            [
             0.8888888888888888,
             "#fdca26"
            ],
            [
             1,
             "#f0f921"
            ]
           ]
          },
          "colorway": [
           "#636efa",
           "#EF553B",
           "#00cc96",
           "#ab63fa",
           "#FFA15A",
           "#19d3f3",
           "#FF6692",
           "#B6E880",
           "#FF97FF",
           "#FECB52"
          ],
          "font": {
           "color": "#2a3f5f"
          },
          "geo": {
           "bgcolor": "white",
           "lakecolor": "white",
           "landcolor": "#E5ECF6",
           "showlakes": true,
           "showland": true,
           "subunitcolor": "white"
          },
          "hoverlabel": {
           "align": "left"
          },
          "hovermode": "closest",
          "mapbox": {
           "style": "light"
          },
          "paper_bgcolor": "white",
          "plot_bgcolor": "#E5ECF6",
          "polar": {
           "angularaxis": {
            "gridcolor": "white",
            "linecolor": "white",
            "ticks": ""
           },
           "bgcolor": "#E5ECF6",
           "radialaxis": {
            "gridcolor": "white",
            "linecolor": "white",
            "ticks": ""
           }
          },
          "scene": {
           "xaxis": {
            "backgroundcolor": "#E5ECF6",
            "gridcolor": "white",
            "gridwidth": 2,
            "linecolor": "white",
            "showbackground": true,
            "ticks": "",
            "zerolinecolor": "white"
           },
           "yaxis": {
            "backgroundcolor": "#E5ECF6",
            "gridcolor": "white",
            "gridwidth": 2,
            "linecolor": "white",
            "showbackground": true,
            "ticks": "",
            "zerolinecolor": "white"
           },
           "zaxis": {
            "backgroundcolor": "#E5ECF6",
            "gridcolor": "white",
            "gridwidth": 2,
            "linecolor": "white",
            "showbackground": true,
            "ticks": "",
            "zerolinecolor": "white"
           }
          },
          "shapedefaults": {
           "line": {
            "color": "#2a3f5f"
           }
          },
          "ternary": {
           "aaxis": {
            "gridcolor": "white",
            "linecolor": "white",
            "ticks": ""
           },
           "baxis": {
            "gridcolor": "white",
            "linecolor": "white",
            "ticks": ""
           },
           "bgcolor": "#E5ECF6",
           "caxis": {
            "gridcolor": "white",
            "linecolor": "white",
            "ticks": ""
           }
          },
          "title": {
           "x": 0.05
          },
          "xaxis": {
           "automargin": true,
           "gridcolor": "white",
           "linecolor": "white",
           "ticks": "",
           "title": {
            "standoff": 15
           },
           "zerolinecolor": "white",
           "zerolinewidth": 2
          },
          "yaxis": {
           "automargin": true,
           "gridcolor": "white",
           "linecolor": "white",
           "ticks": "",
           "title": {
            "standoff": 15
           },
           "zerolinecolor": "white",
           "zerolinewidth": 2
          }
         }
        },
        "title": {
         "text": "Isaak's Diapers Output, by Date (integer encoded)",
         "x": 0.5
        },
        "xaxis": {
         "anchor": "y",
         "autorange": true,
         "domain": [
          0,
          1
         ],
         "range": [
          "2024-02-02 12:00",
          "2024-06-08 12:00"
         ],
         "title": {
          "text": "Date"
         },
         "type": "date"
        },
        "yaxis": {
         "anchor": "x",
         "autorange": true,
         "domain": [
          0,
          1
         ],
         "range": [
          0,
          48.421052631578945
         ],
         "title": {
          "text": "Total Diaper Output"
         },
         "type": "linear"
        }
       }
      },
      "image/png": "[encoded data removed]",
      "text/html": [
       "<div>                            <div id=\"2f8d4c8f-bf5e-4d18-bfc2-0446d8432c8a\" class=\"plotly-graph-div\" style=\"height:525px; width:100%;\"></div>            <script type=\"text/javascript\">                require([\"plotly\"], function(Plotly) {                    window.PLOTLYENV=window.PLOTLYENV || {};                                    if (document.getElementById(\"2f8d4c8f-bf5e-4d18-bfc2-0446d8432c8a\")) {                    Plotly.newPlot(                        \"2f8d4c8f-bf5e-4d18-bfc2-0446d8432c8a\",                        [{\"alignmentgroup\":\"True\",\"hovertemplate\":\"Date=%{x}\\u003cbr\\u003eTotal Diaper Output=%{y}\\u003cextra\\u003e\\u003c\\u002fextra\\u003e\",\"legendgroup\":\"\",\"marker\":{\"color\":\"#636efa\",\"pattern\":{\"shape\":\"\"}},\"name\":\"\",\"offsetgroup\":\"\",\"orientation\":\"v\",\"showlegend\":false,\"textposition\":\"auto\",\"x\":[\"2024-02-03\",\"2024-02-04\",\"2024-02-05\",\"2024-02-06\",\"2024-02-07\",\"2024-02-08\",\"2024-02-09\",\"2024-02-10\",\"2024-02-11\",\"2024-02-12\",\"2024-02-13\",\"2024-02-14\",\"2024-02-15\",\"2024-02-16\",\"2024-02-17\",\"2024-02-18\",\"2024-02-19\",\"2024-02-20\",\"2024-02-21\",\"2024-02-22\",\"2024-02-23\",\"2024-02-24\",\"2024-02-25\",\"2024-02-26\",\"2024-02-27\",\"2024-02-28\",\"2024-02-29\",\"2024-03-01\",\"2024-03-02\",\"2024-03-03\",\"2024-03-04\",\"2024-03-05\",\"2024-03-06\",\"2024-03-07\",\"2024-03-08\",\"2024-03-09\",\"2024-03-10\",\"2024-03-11\",\"2024-03-12\",\"2024-03-13\",\"2024-03-14\",\"2024-03-15\",\"2024-03-16\",\"2024-03-17\",\"2024-03-18\",\"2024-03-19\",\"2024-03-20\",\"2024-03-21\",\"2024-03-22\",\"2024-03-23\",\"2024-03-24\",\"2024-03-25\",\"2024-03-26\",\"2024-03-27\",\"2024-03-28\",\"2024-03-29\",\"2024-03-30\",\"2024-03-31\",\"2024-04-01\",\"2024-04-02\",\"2024-04-03\",\"2024-04-04\",\"2024-04-05\",\"2024-04-06\",\"2024-04-07\",\"2024-04-08\",\"2024-04-09\",\"2024-04-10\",\"2024-04-11\",\"2024-04-12\",\"2024-04-13\",\"2024-04-14\",\"2024-04-15\",\"2024-04-16\",\"2024-04-17\",\"2024-04-18\",\"2024-04-19\",\"2024-04-20\",\"2024-04-21\",\"2024-04-22\",\"2024-04-23\",\"2024-04-24\",\"2024-04-25\",\"2024-04-26\",\"2024-04-27\",\"2024-04-28\",\"2024-04-29\",\"2024-04-30\",\"2024-05-01\",\"2024-05-02\",\"2024-05-03\",\"2024-05-04\",\"2024-05-05\",\"2024-05-06\",\"2024-05-07\",\"2024-05-08\",\"2024-05-09\",\"2024-05-10\",\"2024-05-11\",\"2024-05-12\",\"2024-05-13\",\"2024-05-14\",\"2024-05-15\",\"2024-05-16\",\"2024-05-17\",\"2024-05-18\",\"2024-05-19\",\"2024-05-20\",\"2024-05-22\",\"2024-05-23\",\"2024-05-24\",\"2024-05-25\",\"2024-05-26\",\"2024-05-27\",\"2024-05-28\",\"2024-05-29\",\"2024-05-30\",\"2024-05-31\",\"2024-06-01\",\"2024-06-02\",\"2024-06-03\",\"2024-06-04\",\"2024-06-05\",\"2024-06-06\",\"2024-06-07\",\"2024-06-08\"],\"xaxis\":\"x\",\"y\":[24,15,33,45,46,41,42,40,39,37,32,18,40,20,43,17,28,37,35,31,30,41,30,24,34,21,35,24,31,31,35,27,29,41,29,29,19,30,17,31,22,24,32,34,27,25,24,26,23,31,25,34,27,20,35,25,24,27,29,25,23,30,21,17,25,24,29,31,25,27,38,23,17,18,26,26,23,24,20,21,25,22,19,18,25,11,26,31,23,22,21,23,31,18,24,17,17,24,21,24,24,15,10,13,12,10,15,6,4,32,22,23,16,24,24,14,17,30,17,25,16,18,17,21,23,8],\"yaxis\":\"y\",\"type\":\"bar\"}],                        {\"template\":{\"data\":{\"histogram2dcontour\":[{\"type\":\"histogram2dcontour\",\"colorbar\":{\"outlinewidth\":0,\"ticks\":\"\"},\"colorscale\":[[0.0,\"#0d0887\"],[0.1111111111111111,\"#46039f\"],[0.2222222222222222,\"#7201a8\"],[0.3333333333333333,\"#9c179e\"],[0.4444444444444444,\"#bd3786\"],[0.5555555555555556,\"#d8576b\"],[0.6666666666666666,\"#ed7953\"],[0.7777777777777778,\"#fb9f3a\"],[0.8888888888888888,\"#fdca26\"],[1.0,\"#f0f921\"]]}],\"choropleth\":[{\"type\":\"choropleth\",\"colorbar\":{\"outlinewidth\":0,\"ticks\":\"\"}}],\"histogram2d\":[{\"type\":\"histogram2d\",\"colorbar\":{\"outlinewidth\":0,\"ticks\":\"\"},\"colorscale\":[[0.0,\"#0d0887\"],[0.1111111111111111,\"#46039f\"],[0.2222222222222222,\"#7201a8\"],[0.3333333333333333,\"#9c179e\"],[0.4444444444444444,\"#bd3786\"],[0.5555555555555556,\"#d8576b\"],[0.6666666666666666,\"#ed7953\"],[0.7777777777777778,\"#fb9f3a\"],[0.8888888888888888,\"#fdca26\"],[1.0,\"#f0f921\"]]}],\"heatmap\":[{\"type\":\"heatmap\",\"colorbar\":{\"outlinewidth\":0,\"ticks\":\"\"},\"colorscale\":[[0.0,\"#0d0887\"],[0.1111111111111111,\"#46039f\"],[0.2222222222222222,\"#7201a8\"],[0.3333333333333333,\"#9c179e\"],[0.4444444444444444,\"#bd3786\"],[0.5555555555555556,\"#d8576b\"],[0.6666666666666666,\"#ed7953\"],[0.7777777777777778,\"#fb9f3a\"],[0.8888888888888888,\"#fdca26\"],[1.0,\"#f0f921\"]]}],\"heatmapgl\":[{\"type\":\"heatmapgl\",\"colorbar\":{\"outlinewidth\":0,\"ticks\":\"\"},\"colorscale\":[[0.0,\"#0d0887\"],[0.1111111111111111,\"#46039f\"],[0.2222222222222222,\"#7201a8\"],[0.3333333333333333,\"#9c179e\"],[0.4444444444444444,\"#bd3786\"],[0.5555555555555556,\"#d8576b\"],[0.6666666666666666,\"#ed7953\"],[0.7777777777777778,\"#fb9f3a\"],[0.8888888888888888,\"#fdca26\"],[1.0,\"#f0f921\"]]}],\"contourcarpet\":[{\"type\":\"contourcarpet\",\"colorbar\":{\"outlinewidth\":0,\"ticks\":\"\"}}],\"contour\":[{\"type\":\"contour\",\"colorbar\":{\"outlinewidth\":0,\"ticks\":\"\"},\"colorscale\":[[0.0,\"#0d0887\"],[0.1111111111111111,\"#46039f\"],[0.2222222222222222,\"#7201a8\"],[0.3333333333333333,\"#9c179e\"],[0.4444444444444444,\"#bd3786\"],[0.5555555555555556,\"#d8576b\"],[0.6666666666666666,\"#ed7953\"],[0.7777777777777778,\"#fb9f3a\"],[0.8888888888888888,\"#fdca26\"],[1.0,\"#f0f921\"]]}],\"surface\":[{\"type\":\"surface\",\"colorbar\":{\"outlinewidth\":0,\"ticks\":\"\"},\"colorscale\":[[0.0,\"#0d0887\"],[0.1111111111111111,\"#46039f\"],[0.2222222222222222,\"#7201a8\"],[0.3333333333333333,\"#9c179e\"],[0.4444444444444444,\"#bd3786\"],[0.5555555555555556,\"#d8576b\"],[0.6666666666666666,\"#ed7953\"],[0.7777777777777778,\"#fb9f3a\"],[0.8888888888888888,\"#fdca26\"],[1.0,\"#f0f921\"]]}],\"mesh3d\":[{\"type\":\"mesh3d\",\"colorbar\":{\"outlinewidth\":0,\"ticks\":\"\"}}],\"scatter\":[{\"fillpattern\":{\"fillmode\":\"overlay\",\"size\":10,\"solidity\":0.2},\"type\":\"scatter\"}],\"parcoords\":[{\"type\":\"parcoords\",\"line\":{\"colorbar\":{\"outlinewidth\":0,\"ticks\":\"\"}}}],\"scatterpolargl\":[{\"type\":\"scatterpolargl\",\"marker\":{\"colorbar\":{\"outlinewidth\":0,\"ticks\":\"\"}}}],\"bar\":[{\"error_x\":{\"color\":\"#2a3f5f\"},\"error_y\":{\"color\":\"#2a3f5f\"},\"marker\":{\"line\":{\"color\":\"#E5ECF6\",\"width\":0.5},\"pattern\":{\"fillmode\":\"overlay\",\"size\":10,\"solidity\":0.2}},\"type\":\"bar\"}],\"scattergeo\":[{\"type\":\"scattergeo\",\"marker\":{\"colorbar\":{\"outlinewidth\":0,\"ticks\":\"\"}}}],\"scatterpolar\":[{\"type\":\"scatterpolar\",\"marker\":{\"colorbar\":{\"outlinewidth\":0,\"ticks\":\"\"}}}],\"histogram\":[{\"marker\":{\"pattern\":{\"fillmode\":\"overlay\",\"size\":10,\"solidity\":0.2}},\"type\":\"histogram\"}],\"scattergl\":[{\"type\":\"scattergl\",\"marker\":{\"colorbar\":{\"outlinewidth\":0,\"ticks\":\"\"}}}],\"scatter3d\":[{\"type\":\"scatter3d\",\"line\":{\"colorbar\":{\"outlinewidth\":0,\"ticks\":\"\"}},\"marker\":{\"colorbar\":{\"outlinewidth\":0,\"ticks\":\"\"}}}],\"scattermapbox\":[{\"type\":\"scattermapbox\",\"marker\":{\"colorbar\":{\"outlinewidth\":0,\"ticks\":\"\"}}}],\"scatterternary\":[{\"type\":\"scatterternary\",\"marker\":{\"colorbar\":{\"outlinewidth\":0,\"ticks\":\"\"}}}],\"scattercarpet\":[{\"type\":\"scattercarpet\",\"marker\":{\"colorbar\":{\"outlinewidth\":0,\"ticks\":\"\"}}}],\"carpet\":[{\"aaxis\":{\"endlinecolor\":\"#2a3f5f\",\"gridcolor\":\"white\",\"linecolor\":\"white\",\"minorgridcolor\":\"white\",\"startlinecolor\":\"#2a3f5f\"},\"baxis\":{\"endlinecolor\":\"#2a3f5f\",\"gridcolor\":\"white\",\"linecolor\":\"white\",\"minorgridcolor\":\"white\",\"startlinecolor\":\"#2a3f5f\"},\"type\":\"carpet\"}],\"table\":[{\"cells\":{\"fill\":{\"color\":\"#EBF0F8\"},\"line\":{\"color\":\"white\"}},\"header\":{\"fill\":{\"color\":\"#C8D4E3\"},\"line\":{\"color\":\"white\"}},\"type\":\"table\"}],\"barpolar\":[{\"marker\":{\"line\":{\"color\":\"#E5ECF6\",\"width\":0.5},\"pattern\":{\"fillmode\":\"overlay\",\"size\":10,\"solidity\":0.2}},\"type\":\"barpolar\"}],\"pie\":[{\"automargin\":true,\"type\":\"pie\"}]},\"layout\":{\"autotypenumbers\":\"strict\",\"colorway\":[\"#636efa\",\"#EF553B\",\"#00cc96\",\"#ab63fa\",\"#FFA15A\",\"#19d3f3\",\"#FF6692\",\"#B6E880\",\"#FF97FF\",\"#FECB52\"],\"font\":{\"color\":\"#2a3f5f\"},\"hovermode\":\"closest\",\"hoverlabel\":{\"align\":\"left\"},\"paper_bgcolor\":\"white\",\"plot_bgcolor\":\"#E5ECF6\",\"polar\":{\"bgcolor\":\"#E5ECF6\",\"angularaxis\":{\"gridcolor\":\"white\",\"linecolor\":\"white\",\"ticks\":\"\"},\"radialaxis\":{\"gridcolor\":\"white\",\"linecolor\":\"white\",\"ticks\":\"\"}},\"ternary\":{\"bgcolor\":\"#E5ECF6\",\"aaxis\":{\"gridcolor\":\"white\",\"linecolor\":\"white\",\"ticks\":\"\"},\"baxis\":{\"gridcolor\":\"white\",\"linecolor\":\"white\",\"ticks\":\"\"},\"caxis\":{\"gridcolor\":\"white\",\"linecolor\":\"white\",\"ticks\":\"\"}},\"coloraxis\":{\"colorbar\":{\"outlinewidth\":0,\"ticks\":\"\"}},\"colorscale\":{\"sequential\":[[0.0,\"#0d0887\"],[0.1111111111111111,\"#46039f\"],[0.2222222222222222,\"#7201a8\"],[0.3333333333333333,\"#9c179e\"],[0.4444444444444444,\"#bd3786\"],[0.5555555555555556,\"#d8576b\"],[0.6666666666666666,\"#ed7953\"],[0.7777777777777778,\"#fb9f3a\"],[0.8888888888888888,\"#fdca26\"],[1.0,\"#f0f921\"]],\"sequentialminus\":[[0.0,\"#0d0887\"],[0.1111111111111111,\"#46039f\"],[0.2222222222222222,\"#7201a8\"],[0.3333333333333333,\"#9c179e\"],[0.4444444444444444,\"#bd3786\"],[0.5555555555555556,\"#d8576b\"],[0.6666666666666666,\"#ed7953\"],[0.7777777777777778,\"#fb9f3a\"],[0.8888888888888888,\"#fdca26\"],[1.0,\"#f0f921\"]],\"diverging\":[[0,\"#8e0152\"],[0.1,\"#c51b7d\"],[0.2,\"#de77ae\"],[0.3,\"#f1b6da\"],[0.4,\"#fde0ef\"],[0.5,\"#f7f7f7\"],[0.6,\"#e6f5d0\"],[0.7,\"#b8e186\"],[0.8,\"#7fbc41\"],[0.9,\"#4d9221\"],[1,\"#276419\"]]},\"xaxis\":{\"gridcolor\":\"white\",\"linecolor\":\"white\",\"ticks\":\"\",\"title\":{\"standoff\":15},\"zerolinecolor\":\"white\",\"automargin\":true,\"zerolinewidth\":2},\"yaxis\":{\"gridcolor\":\"white\",\"linecolor\":\"white\",\"ticks\":\"\",\"title\":{\"standoff\":15},\"zerolinecolor\":\"white\",\"automargin\":true,\"zerolinewidth\":2},\"scene\":{\"xaxis\":{\"backgroundcolor\":\"#E5ECF6\",\"gridcolor\":\"white\",\"linecolor\":\"white\",\"showbackground\":true,\"ticks\":\"\",\"zerolinecolor\":\"white\",\"gridwidth\":2},\"yaxis\":{\"backgroundcolor\":\"#E5ECF6\",\"gridcolor\":\"white\",\"linecolor\":\"white\",\"showbackground\":true,\"ticks\":\"\",\"zerolinecolor\":\"white\",\"gridwidth\":2},\"zaxis\":{\"backgroundcolor\":\"#E5ECF6\",\"gridcolor\":\"white\",\"linecolor\":\"white\",\"showbackground\":true,\"ticks\":\"\",\"zerolinecolor\":\"white\",\"gridwidth\":2}},\"shapedefaults\":{\"line\":{\"color\":\"#2a3f5f\"}},\"annotationdefaults\":{\"arrowcolor\":\"#2a3f5f\",\"arrowhead\":0,\"arrowwidth\":1},\"geo\":{\"bgcolor\":\"white\",\"landcolor\":\"#E5ECF6\",\"subunitcolor\":\"white\",\"showland\":true,\"showlakes\":true,\"lakecolor\":\"white\"},\"title\":{\"x\":0.05},\"mapbox\":{\"style\":\"light\"}}},\"xaxis\":{\"anchor\":\"y\",\"domain\":[0.0,1.0],\"title\":{\"text\":\"Date\"}},\"yaxis\":{\"anchor\":\"x\",\"domain\":[0.0,1.0],\"title\":{\"text\":\"Total Diaper Output\"}},\"legend\":{\"tracegroupgap\":0},\"margin\":{\"t\":60},\"barmode\":\"relative\",\"shapes\":[{\"line\":{\"color\":\"green\",\"dash\":\"dash\"},\"type\":\"line\",\"x0\":0,\"x1\":1,\"xref\":\"x domain\",\"y0\":25.206349206349206,\"y1\":25.206349206349206,\"yref\":\"y\"}],\"annotations\":[{\"showarrow\":false,\"text\":\"Average Output\",\"x\":1,\"xanchor\":\"right\",\"xref\":\"x domain\",\"xshift\":-300,\"y\":25.206349206349206,\"yanchor\":\"bottom\",\"yref\":\"y\"}],\"title\":{\"text\":\"Isaak's Diapers Output, by Date (integer encoded)\",\"x\":0.5}},                        {\"responsive\": true}                    ).then(function(){\n",
       "                            \n",
       "var gd = document.getElementById('2f8d4c8f-bf5e-4d18-bfc2-0446d8432c8a');\n",
       "var x = new MutationObserver(function (mutations, observer) {{\n",
       "        var display = window.getComputedStyle(gd).display;\n",
       "        if (!display || display === 'none') {{\n",
       "            console.log([gd, 'removed!']);\n",
       "            Plotly.purge(gd);\n",
       "            observer.disconnect();\n",
       "        }}\n",
       "}});\n",
       "\n",
       "// Listen for the removal of the full notebook cells\n",
       "var notebookContainer = gd.closest('#notebook-container');\n",
       "if (notebookContainer) {{\n",
       "    x.observe(notebookContainer, {childList: true});\n",
       "}}\n",
       "\n",
       "// Listen for the clearing of the current output cell\n",
       "var outputEl = gd.closest('.output');\n",
       "if (outputEl) {{\n",
       "    x.observe(outputEl, {childList: true});\n",
       "}}\n",
       "\n",
       "                        })                };                });            </script>        </div>"
      ]
     },
     "metadata": {},
     "output_type": "display_data"
    }
   ],
   "source": [
    "fig = px.bar(\n",
    "    diaper_output,\n",
    "    x=\"Date\",\n",
    "    y=\"diaper_output\",\n",
    "    labels={\"diaper_output\": \"Total Diaper Output\"},\n",
    ")\n",
    "fig.add_hline(\n",
    "    y=diaper_output_mean,\n",
    "    line_dash=\"dash\",\n",
    "    line_color=\"green\",\n",
    "    annotation=dict(text=\"Average Output\", xshift=-300),\n",
    ")\n",
    "fig.update_layout(\n",
    "    title_text=\"Isaak's Diapers Output, by Date (integer encoded)\", title_x=0.5\n",
    ")\n",
    "fig.show()\n",
    "fig.write_html(\"isaak_diapers_encoded_output.html\")"
   ]
  },
  {
   "cell_type": "markdown",
   "id": "63e63041-f604-499b-a0b0-e1a4d7899470",
   "metadata": {},
   "source": [
    "We gotta, _just gotta_ look at a distribution of this!"
   ]
  },
  {
   "cell_type": "code",
   "execution_count": 333,
   "id": "d95c8bda-4d62-41e8-b904-ce63b6adbdbe",
   "metadata": {},
   "outputs": [
    {
     "data": {
      "application/vnd.plotly.v1+json": {
       "config": {
        "plotlyServerURL": "https://plot.ly"
       },
       "data": [
        {
         "alignmentgroup": "True",
         "bingroup": "x",
         "hovertemplate": "variable=diaper_output<br>value=%{x}<br>count=%{y}<extra></extra>",
         "legendgroup": "diaper_output",
         "marker": {
          "color": "#636efa",
          "pattern": {
           "shape": ""
          }
         },
         "name": "diaper_output",
         "nbinsx": 30,
         "offsetgroup": "diaper_output",
         "orientation": "v",
         "showlegend": true,
         "type": "histogram",
         "x": [
          24,
          15,
          33,
          45,
          46,
          41,
          42,
          40,
          39,
          37,
          32,
          18,
          40,
          20,
          43,
          17,
          28,
          37,
          35,
          31,
          30,
          41,
          30,
          24,
          34,
          21,
          35,
          24,
          31,
          31,
          35,
          27,
          29,
          41,
          29,
          29,
          19,
          30,
          17,
          31,
          22,
          24,
          32,
          34,
          27,
          25,
          24,
          26,
          23,
          31,
          25,
          34,
          27,
          20,
          35,
          25,
          24,
          27,
          29,
          25,
          23,
          30,
          21,
          17,
          25,
          24,
          29,
          31,
          25,
          27,
          38,
          23,
          17,
          18,
          26,
          26,
          23,
          24,
          20,
          21,
          25,
          22,
          19,
          18,
          25,
          11,
          26,
          31,
          23,
          22,
          21,
          23,
          31,
          18,
          24,
          17,
          17,
          24,
          21,
          24,
          24,
          15,
          10,
          13,
          12,
          10,
          15,
          6,
          4,
          32,
          22,
          23,
          16,
          24,
          24,
          14,
          17,
          30,
          17,
          25,
          16,
          18,
          17,
          21,
          23,
          8
         ],
         "xaxis": "x",
         "yaxis": "y"
        }
       ],
       "layout": {
        "annotations": [
         {
          "font": {
           "color": "green",
           "size": 20
          },
          "showarrow": false,
          "text": "μ",
          "x": 25.206349206349206,
          "xanchor": "left",
          "xref": "x",
          "xshift": 10,
          "y": 1,
          "yanchor": "top",
          "yref": "y domain",
          "yshift": -300
         },
         {
          "font": {
           "color": "green",
           "size": 20
          },
          "showarrow": false,
          "text": "+σ",
          "x": 33.4094433383443,
          "xanchor": "left",
          "xref": "x",
          "xshift": 10,
          "y": 1,
          "yanchor": "top",
          "yref": "y domain",
          "yshift": -300
         },
         {
          "font": {
           "color": "green",
           "size": 20
          },
          "showarrow": false,
          "text": "-σ",
          "x": 17.003255074354108,
          "xanchor": "left",
          "xref": "x",
          "xshift": 10,
          "y": 1,
          "yanchor": "top",
          "yref": "y domain",
          "yshift": -300
         },
         {
          "font": {
           "color": "green",
           "size": 20
          },
          "showarrow": false,
          "text": "+2σ",
          "x": 41.612537470339404,
          "xanchor": "left",
          "xref": "x",
          "xshift": 10,
          "y": 1,
          "yanchor": "top",
          "yref": "y domain",
          "yshift": -300
         },
         {
          "font": {
           "color": "green",
           "size": 20
          },
          "showarrow": false,
          "text": "-2σ",
          "x": 8.80016094235901,
          "xanchor": "left",
          "xref": "x",
          "xshift": 10,
          "y": 1,
          "yanchor": "top",
          "yref": "y domain",
          "yshift": -300
         }
        ],
        "autosize": true,
        "barmode": "relative",
        "legend": {
         "title": {
          "text": "variable"
         },
         "tracegroupgap": 0
        },
        "margin": {
         "t": 60
        },
        "shapes": [
         {
          "line": {
           "color": "green",
           "dash": "dash"
          },
          "type": "line",
          "x0": 25.206349206349206,
          "x1": 25.206349206349206,
          "xref": "x",
          "y0": 0,
          "y1": 1,
          "yref": "y domain"
         },
         {
          "line": {
           "color": "green",
           "dash": "dash"
          },
          "type": "line",
          "x0": 33.4094433383443,
          "x1": 33.4094433383443,
          "xref": "x",
          "y0": 0,
          "y1": 1,
          "yref": "y domain"
         },
         {
          "line": {
           "color": "green",
           "dash": "dash"
          },
          "type": "line",
          "x0": 17.003255074354108,
          "x1": 17.003255074354108,
          "xref": "x",
          "y0": 0,
          "y1": 1,
          "yref": "y domain"
         },
         {
          "line": {
           "color": "green",
           "dash": "dash"
          },
          "type": "line",
          "x0": 41.612537470339404,
          "x1": 41.612537470339404,
          "xref": "x",
          "y0": 0,
          "y1": 1,
          "yref": "y domain"
         },
         {
          "line": {
           "color": "green",
           "dash": "dash"
          },
          "type": "line",
          "x0": 8.80016094235901,
          "x1": 8.80016094235901,
          "xref": "x",
          "y0": 0,
          "y1": 1,
          "yref": "y domain"
         }
        ],
        "showlegend": false,
        "template": {
         "data": {
          "bar": [
           {
            "error_x": {
             "color": "#2a3f5f"
            },
            "error_y": {
             "color": "#2a3f5f"
            },
            "marker": {
             "line": {
              "color": "#E5ECF6",
              "width": 0.5
             },
             "pattern": {
              "fillmode": "overlay",
              "size": 10,
              "solidity": 0.2
             }
            },
            "type": "bar"
           }
          ],
          "barpolar": [
           {
            "marker": {
             "line": {
              "color": "#E5ECF6",
              "width": 0.5
             },
             "pattern": {
              "fillmode": "overlay",
              "size": 10,
              "solidity": 0.2
             }
            },
            "type": "barpolar"
           }
          ],
          "carpet": [
           {
            "aaxis": {
             "endlinecolor": "#2a3f5f",
             "gridcolor": "white",
             "linecolor": "white",
             "minorgridcolor": "white",
             "startlinecolor": "#2a3f5f"
            },
            "baxis": {
             "endlinecolor": "#2a3f5f",
             "gridcolor": "white",
             "linecolor": "white",
             "minorgridcolor": "white",
             "startlinecolor": "#2a3f5f"
            },
            "type": "carpet"
           }
          ],
          "choropleth": [
           {
            "colorbar": {
             "outlinewidth": 0,
             "ticks": ""
            },
            "type": "choropleth"
           }
          ],
          "contour": [
           {
            "colorbar": {
             "outlinewidth": 0,
             "ticks": ""
            },
            "colorscale": [
             [
              0,
              "#0d0887"
             ],
             [
              0.1111111111111111,
              "#46039f"
             ],
             [
              0.2222222222222222,
              "#7201a8"
             ],
             [
              0.3333333333333333,
              "#9c179e"
             ],
             [
              0.4444444444444444,
              "#bd3786"
             ],
             [
              0.5555555555555556,
              "#d8576b"
             ],
             [
              0.6666666666666666,
              "#ed7953"
             ],
             [
              0.7777777777777778,
              "#fb9f3a"
             ],
             [
              0.8888888888888888,
              "#fdca26"
             ],
             [
              1,
              "#f0f921"
             ]
            ],
            "type": "contour"
           }
          ],
          "contourcarpet": [
           {
            "colorbar": {
             "outlinewidth": 0,
             "ticks": ""
            },
            "type": "contourcarpet"
           }
          ],
          "heatmap": [
           {
            "colorbar": {
             "outlinewidth": 0,
             "ticks": ""
            },
            "colorscale": [
             [
              0,
              "#0d0887"
             ],
             [
              0.1111111111111111,
              "#46039f"
             ],
             [
              0.2222222222222222,
              "#7201a8"
             ],
             [
              0.3333333333333333,
              "#9c179e"
             ],
             [
              0.4444444444444444,
              "#bd3786"
             ],
             [
              0.5555555555555556,
              "#d8576b"
             ],
             [
              0.6666666666666666,
              "#ed7953"
             ],
             [
              0.7777777777777778,
              "#fb9f3a"
             ],
             [
              0.8888888888888888,
              "#fdca26"
             ],
             [
              1,
              "#f0f921"
             ]
            ],
            "type": "heatmap"
           }
          ],
          "heatmapgl": [
           {
            "colorbar": {
             "outlinewidth": 0,
             "ticks": ""
            },
            "colorscale": [
             [
              0,
              "#0d0887"
             ],
             [
              0.1111111111111111,
              "#46039f"
             ],
             [
              0.2222222222222222,
              "#7201a8"
             ],
             [
              0.3333333333333333,
              "#9c179e"
             ],
             [
              0.4444444444444444,
              "#bd3786"
             ],
             [
              0.5555555555555556,
              "#d8576b"
             ],
             [
              0.6666666666666666,
              "#ed7953"
             ],
             [
              0.7777777777777778,
              "#fb9f3a"
             ],
             [
              0.8888888888888888,
              "#fdca26"
             ],
             [
              1,
              "#f0f921"
             ]
            ],
            "type": "heatmapgl"
           }
          ],
          "histogram": [
           {
            "marker": {
             "pattern": {
              "fillmode": "overlay",
              "size": 10,
              "solidity": 0.2
             }
            },
            "type": "histogram"
           }
          ],
          "histogram2d": [
           {
            "colorbar": {
             "outlinewidth": 0,
             "ticks": ""
            },
            "colorscale": [
             [
              0,
              "#0d0887"
             ],
             [
              0.1111111111111111,
              "#46039f"
             ],
             [
              0.2222222222222222,
              "#7201a8"
             ],
             [
              0.3333333333333333,
              "#9c179e"
             ],
             [
              0.4444444444444444,
              "#bd3786"
             ],
             [
              0.5555555555555556,
              "#d8576b"
             ],
             [
              0.6666666666666666,
              "#ed7953"
             ],
             [
              0.7777777777777778,
              "#fb9f3a"
             ],
             [
              0.8888888888888888,
              "#fdca26"
             ],
             [
              1,
              "#f0f921"
             ]
            ],
            "type": "histogram2d"
           }
          ],
          "histogram2dcontour": [
           {
            "colorbar": {
             "outlinewidth": 0,
             "ticks": ""
            },
            "colorscale": [
             [
              0,
              "#0d0887"
             ],
             [
              0.1111111111111111,
              "#46039f"
             ],
             [
              0.2222222222222222,
              "#7201a8"
             ],
             [
              0.3333333333333333,
              "#9c179e"
             ],
             [
              0.4444444444444444,
              "#bd3786"
             ],
             [
              0.5555555555555556,
              "#d8576b"
             ],
             [
              0.6666666666666666,
              "#ed7953"
             ],
             [
              0.7777777777777778,
              "#fb9f3a"
             ],
             [
              0.8888888888888888,
              "#fdca26"
             ],
             [
              1,
              "#f0f921"
             ]
            ],
            "type": "histogram2dcontour"
           }
          ],
          "mesh3d": [
           {
            "colorbar": {
             "outlinewidth": 0,
             "ticks": ""
            },
            "type": "mesh3d"
           }
          ],
          "parcoords": [
           {
            "line": {
             "colorbar": {
              "outlinewidth": 0,
              "ticks": ""
             }
            },
            "type": "parcoords"
           }
          ],
          "pie": [
           {
            "automargin": true,
            "type": "pie"
           }
          ],
          "scatter": [
           {
            "fillpattern": {
             "fillmode": "overlay",
             "size": 10,
             "solidity": 0.2
            },
            "type": "scatter"
           }
          ],
          "scatter3d": [
           {
            "line": {
             "colorbar": {
              "outlinewidth": 0,
              "ticks": ""
             }
            },
            "marker": {
             "colorbar": {
              "outlinewidth": 0,
              "ticks": ""
             }
            },
            "type": "scatter3d"
           }
          ],
          "scattercarpet": [
           {
            "marker": {
             "colorbar": {
              "outlinewidth": 0,
              "ticks": ""
             }
            },
            "type": "scattercarpet"
           }
          ],
          "scattergeo": [
           {
            "marker": {
             "colorbar": {
              "outlinewidth": 0,
              "ticks": ""
             }
            },
            "type": "scattergeo"
           }
          ],
          "scattergl": [
           {
            "marker": {
             "colorbar": {
              "outlinewidth": 0,
              "ticks": ""
             }
            },
            "type": "scattergl"
           }
          ],
          "scattermapbox": [
           {
            "marker": {
             "colorbar": {
              "outlinewidth": 0,
              "ticks": ""
             }
            },
            "type": "scattermapbox"
           }
          ],
          "scatterpolar": [
           {
            "marker": {
             "colorbar": {
              "outlinewidth": 0,
              "ticks": ""
             }
            },
            "type": "scatterpolar"
           }
          ],
          "scatterpolargl": [
           {
            "marker": {
             "colorbar": {
              "outlinewidth": 0,
              "ticks": ""
             }
            },
            "type": "scatterpolargl"
           }
          ],
          "scatterternary": [
           {
            "marker": {
             "colorbar": {
              "outlinewidth": 0,
              "ticks": ""
             }
            },
            "type": "scatterternary"
           }
          ],
          "surface": [
           {
            "colorbar": {
             "outlinewidth": 0,
             "ticks": ""
            },
            "colorscale": [
             [
              0,
              "#0d0887"
             ],
             [
              0.1111111111111111,
              "#46039f"
             ],
             [
              0.2222222222222222,
              "#7201a8"
             ],
             [
              0.3333333333333333,
              "#9c179e"
             ],
             [
              0.4444444444444444,
              "#bd3786"
             ],
             [
              0.5555555555555556,
              "#d8576b"
             ],
             [
              0.6666666666666666,
              "#ed7953"
             ],
             [
              0.7777777777777778,
              "#fb9f3a"
             ],
             [
              0.8888888888888888,
              "#fdca26"
             ],
             [
              1,
              "#f0f921"
             ]
            ],
            "type": "surface"
           }
          ],
          "table": [
           {
            "cells": {
             "fill": {
              "color": "#EBF0F8"
             },
             "line": {
              "color": "white"
             }
            },
            "header": {
             "fill": {
              "color": "#C8D4E3"
             },
             "line": {
              "color": "white"
             }
            },
            "type": "table"
           }
          ]
         },
         "layout": {
          "annotationdefaults": {
           "arrowcolor": "#2a3f5f",
           "arrowhead": 0,
           "arrowwidth": 1
          },
          "autotypenumbers": "strict",
          "coloraxis": {
           "colorbar": {
            "outlinewidth": 0,
            "ticks": ""
           }
          },
          "colorscale": {
           "diverging": [
            [
             0,
             "#8e0152"
            ],
            [
             0.1,
             "#c51b7d"
            ],
            [
             0.2,
             "#de77ae"
            ],
            [
             0.3,
             "#f1b6da"
            ],
            [
             0.4,
             "#fde0ef"
            ],
            [
             0.5,
             "#f7f7f7"
            ],
            [
             0.6,
             "#e6f5d0"
            ],
            [
             0.7,
             "#b8e186"
            ],
            [
             0.8,
             "#7fbc41"
            ],
            [
             0.9,
             "#4d9221"
            ],
            [
             1,
             "#276419"
            ]
           ],
           "sequential": [
            [
             0,
             "#0d0887"
            ],
            [
             0.1111111111111111,
             "#46039f"
            ],
            [
             0.2222222222222222,
             "#7201a8"
            ],
            [
             0.3333333333333333,
             "#9c179e"
            ],
            [
             0.4444444444444444,
             "#bd3786"
            ],
            [
             0.5555555555555556,
             "#d8576b"
            ],
            [
             0.6666666666666666,
             "#ed7953"
            ],
            [
             0.7777777777777778,
             "#fb9f3a"
            ],
            [
             0.8888888888888888,
             "#fdca26"
            ],
            [
             1,
             "#f0f921"
            ]
           ],
           "sequentialminus": [
            [
             0,
             "#0d0887"
            ],
            [
             0.1111111111111111,
             "#46039f"
            ],
            [
             0.2222222222222222,
             "#7201a8"
            ],
            [
             0.3333333333333333,
             "#9c179e"
            ],
            [
             0.4444444444444444,
             "#bd3786"
            ],
            [
             0.5555555555555556,
             "#d8576b"
            ],
            [
             0.6666666666666666,
             "#ed7953"
            ],
            [
             0.7777777777777778,
             "#fb9f3a"
            ],
            [
             0.8888888888888888,
             "#fdca26"
            ],
            [
             1,
             "#f0f921"
            ]
           ]
          },
          "colorway": [
           "#636efa",
           "#EF553B",
           "#00cc96",
           "#ab63fa",
           "#FFA15A",
           "#19d3f3",
           "#FF6692",
           "#B6E880",
           "#FF97FF",
           "#FECB52"
          ],
          "font": {
           "color": "#2a3f5f"
          },
          "geo": {
           "bgcolor": "white",
           "lakecolor": "white",
           "landcolor": "#E5ECF6",
           "showlakes": true,
           "showland": true,
           "subunitcolor": "white"
          },
          "hoverlabel": {
           "align": "left"
          },
          "hovermode": "closest",
          "mapbox": {
           "style": "light"
          },
          "paper_bgcolor": "white",
          "plot_bgcolor": "#E5ECF6",
          "polar": {
           "angularaxis": {
            "gridcolor": "white",
            "linecolor": "white",
            "ticks": ""
           },
           "bgcolor": "#E5ECF6",
           "radialaxis": {
            "gridcolor": "white",
            "linecolor": "white",
            "ticks": ""
           }
          },
          "scene": {
           "xaxis": {
            "backgroundcolor": "#E5ECF6",
            "gridcolor": "white",
            "gridwidth": 2,
            "linecolor": "white",
            "showbackground": true,
            "ticks": "",
            "zerolinecolor": "white"
           },
           "yaxis": {
            "backgroundcolor": "#E5ECF6",
            "gridcolor": "white",
            "gridwidth": 2,
            "linecolor": "white",
            "showbackground": true,
            "ticks": "",
            "zerolinecolor": "white"
           },
           "zaxis": {
            "backgroundcolor": "#E5ECF6",
            "gridcolor": "white",
            "gridwidth": 2,
            "linecolor": "white",
            "showbackground": true,
            "ticks": "",
            "zerolinecolor": "white"
           }
          },
          "shapedefaults": {
           "line": {
            "color": "#2a3f5f"
           }
          },
          "ternary": {
           "aaxis": {
            "gridcolor": "white",
            "linecolor": "white",
            "ticks": ""
           },
           "baxis": {
            "gridcolor": "white",
            "linecolor": "white",
            "ticks": ""
           },
           "bgcolor": "#E5ECF6",
           "caxis": {
            "gridcolor": "white",
            "linecolor": "white",
            "ticks": ""
           }
          },
          "title": {
           "x": 0.05
          },
          "xaxis": {
           "automargin": true,
           "gridcolor": "white",
           "linecolor": "white",
           "ticks": "",
           "title": {
            "standoff": 15
           },
           "zerolinecolor": "white",
           "zerolinewidth": 2
          },
          "yaxis": {
           "automargin": true,
           "gridcolor": "white",
           "linecolor": "white",
           "ticks": "",
           "title": {
            "standoff": 15
           },
           "zerolinecolor": "white",
           "zerolinewidth": 2
          }
         }
        },
        "xaxis": {
         "anchor": "y",
         "autorange": true,
         "domain": [
          0,
          1
         ],
         "range": [
          3.5,
          47.5
         ],
         "title": {
          "text": "Isaak's Daily Diaper Output"
         },
         "type": "linear"
        },
        "yaxis": {
         "anchor": "x",
         "autorange": true,
         "domain": [
          0,
          1
         ],
         "range": [
          0,
          24.210526315789473
         ],
         "title": {
          "text": "count"
         }
        }
       }
      },
      "image/png": "[encoded data removed]",
      "text/html": [
       "<div>                            <div id=\"10cadafc-3a90-4531-99f4-35ce3dda5bdf\" class=\"plotly-graph-div\" style=\"height:800px; width:100%;\"></div>            <script type=\"text/javascript\">                require([\"plotly\"], function(Plotly) {                    window.PLOTLYENV=window.PLOTLYENV || {};                                    if (document.getElementById(\"10cadafc-3a90-4531-99f4-35ce3dda5bdf\")) {                    Plotly.newPlot(                        \"10cadafc-3a90-4531-99f4-35ce3dda5bdf\",                        [{\"alignmentgroup\":\"True\",\"bingroup\":\"x\",\"hovertemplate\":\"variable=diaper_output\\u003cbr\\u003evalue=%{x}\\u003cbr\\u003ecount=%{y}\\u003cextra\\u003e\\u003c\\u002fextra\\u003e\",\"legendgroup\":\"diaper_output\",\"marker\":{\"color\":\"#636efa\",\"pattern\":{\"shape\":\"\"}},\"name\":\"diaper_output\",\"nbinsx\":30,\"offsetgroup\":\"diaper_output\",\"orientation\":\"v\",\"showlegend\":true,\"x\":[24,15,33,45,46,41,42,40,39,37,32,18,40,20,43,17,28,37,35,31,30,41,30,24,34,21,35,24,31,31,35,27,29,41,29,29,19,30,17,31,22,24,32,34,27,25,24,26,23,31,25,34,27,20,35,25,24,27,29,25,23,30,21,17,25,24,29,31,25,27,38,23,17,18,26,26,23,24,20,21,25,22,19,18,25,11,26,31,23,22,21,23,31,18,24,17,17,24,21,24,24,15,10,13,12,10,15,6,4,32,22,23,16,24,24,14,17,30,17,25,16,18,17,21,23,8],\"xaxis\":\"x\",\"yaxis\":\"y\",\"type\":\"histogram\"}],                        {\"template\":{\"data\":{\"histogram2dcontour\":[{\"type\":\"histogram2dcontour\",\"colorbar\":{\"outlinewidth\":0,\"ticks\":\"\"},\"colorscale\":[[0.0,\"#0d0887\"],[0.1111111111111111,\"#46039f\"],[0.2222222222222222,\"#7201a8\"],[0.3333333333333333,\"#9c179e\"],[0.4444444444444444,\"#bd3786\"],[0.5555555555555556,\"#d8576b\"],[0.6666666666666666,\"#ed7953\"],[0.7777777777777778,\"#fb9f3a\"],[0.8888888888888888,\"#fdca26\"],[1.0,\"#f0f921\"]]}],\"choropleth\":[{\"type\":\"choropleth\",\"colorbar\":{\"outlinewidth\":0,\"ticks\":\"\"}}],\"histogram2d\":[{\"type\":\"histogram2d\",\"colorbar\":{\"outlinewidth\":0,\"ticks\":\"\"},\"colorscale\":[[0.0,\"#0d0887\"],[0.1111111111111111,\"#46039f\"],[0.2222222222222222,\"#7201a8\"],[0.3333333333333333,\"#9c179e\"],[0.4444444444444444,\"#bd3786\"],[0.5555555555555556,\"#d8576b\"],[0.6666666666666666,\"#ed7953\"],[0.7777777777777778,\"#fb9f3a\"],[0.8888888888888888,\"#fdca26\"],[1.0,\"#f0f921\"]]}],\"heatmap\":[{\"type\":\"heatmap\",\"colorbar\":{\"outlinewidth\":0,\"ticks\":\"\"},\"colorscale\":[[0.0,\"#0d0887\"],[0.1111111111111111,\"#46039f\"],[0.2222222222222222,\"#7201a8\"],[0.3333333333333333,\"#9c179e\"],[0.4444444444444444,\"#bd3786\"],[0.5555555555555556,\"#d8576b\"],[0.6666666666666666,\"#ed7953\"],[0.7777777777777778,\"#fb9f3a\"],[0.8888888888888888,\"#fdca26\"],[1.0,\"#f0f921\"]]}],\"heatmapgl\":[{\"type\":\"heatmapgl\",\"colorbar\":{\"outlinewidth\":0,\"ticks\":\"\"},\"colorscale\":[[0.0,\"#0d0887\"],[0.1111111111111111,\"#46039f\"],[0.2222222222222222,\"#7201a8\"],[0.3333333333333333,\"#9c179e\"],[0.4444444444444444,\"#bd3786\"],[0.5555555555555556,\"#d8576b\"],[0.6666666666666666,\"#ed7953\"],[0.7777777777777778,\"#fb9f3a\"],[0.8888888888888888,\"#fdca26\"],[1.0,\"#f0f921\"]]}],\"contourcarpet\":[{\"type\":\"contourcarpet\",\"colorbar\":{\"outlinewidth\":0,\"ticks\":\"\"}}],\"contour\":[{\"type\":\"contour\",\"colorbar\":{\"outlinewidth\":0,\"ticks\":\"\"},\"colorscale\":[[0.0,\"#0d0887\"],[0.1111111111111111,\"#46039f\"],[0.2222222222222222,\"#7201a8\"],[0.3333333333333333,\"#9c179e\"],[0.4444444444444444,\"#bd3786\"],[0.5555555555555556,\"#d8576b\"],[0.6666666666666666,\"#ed7953\"],[0.7777777777777778,\"#fb9f3a\"],[0.8888888888888888,\"#fdca26\"],[1.0,\"#f0f921\"]]}],\"surface\":[{\"type\":\"surface\",\"colorbar\":{\"outlinewidth\":0,\"ticks\":\"\"},\"colorscale\":[[0.0,\"#0d0887\"],[0.1111111111111111,\"#46039f\"],[0.2222222222222222,\"#7201a8\"],[0.3333333333333333,\"#9c179e\"],[0.4444444444444444,\"#bd3786\"],[0.5555555555555556,\"#d8576b\"],[0.6666666666666666,\"#ed7953\"],[0.7777777777777778,\"#fb9f3a\"],[0.8888888888888888,\"#fdca26\"],[1.0,\"#f0f921\"]]}],\"mesh3d\":[{\"type\":\"mesh3d\",\"colorbar\":{\"outlinewidth\":0,\"ticks\":\"\"}}],\"scatter\":[{\"fillpattern\":{\"fillmode\":\"overlay\",\"size\":10,\"solidity\":0.2},\"type\":\"scatter\"}],\"parcoords\":[{\"type\":\"parcoords\",\"line\":{\"colorbar\":{\"outlinewidth\":0,\"ticks\":\"\"}}}],\"scatterpolargl\":[{\"type\":\"scatterpolargl\",\"marker\":{\"colorbar\":{\"outlinewidth\":0,\"ticks\":\"\"}}}],\"bar\":[{\"error_x\":{\"color\":\"#2a3f5f\"},\"error_y\":{\"color\":\"#2a3f5f\"},\"marker\":{\"line\":{\"color\":\"#E5ECF6\",\"width\":0.5},\"pattern\":{\"fillmode\":\"overlay\",\"size\":10,\"solidity\":0.2}},\"type\":\"bar\"}],\"scattergeo\":[{\"type\":\"scattergeo\",\"marker\":{\"colorbar\":{\"outlinewidth\":0,\"ticks\":\"\"}}}],\"scatterpolar\":[{\"type\":\"scatterpolar\",\"marker\":{\"colorbar\":{\"outlinewidth\":0,\"ticks\":\"\"}}}],\"histogram\":[{\"marker\":{\"pattern\":{\"fillmode\":\"overlay\",\"size\":10,\"solidity\":0.2}},\"type\":\"histogram\"}],\"scattergl\":[{\"type\":\"scattergl\",\"marker\":{\"colorbar\":{\"outlinewidth\":0,\"ticks\":\"\"}}}],\"scatter3d\":[{\"type\":\"scatter3d\",\"line\":{\"colorbar\":{\"outlinewidth\":0,\"ticks\":\"\"}},\"marker\":{\"colorbar\":{\"outlinewidth\":0,\"ticks\":\"\"}}}],\"scattermapbox\":[{\"type\":\"scattermapbox\",\"marker\":{\"colorbar\":{\"outlinewidth\":0,\"ticks\":\"\"}}}],\"scatterternary\":[{\"type\":\"scatterternary\",\"marker\":{\"colorbar\":{\"outlinewidth\":0,\"ticks\":\"\"}}}],\"scattercarpet\":[{\"type\":\"scattercarpet\",\"marker\":{\"colorbar\":{\"outlinewidth\":0,\"ticks\":\"\"}}}],\"carpet\":[{\"aaxis\":{\"endlinecolor\":\"#2a3f5f\",\"gridcolor\":\"white\",\"linecolor\":\"white\",\"minorgridcolor\":\"white\",\"startlinecolor\":\"#2a3f5f\"},\"baxis\":{\"endlinecolor\":\"#2a3f5f\",\"gridcolor\":\"white\",\"linecolor\":\"white\",\"minorgridcolor\":\"white\",\"startlinecolor\":\"#2a3f5f\"},\"type\":\"carpet\"}],\"table\":[{\"cells\":{\"fill\":{\"color\":\"#EBF0F8\"},\"line\":{\"color\":\"white\"}},\"header\":{\"fill\":{\"color\":\"#C8D4E3\"},\"line\":{\"color\":\"white\"}},\"type\":\"table\"}],\"barpolar\":[{\"marker\":{\"line\":{\"color\":\"#E5ECF6\",\"width\":0.5},\"pattern\":{\"fillmode\":\"overlay\",\"size\":10,\"solidity\":0.2}},\"type\":\"barpolar\"}],\"pie\":[{\"automargin\":true,\"type\":\"pie\"}]},\"layout\":{\"autotypenumbers\":\"strict\",\"colorway\":[\"#636efa\",\"#EF553B\",\"#00cc96\",\"#ab63fa\",\"#FFA15A\",\"#19d3f3\",\"#FF6692\",\"#B6E880\",\"#FF97FF\",\"#FECB52\"],\"font\":{\"color\":\"#2a3f5f\"},\"hovermode\":\"closest\",\"hoverlabel\":{\"align\":\"left\"},\"paper_bgcolor\":\"white\",\"plot_bgcolor\":\"#E5ECF6\",\"polar\":{\"bgcolor\":\"#E5ECF6\",\"angularaxis\":{\"gridcolor\":\"white\",\"linecolor\":\"white\",\"ticks\":\"\"},\"radialaxis\":{\"gridcolor\":\"white\",\"linecolor\":\"white\",\"ticks\":\"\"}},\"ternary\":{\"bgcolor\":\"#E5ECF6\",\"aaxis\":{\"gridcolor\":\"white\",\"linecolor\":\"white\",\"ticks\":\"\"},\"baxis\":{\"gridcolor\":\"white\",\"linecolor\":\"white\",\"ticks\":\"\"},\"caxis\":{\"gridcolor\":\"white\",\"linecolor\":\"white\",\"ticks\":\"\"}},\"coloraxis\":{\"colorbar\":{\"outlinewidth\":0,\"ticks\":\"\"}},\"colorscale\":{\"sequential\":[[0.0,\"#0d0887\"],[0.1111111111111111,\"#46039f\"],[0.2222222222222222,\"#7201a8\"],[0.3333333333333333,\"#9c179e\"],[0.4444444444444444,\"#bd3786\"],[0.5555555555555556,\"#d8576b\"],[0.6666666666666666,\"#ed7953\"],[0.7777777777777778,\"#fb9f3a\"],[0.8888888888888888,\"#fdca26\"],[1.0,\"#f0f921\"]],\"sequentialminus\":[[0.0,\"#0d0887\"],[0.1111111111111111,\"#46039f\"],[0.2222222222222222,\"#7201a8\"],[0.3333333333333333,\"#9c179e\"],[0.4444444444444444,\"#bd3786\"],[0.5555555555555556,\"#d8576b\"],[0.6666666666666666,\"#ed7953\"],[0.7777777777777778,\"#fb9f3a\"],[0.8888888888888888,\"#fdca26\"],[1.0,\"#f0f921\"]],\"diverging\":[[0,\"#8e0152\"],[0.1,\"#c51b7d\"],[0.2,\"#de77ae\"],[0.3,\"#f1b6da\"],[0.4,\"#fde0ef\"],[0.5,\"#f7f7f7\"],[0.6,\"#e6f5d0\"],[0.7,\"#b8e186\"],[0.8,\"#7fbc41\"],[0.9,\"#4d9221\"],[1,\"#276419\"]]},\"xaxis\":{\"gridcolor\":\"white\",\"linecolor\":\"white\",\"ticks\":\"\",\"title\":{\"standoff\":15},\"zerolinecolor\":\"white\",\"automargin\":true,\"zerolinewidth\":2},\"yaxis\":{\"gridcolor\":\"white\",\"linecolor\":\"white\",\"ticks\":\"\",\"title\":{\"standoff\":15},\"zerolinecolor\":\"white\",\"automargin\":true,\"zerolinewidth\":2},\"scene\":{\"xaxis\":{\"backgroundcolor\":\"#E5ECF6\",\"gridcolor\":\"white\",\"linecolor\":\"white\",\"showbackground\":true,\"ticks\":\"\",\"zerolinecolor\":\"white\",\"gridwidth\":2},\"yaxis\":{\"backgroundcolor\":\"#E5ECF6\",\"gridcolor\":\"white\",\"linecolor\":\"white\",\"showbackground\":true,\"ticks\":\"\",\"zerolinecolor\":\"white\",\"gridwidth\":2},\"zaxis\":{\"backgroundcolor\":\"#E5ECF6\",\"gridcolor\":\"white\",\"linecolor\":\"white\",\"showbackground\":true,\"ticks\":\"\",\"zerolinecolor\":\"white\",\"gridwidth\":2}},\"shapedefaults\":{\"line\":{\"color\":\"#2a3f5f\"}},\"annotationdefaults\":{\"arrowcolor\":\"#2a3f5f\",\"arrowhead\":0,\"arrowwidth\":1},\"geo\":{\"bgcolor\":\"white\",\"landcolor\":\"#E5ECF6\",\"subunitcolor\":\"white\",\"showland\":true,\"showlakes\":true,\"lakecolor\":\"white\"},\"title\":{\"x\":0.05},\"mapbox\":{\"style\":\"light\"}}},\"xaxis\":{\"anchor\":\"y\",\"domain\":[0.0,1.0],\"title\":{\"text\":\"Isaak's Daily Diaper Output\"}},\"yaxis\":{\"anchor\":\"x\",\"domain\":[0.0,1.0],\"title\":{\"text\":\"count\"}},\"legend\":{\"title\":{\"text\":\"variable\"},\"tracegroupgap\":0},\"margin\":{\"t\":60},\"barmode\":\"relative\",\"showlegend\":false,\"height\":800,\"shapes\":[{\"line\":{\"color\":\"green\",\"dash\":\"dash\"},\"type\":\"line\",\"x0\":25.206349206349206,\"x1\":25.206349206349206,\"xref\":\"x\",\"y0\":0,\"y1\":1,\"yref\":\"y domain\"},{\"line\":{\"color\":\"green\",\"dash\":\"dash\"},\"type\":\"line\",\"x0\":33.4094433383443,\"x1\":33.4094433383443,\"xref\":\"x\",\"y0\":0,\"y1\":1,\"yref\":\"y domain\"},{\"line\":{\"color\":\"green\",\"dash\":\"dash\"},\"type\":\"line\",\"x0\":17.003255074354108,\"x1\":17.003255074354108,\"xref\":\"x\",\"y0\":0,\"y1\":1,\"yref\":\"y domain\"},{\"line\":{\"color\":\"green\",\"dash\":\"dash\"},\"type\":\"line\",\"x0\":41.612537470339404,\"x1\":41.612537470339404,\"xref\":\"x\",\"y0\":0,\"y1\":1,\"yref\":\"y domain\"},{\"line\":{\"color\":\"green\",\"dash\":\"dash\"},\"type\":\"line\",\"x0\":8.80016094235901,\"x1\":8.80016094235901,\"xref\":\"x\",\"y0\":0,\"y1\":1,\"yref\":\"y domain\"}],\"annotations\":[{\"font\":{\"color\":\"green\",\"size\":20},\"showarrow\":false,\"text\":\"\\u03bc\",\"x\":25.206349206349206,\"xanchor\":\"left\",\"xref\":\"x\",\"xshift\":10,\"y\":1,\"yanchor\":\"top\",\"yref\":\"y domain\",\"yshift\":-300},{\"font\":{\"color\":\"green\",\"size\":20},\"showarrow\":false,\"text\":\"+\\u03c3\",\"x\":33.4094433383443,\"xanchor\":\"left\",\"xref\":\"x\",\"xshift\":10,\"y\":1,\"yanchor\":\"top\",\"yref\":\"y domain\",\"yshift\":-300},{\"font\":{\"color\":\"green\",\"size\":20},\"showarrow\":false,\"text\":\"-\\u03c3\",\"x\":17.003255074354108,\"xanchor\":\"left\",\"xref\":\"x\",\"xshift\":10,\"y\":1,\"yanchor\":\"top\",\"yref\":\"y domain\",\"yshift\":-300},{\"font\":{\"color\":\"green\",\"size\":20},\"showarrow\":false,\"text\":\"+2\\u03c3\",\"x\":41.612537470339404,\"xanchor\":\"left\",\"xref\":\"x\",\"xshift\":10,\"y\":1,\"yanchor\":\"top\",\"yref\":\"y domain\",\"yshift\":-300},{\"font\":{\"color\":\"green\",\"size\":20},\"showarrow\":false,\"text\":\"-2\\u03c3\",\"x\":8.80016094235901,\"xanchor\":\"left\",\"xref\":\"x\",\"xshift\":10,\"y\":1,\"yanchor\":\"top\",\"yref\":\"y domain\",\"yshift\":-300}]},                        {\"responsive\": true}                    ).then(function(){\n",
       "                            \n",
       "var gd = document.getElementById('10cadafc-3a90-4531-99f4-35ce3dda5bdf');\n",
       "var x = new MutationObserver(function (mutations, observer) {{\n",
       "        var display = window.getComputedStyle(gd).display;\n",
       "        if (!display || display === 'none') {{\n",
       "            console.log([gd, 'removed!']);\n",
       "            Plotly.purge(gd);\n",
       "            observer.disconnect();\n",
       "        }}\n",
       "}});\n",
       "\n",
       "// Listen for the removal of the full notebook cells\n",
       "var notebookContainer = gd.closest('#notebook-container');\n",
       "if (notebookContainer) {{\n",
       "    x.observe(notebookContainer, {childList: true});\n",
       "}}\n",
       "\n",
       "// Listen for the clearing of the current output cell\n",
       "var outputEl = gd.closest('.output');\n",
       "if (outputEl) {{\n",
       "    x.observe(outputEl, {childList: true});\n",
       "}}\n",
       "\n",
       "                        })                };                });            </script>        </div>"
      ]
     },
     "metadata": {},
     "output_type": "display_data"
    }
   ],
   "source": [
    "fig = px.histogram(diaper_output[\"diaper_output\"], nbins=30)\n",
    "fig.update_layout(showlegend=False)\n",
    "fig.update_layout(xaxis_title=\"Isaak's Daily Diaper Output\", height=800)\n",
    "fig.add_vline(\n",
    "    diaper_output_mean,\n",
    "    line_dash=\"dash\",\n",
    "    line_color=\"green\",\n",
    "    annotation=dict(\n",
    "        text=\"μ\", xshift=10, yshift=-300, font=dict(size=20, color=\"green\")\n",
    "    ),\n",
    ")\n",
    "fig.add_vline(\n",
    "    diaper_output_mean + diaper_output_std,\n",
    "    line_dash=\"dash\",\n",
    "    line_color=\"green\",\n",
    "    annotation=dict(\n",
    "        text=\"+σ\", xshift=10, yshift=-300, font=dict(size=20, color=\"green\")\n",
    "    ),\n",
    ")\n",
    "fig.add_vline(\n",
    "    diaper_output_mean - diaper_output_std,\n",
    "    line_dash=\"dash\",\n",
    "    line_color=\"green\",\n",
    "    annotation=dict(\n",
    "        text=\"-σ\", xshift=10, yshift=-300, font=dict(size=20, color=\"green\")\n",
    "    ),\n",
    ")\n",
    "fig.add_vline(\n",
    "    diaper_output_mean + 2 * diaper_output_std,\n",
    "    line_dash=\"dash\",\n",
    "    line_color=\"green\",\n",
    "    annotation=dict(\n",
    "        text=\"+2σ\", xshift=10, yshift=-300, font=dict(size=20, color=\"green\")\n",
    "    ),\n",
    ")\n",
    "fig.add_vline(\n",
    "    diaper_output_mean - 2 * diaper_output_std,\n",
    "    line_dash=\"dash\",\n",
    "    line_color=\"green\",\n",
    "    annotation=dict(\n",
    "        text=\"-2σ\", xshift=10, yshift=-300, font=dict(size=20, color=\"green\")\n",
    "    ),\n",
    ")\n",
    "fig.show()\n",
    "fig.write_html(\"isaak_diapers_encoded_output_histogram.html\")"
   ]
  },
  {
   "cell_type": "code",
   "execution_count": 334,
   "id": "b51ce67f-5e35-4e4e-9665-239123514a30",
   "metadata": {},
   "outputs": [
    {
     "data": {
      "application/vnd.plotly.v1+json": {
       "config": {
        "plotlyServerURL": "https://plot.ly"
       },
       "data": [
        {
         "histnorm": "probability density",
         "legendgroup": "Isaak's Daily Diaper Output",
         "marker": {
          "color": "rgb(31, 119, 180)"
         },
         "name": "Isaak's Daily Diaper Output",
         "opacity": 0.7,
         "type": "histogram",
         "x": [
          24,
          15,
          33,
          45,
          46,
          41,
          42,
          40,
          39,
          37,
          32,
          18,
          40,
          20,
          43,
          17,
          28,
          37,
          35,
          31,
          30,
          41,
          30,
          24,
          34,
          21,
          35,
          24,
          31,
          31,
          35,
          27,
          29,
          41,
          29,
          29,
          19,
          30,
          17,
          31,
          22,
          24,
          32,
          34,
          27,
          25,
          24,
          26,
          23,
          31,
          25,
          34,
          27,
          20,
          35,
          25,
          24,
          27,
          29,
          25,
          23,
          30,
          21,
          17,
          25,
          24,
          29,
          31,
          25,
          27,
          38,
          23,
          17,
          18,
          26,
          26,
          23,
          24,
          20,
          21,
          25,
          22,
          19,
          18,
          25,
          11,
          26,
          31,
          23,
          22,
          21,
          23,
          31,
          18,
          24,
          17,
          17,
          24,
          21,
          24,
          24,
          15,
          10,
          13,
          12,
          10,
          15,
          6,
          4,
          32,
          22,
          23,
          16,
          24,
          24,
          14,
          17,
          30,
          17,
          25,
          16,
          18,
          17,
          21,
          23,
          8
         ],
         "xaxis": "x",
         "xbins": {
          "end": 46,
          "size": 1,
          "start": 4
         },
         "yaxis": "y"
        },
        {
         "legendgroup": "Isaak's Daily Diaper Output",
         "marker": {
          "color": "rgb(31, 119, 180)"
         },
         "mode": "lines",
         "name": "Isaak's Daily Diaper Output",
         "showlegend": false,
         "type": "scatter",
         "x": [
          4,
          4.084,
          4.168,
          4.252,
          4.336,
          4.42,
          4.504,
          4.588,
          4.672,
          4.756,
          4.84,
          4.924,
          5.008,
          5.0920000000000005,
          5.176,
          5.26,
          5.344,
          5.428,
          5.5120000000000005,
          5.596,
          5.68,
          5.764,
          5.848,
          5.932,
          6.016,
          6.1,
          6.184,
          6.268,
          6.352,
          6.436,
          6.52,
          6.604,
          6.688000000000001,
          6.772,
          6.856,
          6.9399999999999995,
          7.024,
          7.1080000000000005,
          7.192,
          7.276,
          7.359999999999999,
          7.444,
          7.5280000000000005,
          7.612,
          7.696,
          7.779999999999999,
          7.864,
          7.948,
          8.032,
          8.116,
          8.2,
          8.283999999999999,
          8.368,
          8.452,
          8.536,
          8.620000000000001,
          8.704,
          8.788,
          8.872,
          8.956,
          9.04,
          9.123999999999999,
          9.208,
          9.292,
          9.376000000000001,
          9.46,
          9.544,
          9.628,
          9.712,
          9.796,
          9.879999999999999,
          9.964,
          10.048,
          10.132,
          10.216000000000001,
          10.3,
          10.384,
          10.468,
          10.552,
          10.636,
          10.719999999999999,
          10.804,
          10.888,
          10.972000000000001,
          11.056000000000001,
          11.14,
          11.224,
          11.308,
          11.392,
          11.475999999999999,
          11.559999999999999,
          11.644,
          11.728,
          11.812000000000001,
          11.896,
          11.98,
          12.064,
          12.148,
          12.232,
          12.316,
          12.4,
          12.484,
          12.568,
          12.652,
          12.736,
          12.82,
          12.904,
          12.988,
          13.072,
          13.156,
          13.24,
          13.324,
          13.408,
          13.492,
          13.576,
          13.66,
          13.744,
          13.828,
          13.912,
          13.996,
          14.08,
          14.164,
          14.248,
          14.332,
          14.416,
          14.5,
          14.584,
          14.668,
          14.752,
          14.836,
          14.92,
          15.004,
          15.088,
          15.172,
          15.256,
          15.34,
          15.424,
          15.508,
          15.592,
          15.676,
          15.76,
          15.844,
          15.928,
          16.012,
          16.096,
          16.18,
          16.264,
          16.348,
          16.432000000000002,
          16.516,
          16.6,
          16.683999999999997,
          16.768,
          16.852,
          16.936,
          17.02,
          17.104,
          17.188000000000002,
          17.272,
          17.356,
          17.439999999999998,
          17.524,
          17.608,
          17.692,
          17.776,
          17.86,
          17.944000000000003,
          18.028,
          18.112000000000002,
          18.195999999999998,
          18.28,
          18.364,
          18.448,
          18.532,
          18.616,
          18.7,
          18.784,
          18.868000000000002,
          18.951999999999998,
          19.036,
          19.119999999999997,
          19.204,
          19.288,
          19.372,
          19.456,
          19.54,
          19.624000000000002,
          19.708,
          19.792,
          19.875999999999998,
          19.96,
          20.044,
          20.128,
          20.212,
          20.296,
          20.38,
          20.464,
          20.548,
          20.632,
          20.716,
          20.8,
          20.884,
          20.968,
          21.052,
          21.136,
          21.22,
          21.304,
          21.388,
          21.472,
          21.556,
          21.64,
          21.724,
          21.808,
          21.892,
          21.976,
          22.06,
          22.144,
          22.228,
          22.312,
          22.396,
          22.48,
          22.564,
          22.648,
          22.732,
          22.816,
          22.9,
          22.984,
          23.068,
          23.152,
          23.236,
          23.32,
          23.404,
          23.488,
          23.572,
          23.656,
          23.74,
          23.824,
          23.908,
          23.992,
          24.076,
          24.16,
          24.244,
          24.328,
          24.412,
          24.496,
          24.58,
          24.664,
          24.748,
          24.832,
          24.916,
          25,
          25.084,
          25.168,
          25.252,
          25.336,
          25.42,
          25.504,
          25.588,
          25.672,
          25.756,
          25.84,
          25.924,
          26.008,
          26.092,
          26.176,
          26.26,
          26.344,
          26.428,
          26.512,
          26.596,
          26.68,
          26.764,
          26.848,
          26.932,
          27.016,
          27.1,
          27.184,
          27.268,
          27.352,
          27.436,
          27.52,
          27.604,
          27.688,
          27.772,
          27.856,
          27.94,
          28.024,
          28.108,
          28.192,
          28.276,
          28.36,
          28.444,
          28.528,
          28.612,
          28.696,
          28.78,
          28.864,
          28.948,
          29.032,
          29.116,
          29.2,
          29.284,
          29.368,
          29.452,
          29.536,
          29.62,
          29.704,
          29.788,
          29.872,
          29.956,
          30.04,
          30.124,
          30.208,
          30.292,
          30.376,
          30.46,
          30.544,
          30.628,
          30.712,
          30.796,
          30.88,
          30.964,
          31.048,
          31.132,
          31.216,
          31.3,
          31.384,
          31.468,
          31.552,
          31.636,
          31.72,
          31.804,
          31.888,
          31.972,
          32.056,
          32.14,
          32.224000000000004,
          32.308,
          32.391999999999996,
          32.476,
          32.56,
          32.644,
          32.728,
          32.812,
          32.896,
          32.980000000000004,
          33.064,
          33.147999999999996,
          33.232,
          33.316,
          33.4,
          33.484,
          33.568,
          33.652,
          33.736000000000004,
          33.82,
          33.903999999999996,
          33.988,
          34.072,
          34.156,
          34.239999999999995,
          34.324,
          34.408,
          34.492000000000004,
          34.576,
          34.66,
          34.744,
          34.828,
          34.912,
          34.995999999999995,
          35.08,
          35.164,
          35.248000000000005,
          35.332,
          35.416,
          35.5,
          35.584,
          35.668,
          35.751999999999995,
          35.836,
          35.92,
          36.004,
          36.088,
          36.172,
          36.256,
          36.34,
          36.424,
          36.508,
          36.592,
          36.676,
          36.76,
          36.844,
          36.928,
          37.012,
          37.096,
          37.18,
          37.264,
          37.348,
          37.432,
          37.516,
          37.6,
          37.684,
          37.768,
          37.852,
          37.936,
          38.02,
          38.104,
          38.188,
          38.272,
          38.356,
          38.44,
          38.524,
          38.608,
          38.692,
          38.776,
          38.86,
          38.944,
          39.028,
          39.112,
          39.196,
          39.28,
          39.364,
          39.448,
          39.532,
          39.616,
          39.7,
          39.784,
          39.868,
          39.952,
          40.036,
          40.12,
          40.204,
          40.288,
          40.372,
          40.456,
          40.54,
          40.624,
          40.708,
          40.792,
          40.876,
          40.96,
          41.044,
          41.128,
          41.212,
          41.296,
          41.38,
          41.464,
          41.548,
          41.632,
          41.716,
          41.8,
          41.884,
          41.968,
          42.052,
          42.136,
          42.22,
          42.304,
          42.388,
          42.472,
          42.556,
          42.64,
          42.724,
          42.808,
          42.892,
          42.976,
          43.06,
          43.144,
          43.228,
          43.312,
          43.396,
          43.48,
          43.564,
          43.648,
          43.732,
          43.816,
          43.9,
          43.984,
          44.068,
          44.152,
          44.236,
          44.32,
          44.404,
          44.488,
          44.572,
          44.656,
          44.74,
          44.824,
          44.908,
          44.992,
          45.076,
          45.16,
          45.244,
          45.328,
          45.412,
          45.496,
          45.58,
          45.664,
          45.748,
          45.832,
          45.916
         ],
         "xaxis": "x",
         "y": [
          0.0027590791885546374,
          0.002815648875870469,
          0.002872564834987734,
          0.002929823856784633,
          0.0029874237089167156,
          0.003045363154108585,
          0.0031036419652954303,
          0.0031622609376965585,
          0.00322122189792949,
          0.0032805277102990493,
          0.0033401822804208572,
          0.0034001905563626833,
          0.0034605585275096214,
          0.003521293221380365,
          0.003582402698641158,
          0.0036438960465814446,
          0.0037057833713305573,
          0.0037680757891076647,
          0.0038307854168076047,
          0.0038939253622328773,
          0.003957509714286901,
          0.004021553533445438,
          0.004086072842821861,
          0.0041510846201374615,
          0.004216606790900228,
          0.004282658223084621,
          0.004349258723590452,
          0.004416429036741357,
          0.004484190845062523,
          0.0045525667725531275,
          0.004621580390641781,
          0.004691256226983057,
          0.00476161977722009,
          0.004832697519802493,
          0.0049045169339107094,
          0.0049771065204972965,
          0.005050495826413425,
          0.00512471547154454,
          0.0051997971788336605,
          0.005275773807024198,
          0.005352679385906708,
          0.005430549153806381,
          0.005509419597000186,
          0.005589328490705399,
          0.005670314941234598,
          0.005752419428866891,
          0.005835683850941581,
          0.005920151564638555,
          0.006005867428870826,
          0.006092877844678107,
          0.006181230793477377,
          0.006270975872497225,
          0.00636216432669729,
          0.006454849076453517,
          0.006549084740273991,
          0.006644927651799108,
          0.006742435870334598,
          0.006841669184166105,
          0.006942689105910322,
          0.007045558859169969,
          0.007150343355778715,
          0.007257109162947101,
          0.007365924459652433,
          0.0074768589816534906,
          0.007589983954556019,
          0.007705372014405938,
          0.007823097115345175,
          0.00794323442392862,
          0.008065860199770996,
          0.008191051662267884,
          0.008318886843216581,
          0.008449444425248687,
          0.008582803566077388,
          0.008719043708657828,
          0.008858244377457842,
          0.009000484961138729,
          0.009145844482050736,
          0.00929440135305456,
          0.009446233122288619,
          0.009601416206610676,
          0.00976002561455093,
          0.009922134659721861,
          0.01008781466573616,
          0.010257134663787887,
          0.010430161084152838,
          0.010606957442960177,
          0.010787584025679592,
          0.0109720975688539,
          0.011160550941686784,
          0.01135299282916748,
          0.011549467418478933,
          0.01175001409049124,
          0.01195466711818849,
          0.012163455373913425,
          0.012376402047339755,
          0.012593524376096085,
          0.012814833390968167,
          0.013040333677596605,
          0.013270023156564767,
          0.01350389288373707,
          0.013741926872659668,
          0.01398410194077458,
          0.014230387581123816,
          0.014480745861133064,
          0.014735131349963416,
          0.014993491075806767,
          0.015255764514374636,
          0.015521883609692196,
          0.015791772828159793,
          0.016065349246684252,
          0.016342522675510715,
          0.01662319581620652,
          0.01690726445505871,
          0.01719461769195108,
          0.01748513820458271,
          0.017778702547681567,
          0.018075181486653182,
          0.018374440364888504,
          0.01867633950373604,
          0.0189807346339257,
          0.01928747735701279,
          0.019596415635195832,
          0.019907394307649505,
          0.020220255631307627,
          0.020534839843830678,
          0.02085098574630079,
          0.02116853130300446,
          0.021487314255491365,
          0.021807172747939328,
          0.022127945960708925,
          0.022449474748841045,
          0.022771602282136316,
          0.023094174683357373,
          0.023417041661016477,
          0.023740057133151037,
          0.02406307983844935,
          0.02438597393107078,
          0.02470860955550628,
          0.025030863397849937,
          0.025352619209898692,
          0.02567376830256646,
          0.025994210005190567,
          0.02631385208742254,
          0.02663261114053133,
          0.02695041291510594,
          0.02726719261232373,
          0.027582895126150697,
          0.027897475234061348,
          0.028210897734104377,
          0.028523137526397693,
          0.028834179637410872,
          0.02914401918568169,
          0.029452661287917205,
          0.02976012090474496,
          0.03006642262570669,
          0.030371600393420954,
          0.030675697167184376,
          0.030978764526627327,
          0.031280862216389954,
          0.03158205763313757,
          0.031882425256580894,
          0.03218204602651804,
          0.03248100666825275,
          0.03277939896908072,
          0.03307731900885853,
          0.03337486634798418,
          0.033672143176416966,
          0.03396925342764856,
          0.03426630186180425,
          0.034563393122298766,
          0.034860630770699376,
          0.035158116304649836,
          0.03545594816389,
          0.035754220729557896,
          0.036053023322088394,
          0.03635243920312091,
          0.03665254458689916,
          0.036953407666684236,
          0.03725508766171442,
          0.037557633890221584,
          0.037861084873963925,
          0.03816546747965015,
          0.0384707961025159,
          0.038777071897169314,
          0.03908428206064477,
          0.039392399172400894,
          0.03970138059576242,
          0.04001116794504532,
          0.04032168662231422,
          0.04063284542740677,
          0.04094453624452222,
          0.04125663380830926,
          0.041568995552008076,
          0.041881461539800824,
          0.04219385448510836,
          0.04250597985614028,
          0.04281762606956212,
          0.043128564772690586,
          0.0434385512141667,
          0.043747324702593744,
          0.0440546091521561,
          0.044360113713771125,
          0.04466353348986009,
          0.04496455033036576,
          0.0452628337071935,
          0.045558041663814504,
          0.04584982183634001,
          0.0461378125419681,
          0.046421643930309564,
          0.04670093919272928,
          0.04697531582448885,
          0.04724438693415444,
          0.04750776259443391,
          0.047765051228342785,
          0.04801586102435795,
          0.04825980137401607,
          0.04849648432523931,
          0.048725526044537115,
          0.04894654828113122,
          0.04915917982598613,
          0.049363057958703875,
          0.04955782987525007,
          0.049743154089530756,
          0.049918701801924266,
          0.05008415822800048,
          0.050239223880819965,
          0.05038361580040644,
          0.05051706872422004,
          0.05063933619272891,
          0.05075019158447965,
          0.0508494290754006,
          0.0509368645174389,
          0.0510123362320221,
          0.05107570571425664,
          0.051126858244215236,
          0.05116570340213242,
          0.05119217548480533,
          0.051206233821001056,
          0.05120786298417903,
          0.05119707290136093,
          0.05117389885751182,
          0.05113840139532756,
          0.05109066611086111,
          0.05103080334595267,
          0.05095894777895877,
          0.05087525791579537,
          0.050779915483819785,
          0.050673124731575314,
          0.05055511163789676,
          0.05042612303434048,
          0.05028642564533643,
          0.05013630505087392,
          0.04997606457691818,
          0.04980602411911212,
          0.04962651890564057,
          0.04943789820542683,
          0.04924052398808869,
          0.04903476954229855,
          0.04882101805937787,
          0.0485996611890962,
          0.04837109757475412,
          0.04813573137468843,
          0.047893970777366984,
          0.047646226517223354,
          0.047392910398323725,
          0.04713443383286822,
          0.046871206401391766,
          0.04660363444135947,
          0.046332119670645815,
          0.046057057852143986,
          0.04577883750547445,
          0.04549783867145912,
          0.04521443173468787,
          0.04492897630914402,
          0.044641820191465245,
          0.04435329838600911,
          0.04406373220546193,
          0.04377342845028305,
          0.04348267866981978,
          0.04319175850745399,
          0.04290092713166619,
          0.042610426754417445,
          0.04232048223776407,
          0.04203130078913763,
          0.04174307174523997,
          0.04145596644403101,
          0.04117013818382295,
          0.04088572226804317,
          0.040602836133791766,
          0.04032157956190082,
          0.04004203496580411,
          0.03976426775614865,
          0.039488326777726845,
          0.039214244814981404,
          0.03894203916203558,
          0.03867171225293133,
          0.03840325234751724,
          0.038136634268219546,
          0.03787182018275154,
          0.037608760427674054,
          0.03734739436760442,
          0.03708765128479578,
          0.0368294512937602,
          0.03657270627559488,
          0.0363173208266908,
          0.03606319321654926,
          0.03581021634951217,
          0.035558278725320754,
          0.03530726539354966,
          0.03505705889712912,
          0.0348075402003488,
          0.03455858959695067,
          0.034310087594142794,
          0.03406191576861741,
          0.03381395759091882,
          0.03356609921478702,
          0.033318230228394134,
          0.03307024436469158,
          0.032822040168395065,
          0.0325735216174497,
          0.03232459869713483,
          0.03207518792528658,
          0.03182521282743551,
          0.031574604360969316,
          0.031323301287741766,
          0.031071250494850253,
          0.030818407263597705,
          0.030564735486938773,
          0.030310207835979288,
          0.030054805876355967,
          0.029798520135565776,
          0.029541350122540857,
          0.029283304300973676,
          0.029024400018090413,
          0.02876466339074287,
          0.028504129150844888,
          0.028242840452314254,
          0.027980848641798794,
          0.02771821299556072,
          0.02745500042497425,
          0.027191285153147785,
          0.0269271483652261,
          0.02666267783494862,
          0.026397967530049474,
          0.02613311719907059,
          0.02586823194213899,
          0.02560342176821466,
          0.025338801141266517,
          0.025074488517766048,
          0.024810605877812607,
          0.02454727825211945,
          0.024284633246992718,
          0.024022800569335846,
          0.023761911553601935,
          0.02350209869250461,
          0.023243495173182138,
          0.02298623442038779,
          0.022730449648163346,
          0.022476273421328262,
          0.02222383722799996,
          0.021973271064241347,
          0.02172470303181796,
          0.02147825894993444,
          0.021234061981712234,
          0.02099223227606969,
          0.020752886625566198,
          0.020516138140682136,
          0.020282095940921133,
          0.02005086486304062,
          0.019822545186647354,
          0.019597232377325753,
          0.01937501684741105,
          0.019155983734463908,
          0.018940212697460743,
          0.018727777730669148,
          0.01851874699515055,
          0.018313182667795757,
          0.018111140807783234,
          0.017912671240325025,
          0.017717817457553603,
          0.017526616536391013,
          0.01733909907323167,
          0.017155289135266982,
          0.016975204228273193,
          0.0167988552806826,
          0.016626246643755498,
          0.016457376107668516,
          0.01629223493333225,
          0.01613080789974895,
          0.0159730733667151,
          0.015819003352669794,
          0.01566856362747902,
          0.015521713819938417,
          0.01537840753976183,
          0.01523859251380806,
          0.015102210736279964,
          0.014969198632607041,
          0.014839487236699053,
          0.014713002381229662,
          0.014589664900578989,
          0.014469390846029648,
          0.01435209171277609,
          0.014237674678267446,
          0.014126042851364947,
          0.014017095531752264,
          0.013910728478994484,
          0.01380683419059681,
          0.013705302188371005,
          0.013606019312371327,
          0.013508870021619795,
          0.013413736700797204,
          0.013320499972035101,
          0.013229039010905573,
          0.013139231865668401,
          0.013050955778803556,
          0.012964087509825112,
          0.012878503658348204,
          0.012794080986360222,
          0.012710696738628402,
          0.012628228960167047,
          0.012546556809680432,
          0.012465560867897551,
          0.012385123439720822,
          0.012305128849121867,
          0.012225463725736293,
          0.012146017282133638,
          0.01206668158076758,
          0.011987351789650047,
          0.01190792642583416,
          0.011828307585839444,
          0.011748401162207232,
          0.011668117045433397,
          0.011587369310589235,
          0.011506076388011632,
          0.011424161217515721,
          0.011341551385660106,
          0.011258179245676257,
          0.011173982019754265,
          0.01108890188346451,
          0.011002886032179308,
          0.010915886729447748,
          0.010827861337363276,
          0.010738772329052463,
          0.010648587283499633,
          0.010557278863006706,
          0.010464824773671638,
          0.010371207709349609,
          0.010276415279636573,
          0.010180439922490889,
          0.010083278802176078,
          0.00998493369327337,
          0.009885410851571668,
          0.009784720872696856,
          0.009682878539390092,
          0.00957990265838678,
          0.009475815887883118,
          0.009370644556606553,
          0.009264418475528047,
          0.009157170743269334,
          0.009048937546267493,
          0.008939757954759991,
          0.008829673715648934,
          0.008718729043291016,
          0.008606970409242107,
          0.00849444633196082,
          0.008381207167445124,
          0.008267304901740808,
          0.008152792946218755,
          0.008037725936473412,
          0.007922159535643155,
          0.007806150242900853,
          0.007689755207803338,
          0.007573032051130145,
          0.007456038692777034,
          0.0073388331872063315,
          0.00722147356688894,
          0.007104017694106564,
          0.006986523121414642,
          0.0068690469609998354,
          0.006751645763099288,
          0.006634375403583129,
          0.006517290980739195,
          0.006400446721236239,
          0.006283895895183649,
          0.006167690740149611,
          0.006051882393946629,
          0.005936520835944089,
          0.005821654836622485,
          0.005707331915042334,
          0.005593598303863851,
          0.005480498921521086,
          0.0053680773511257315,
          0.005256375825653243,
          0.005145435218943747,
          0.005035295042037831,
          0.00492599344435592,
          0.004817567219226438,
          0.004710051813266054,
          0.004603481339119417,
          0.004497888591073164
         ],
         "yaxis": "y"
        }
       ],
       "layout": {
        "autosize": true,
        "barmode": "overlay",
        "hovermode": "closest",
        "legend": {
         "traceorder": "reversed"
        },
        "template": {
         "data": {
          "bar": [
           {
            "error_x": {
             "color": "#2a3f5f"
            },
            "error_y": {
             "color": "#2a3f5f"
            },
            "marker": {
             "line": {
              "color": "#E5ECF6",
              "width": 0.5
             },
             "pattern": {
              "fillmode": "overlay",
              "size": 10,
              "solidity": 0.2
             }
            },
            "type": "bar"
           }
          ],
          "barpolar": [
           {
            "marker": {
             "line": {
              "color": "#E5ECF6",
              "width": 0.5
             },
             "pattern": {
              "fillmode": "overlay",
              "size": 10,
              "solidity": 0.2
             }
            },
            "type": "barpolar"
           }
          ],
          "carpet": [
           {
            "aaxis": {
             "endlinecolor": "#2a3f5f",
             "gridcolor": "white",
             "linecolor": "white",
             "minorgridcolor": "white",
             "startlinecolor": "#2a3f5f"
            },
            "baxis": {
             "endlinecolor": "#2a3f5f",
             "gridcolor": "white",
             "linecolor": "white",
             "minorgridcolor": "white",
             "startlinecolor": "#2a3f5f"
            },
            "type": "carpet"
           }
          ],
          "choropleth": [
           {
            "colorbar": {
             "outlinewidth": 0,
             "ticks": ""
            },
            "type": "choropleth"
           }
          ],
          "contour": [
           {
            "colorbar": {
             "outlinewidth": 0,
             "ticks": ""
            },
            "colorscale": [
             [
              0,
              "#0d0887"
             ],
             [
              0.1111111111111111,
              "#46039f"
             ],
             [
              0.2222222222222222,
              "#7201a8"
             ],
             [
              0.3333333333333333,
              "#9c179e"
             ],
             [
              0.4444444444444444,
              "#bd3786"
             ],
             [
              0.5555555555555556,
              "#d8576b"
             ],
             [
              0.6666666666666666,
              "#ed7953"
             ],
             [
              0.7777777777777778,
              "#fb9f3a"
             ],
             [
              0.8888888888888888,
              "#fdca26"
             ],
             [
              1,
              "#f0f921"
             ]
            ],
            "type": "contour"
           }
          ],
          "contourcarpet": [
           {
            "colorbar": {
             "outlinewidth": 0,
             "ticks": ""
            },
            "type": "contourcarpet"
           }
          ],
          "heatmap": [
           {
            "colorbar": {
             "outlinewidth": 0,
             "ticks": ""
            },
            "colorscale": [
             [
              0,
              "#0d0887"
             ],
             [
              0.1111111111111111,
              "#46039f"
             ],
             [
              0.2222222222222222,
              "#7201a8"
             ],
             [
              0.3333333333333333,
              "#9c179e"
             ],
             [
              0.4444444444444444,
              "#bd3786"
             ],
             [
              0.5555555555555556,
              "#d8576b"
             ],
             [
              0.6666666666666666,
              "#ed7953"
             ],
             [
              0.7777777777777778,
              "#fb9f3a"
             ],
             [
              0.8888888888888888,
              "#fdca26"
             ],
             [
              1,
              "#f0f921"
             ]
            ],
            "type": "heatmap"
           }
          ],
          "heatmapgl": [
           {
            "colorbar": {
             "outlinewidth": 0,
             "ticks": ""
            },
            "colorscale": [
             [
              0,
              "#0d0887"
             ],
             [
              0.1111111111111111,
              "#46039f"
             ],
             [
              0.2222222222222222,
              "#7201a8"
             ],
             [
              0.3333333333333333,
              "#9c179e"
             ],
             [
              0.4444444444444444,
              "#bd3786"
             ],
             [
              0.5555555555555556,
              "#d8576b"
             ],
             [
              0.6666666666666666,
              "#ed7953"
             ],
             [
              0.7777777777777778,
              "#fb9f3a"
             ],
             [
              0.8888888888888888,
              "#fdca26"
             ],
             [
              1,
              "#f0f921"
             ]
            ],
            "type": "heatmapgl"
           }
          ],
          "histogram": [
           {
            "marker": {
             "pattern": {
              "fillmode": "overlay",
              "size": 10,
              "solidity": 0.2
             }
            },
            "type": "histogram"
           }
          ],
          "histogram2d": [
           {
            "colorbar": {
             "outlinewidth": 0,
             "ticks": ""
            },
            "colorscale": [
             [
              0,
              "#0d0887"
             ],
             [
              0.1111111111111111,
              "#46039f"
             ],
             [
              0.2222222222222222,
              "#7201a8"
             ],
             [
              0.3333333333333333,
              "#9c179e"
             ],
             [
              0.4444444444444444,
              "#bd3786"
             ],
             [
              0.5555555555555556,
              "#d8576b"
             ],
             [
              0.6666666666666666,
              "#ed7953"
             ],
             [
              0.7777777777777778,
              "#fb9f3a"
             ],
             [
              0.8888888888888888,
              "#fdca26"
             ],
             [
              1,
              "#f0f921"
             ]
            ],
            "type": "histogram2d"
           }
          ],
          "histogram2dcontour": [
           {
            "colorbar": {
             "outlinewidth": 0,
             "ticks": ""
            },
            "colorscale": [
             [
              0,
              "#0d0887"
             ],
             [
              0.1111111111111111,
              "#46039f"
             ],
             [
              0.2222222222222222,
              "#7201a8"
             ],
             [
              0.3333333333333333,
              "#9c179e"
             ],
             [
              0.4444444444444444,
              "#bd3786"
             ],
             [
              0.5555555555555556,
              "#d8576b"
             ],
             [
              0.6666666666666666,
              "#ed7953"
             ],
             [
              0.7777777777777778,
              "#fb9f3a"
             ],
             [
              0.8888888888888888,
              "#fdca26"
             ],
             [
              1,
              "#f0f921"
             ]
            ],
            "type": "histogram2dcontour"
           }
          ],
          "mesh3d": [
           {
            "colorbar": {
             "outlinewidth": 0,
             "ticks": ""
            },
            "type": "mesh3d"
           }
          ],
          "parcoords": [
           {
            "line": {
             "colorbar": {
              "outlinewidth": 0,
              "ticks": ""
             }
            },
            "type": "parcoords"
           }
          ],
          "pie": [
           {
            "automargin": true,
            "type": "pie"
           }
          ],
          "scatter": [
           {
            "fillpattern": {
             "fillmode": "overlay",
             "size": 10,
             "solidity": 0.2
            },
            "type": "scatter"
           }
          ],
          "scatter3d": [
           {
            "line": {
             "colorbar": {
              "outlinewidth": 0,
              "ticks": ""
             }
            },
            "marker": {
             "colorbar": {
              "outlinewidth": 0,
              "ticks": ""
             }
            },
            "type": "scatter3d"
           }
          ],
          "scattercarpet": [
           {
            "marker": {
             "colorbar": {
              "outlinewidth": 0,
              "ticks": ""
             }
            },
            "type": "scattercarpet"
           }
          ],
          "scattergeo": [
           {
            "marker": {
             "colorbar": {
              "outlinewidth": 0,
              "ticks": ""
             }
            },
            "type": "scattergeo"
           }
          ],
          "scattergl": [
           {
            "marker": {
             "colorbar": {
              "outlinewidth": 0,
              "ticks": ""
             }
            },
            "type": "scattergl"
           }
          ],
          "scattermapbox": [
           {
            "marker": {
             "colorbar": {
              "outlinewidth": 0,
              "ticks": ""
             }
            },
            "type": "scattermapbox"
           }
          ],
          "scatterpolar": [
           {
            "marker": {
             "colorbar": {
              "outlinewidth": 0,
              "ticks": ""
             }
            },
            "type": "scatterpolar"
           }
          ],
          "scatterpolargl": [
           {
            "marker": {
             "colorbar": {
              "outlinewidth": 0,
              "ticks": ""
             }
            },
            "type": "scatterpolargl"
           }
          ],
          "scatterternary": [
           {
            "marker": {
             "colorbar": {
              "outlinewidth": 0,
              "ticks": ""
             }
            },
            "type": "scatterternary"
           }
          ],
          "surface": [
           {
            "colorbar": {
             "outlinewidth": 0,
             "ticks": ""
            },
            "colorscale": [
             [
              0,
              "#0d0887"
             ],
             [
              0.1111111111111111,
              "#46039f"
             ],
             [
              0.2222222222222222,
              "#7201a8"
             ],
             [
              0.3333333333333333,
              "#9c179e"
             ],
             [
              0.4444444444444444,
              "#bd3786"
             ],
             [
              0.5555555555555556,
              "#d8576b"
             ],
             [
              0.6666666666666666,
              "#ed7953"
             ],
             [
              0.7777777777777778,
              "#fb9f3a"
             ],
             [
              0.8888888888888888,
              "#fdca26"
             ],
             [
              1,
              "#f0f921"
             ]
            ],
            "type": "surface"
           }
          ],
          "table": [
           {
            "cells": {
             "fill": {
              "color": "#EBF0F8"
             },
             "line": {
              "color": "white"
             }
            },
            "header": {
             "fill": {
              "color": "#C8D4E3"
             },
             "line": {
              "color": "white"
             }
            },
            "type": "table"
           }
          ]
         },
         "layout": {
          "annotationdefaults": {
           "arrowcolor": "#2a3f5f",
           "arrowhead": 0,
           "arrowwidth": 1
          },
          "autotypenumbers": "strict",
          "coloraxis": {
           "colorbar": {
            "outlinewidth": 0,
            "ticks": ""
           }
          },
          "colorscale": {
           "diverging": [
            [
             0,
             "#8e0152"
            ],
            [
             0.1,
             "#c51b7d"
            ],
            [
             0.2,
             "#de77ae"
            ],
            [
             0.3,
             "#f1b6da"
            ],
            [
             0.4,
             "#fde0ef"
            ],
            [
             0.5,
             "#f7f7f7"
            ],
            [
             0.6,
             "#e6f5d0"
            ],
            [
             0.7,
             "#b8e186"
            ],
            [
             0.8,
             "#7fbc41"
            ],
            [
             0.9,
             "#4d9221"
            ],
            [
             1,
             "#276419"
            ]
           ],
           "sequential": [
            [
             0,
             "#0d0887"
            ],
            [
             0.1111111111111111,
             "#46039f"
            ],
            [
             0.2222222222222222,
             "#7201a8"
            ],
            [
             0.3333333333333333,
             "#9c179e"
            ],
            [
             0.4444444444444444,
             "#bd3786"
            ],
            [
             0.5555555555555556,
             "#d8576b"
            ],
            [
             0.6666666666666666,
             "#ed7953"
            ],
            [
             0.7777777777777778,
             "#fb9f3a"
            ],
            [
             0.8888888888888888,
             "#fdca26"
            ],
            [
             1,
             "#f0f921"
            ]
           ],
           "sequentialminus": [
            [
             0,
             "#0d0887"
            ],
            [
             0.1111111111111111,
             "#46039f"
            ],
            [
             0.2222222222222222,
             "#7201a8"
            ],
            [
             0.3333333333333333,
             "#9c179e"
            ],
            [
             0.4444444444444444,
             "#bd3786"
            ],
            [
             0.5555555555555556,
             "#d8576b"
            ],
            [
             0.6666666666666666,
             "#ed7953"
            ],
            [
             0.7777777777777778,
             "#fb9f3a"
            ],
            [
             0.8888888888888888,
             "#fdca26"
            ],
            [
             1,
             "#f0f921"
            ]
           ]
          },
          "colorway": [
           "#636efa",
           "#EF553B",
           "#00cc96",
           "#ab63fa",
           "#FFA15A",
           "#19d3f3",
           "#FF6692",
           "#B6E880",
           "#FF97FF",
           "#FECB52"
          ],
          "font": {
           "color": "#2a3f5f"
          },
          "geo": {
           "bgcolor": "white",
           "lakecolor": "white",
           "landcolor": "#E5ECF6",
           "showlakes": true,
           "showland": true,
           "subunitcolor": "white"
          },
          "hoverlabel": {
           "align": "left"
          },
          "hovermode": "closest",
          "mapbox": {
           "style": "light"
          },
          "paper_bgcolor": "white",
          "plot_bgcolor": "#E5ECF6",
          "polar": {
           "angularaxis": {
            "gridcolor": "white",
            "linecolor": "white",
            "ticks": ""
           },
           "bgcolor": "#E5ECF6",
           "radialaxis": {
            "gridcolor": "white",
            "linecolor": "white",
            "ticks": ""
           }
          },
          "scene": {
           "xaxis": {
            "backgroundcolor": "#E5ECF6",
            "gridcolor": "white",
            "gridwidth": 2,
            "linecolor": "white",
            "showbackground": true,
            "ticks": "",
            "zerolinecolor": "white"
           },
           "yaxis": {
            "backgroundcolor": "#E5ECF6",
            "gridcolor": "white",
            "gridwidth": 2,
            "linecolor": "white",
            "showbackground": true,
            "ticks": "",
            "zerolinecolor": "white"
           },
           "zaxis": {
            "backgroundcolor": "#E5ECF6",
            "gridcolor": "white",
            "gridwidth": 2,
            "linecolor": "white",
            "showbackground": true,
            "ticks": "",
            "zerolinecolor": "white"
           }
          },
          "shapedefaults": {
           "line": {
            "color": "#2a3f5f"
           }
          },
          "ternary": {
           "aaxis": {
            "gridcolor": "white",
            "linecolor": "white",
            "ticks": ""
           },
           "baxis": {
            "gridcolor": "white",
            "linecolor": "white",
            "ticks": ""
           },
           "bgcolor": "#E5ECF6",
           "caxis": {
            "gridcolor": "white",
            "linecolor": "white",
            "ticks": ""
           }
          },
          "title": {
           "x": 0.05
          },
          "xaxis": {
           "automargin": true,
           "gridcolor": "white",
           "linecolor": "white",
           "ticks": "",
           "title": {
            "standoff": 15
           },
           "zerolinecolor": "white",
           "zerolinewidth": 2
          },
          "yaxis": {
           "automargin": true,
           "gridcolor": "white",
           "linecolor": "white",
           "ticks": "",
           "title": {
            "standoff": 15
           },
           "zerolinecolor": "white",
           "zerolinewidth": 2
          }
         }
        },
        "xaxis": {
         "anchor": "y2",
         "autorange": true,
         "domain": [
          0,
          1
         ],
         "range": [
          4,
          46
         ],
         "type": "linear",
         "zeroline": false
        },
        "yaxis": {
         "anchor": "free",
         "autorange": true,
         "domain": [
          0,
          1
         ],
         "position": 0,
         "range": [
          -0.0033098608565256607,
          0.1180689400450803
         ],
         "type": "linear"
        }
       }
      },
      "image/png": "[encoded data removed]",
      "text/html": [
       "<div>                            <div id=\"7cf0ede6-99b3-4443-9d8f-0be2a2fd4fd0\" class=\"plotly-graph-div\" style=\"height:800px; width:100%;\"></div>            <script type=\"text/javascript\">                require([\"plotly\"], function(Plotly) {                    window.PLOTLYENV=window.PLOTLYENV || {};                                    if (document.getElementById(\"7cf0ede6-99b3-4443-9d8f-0be2a2fd4fd0\")) {                    Plotly.newPlot(                        \"7cf0ede6-99b3-4443-9d8f-0be2a2fd4fd0\",                        [{\"autobinx\":false,\"histnorm\":\"probability density\",\"legendgroup\":\"Isaak's Daily Diaper Output\",\"marker\":{\"color\":\"rgb(31, 119, 180)\"},\"name\":\"Isaak's Daily Diaper Output\",\"opacity\":0.7,\"x\":[24,15,33,45,46,41,42,40,39,37,32,18,40,20,43,17,28,37,35,31,30,41,30,24,34,21,35,24,31,31,35,27,29,41,29,29,19,30,17,31,22,24,32,34,27,25,24,26,23,31,25,34,27,20,35,25,24,27,29,25,23,30,21,17,25,24,29,31,25,27,38,23,17,18,26,26,23,24,20,21,25,22,19,18,25,11,26,31,23,22,21,23,31,18,24,17,17,24,21,24,24,15,10,13,12,10,15,6,4,32,22,23,16,24,24,14,17,30,17,25,16,18,17,21,23,8],\"xaxis\":\"x\",\"xbins\":{\"end\":46.0,\"size\":1.0,\"start\":4.0},\"yaxis\":\"y\",\"type\":\"histogram\"},{\"legendgroup\":\"Isaak's Daily Diaper Output\",\"marker\":{\"color\":\"rgb(31, 119, 180)\"},\"mode\":\"lines\",\"name\":\"Isaak's Daily Diaper Output\",\"showlegend\":false,\"x\":[4.0,4.084,4.168,4.252,4.336,4.42,4.504,4.588,4.672,4.756,4.84,4.924,5.008,5.0920000000000005,5.176,5.26,5.344,5.428,5.5120000000000005,5.596,5.68,5.764,5.848,5.932,6.016,6.1,6.184,6.268,6.352,6.436,6.52,6.604,6.688000000000001,6.772,6.856,6.9399999999999995,7.024,7.1080000000000005,7.192,7.276,7.359999999999999,7.444,7.5280000000000005,7.612,7.696,7.779999999999999,7.864,7.948,8.032,8.116,8.2,8.283999999999999,8.368,8.452,8.536,8.620000000000001,8.704,8.788,8.872,8.956,9.04,9.123999999999999,9.208,9.292,9.376000000000001,9.46,9.544,9.628,9.712,9.796,9.879999999999999,9.964,10.048,10.132,10.216000000000001,10.3,10.384,10.468,10.552,10.636,10.719999999999999,10.804,10.888,10.972000000000001,11.056000000000001,11.14,11.224,11.308,11.392,11.475999999999999,11.559999999999999,11.644,11.728,11.812000000000001,11.896,11.98,12.064,12.148,12.232,12.316,12.4,12.484,12.568,12.652,12.736,12.82,12.904,12.988,13.072,13.156,13.24,13.324,13.408,13.492,13.576,13.66,13.744,13.828,13.912,13.996,14.08,14.164,14.248,14.332,14.416,14.5,14.584,14.668,14.752,14.836,14.92,15.004,15.088,15.172,15.256,15.34,15.424,15.508,15.592,15.676,15.76,15.844,15.928,16.012,16.096,16.18,16.264,16.348,16.432000000000002,16.516,16.6,16.683999999999997,16.768,16.852,16.936,17.02,17.104,17.188000000000002,17.272,17.356,17.439999999999998,17.524,17.608,17.692,17.776,17.86,17.944000000000003,18.028,18.112000000000002,18.195999999999998,18.28,18.364,18.448,18.532,18.616,18.7,18.784,18.868000000000002,18.951999999999998,19.036,19.119999999999997,19.204,19.288,19.372,19.456,19.54,19.624000000000002,19.708,19.792,19.875999999999998,19.96,20.044,20.128,20.212,20.296,20.38,20.464,20.548,20.632,20.716,20.8,20.884,20.968,21.052,21.136,21.22,21.304,21.388,21.472,21.556,21.64,21.724,21.808,21.892,21.976,22.06,22.144,22.228,22.312,22.396,22.48,22.564,22.648,22.732,22.816,22.9,22.984,23.068,23.152,23.236,23.32,23.404,23.488,23.572,23.656,23.74,23.824,23.908,23.992,24.076,24.16,24.244,24.328,24.412,24.496,24.58,24.664,24.748,24.832,24.916,25.0,25.084,25.168,25.252,25.336,25.42,25.504,25.588,25.672,25.756,25.84,25.924,26.008,26.092,26.176,26.26,26.344,26.428,26.512,26.596,26.68,26.764,26.848,26.932,27.016,27.1,27.184,27.268,27.352,27.436,27.52,27.604,27.688,27.772,27.856,27.94,28.024,28.108,28.192,28.276,28.36,28.444,28.528,28.612,28.696,28.78,28.864,28.948,29.032,29.116,29.2,29.284,29.368,29.452,29.536,29.62,29.704,29.788,29.872,29.956,30.04,30.124,30.208,30.292,30.376,30.46,30.544,30.628,30.712,30.796,30.88,30.964,31.048,31.132,31.216,31.3,31.384,31.468,31.552,31.636,31.72,31.804,31.888,31.972,32.056,32.14,32.224000000000004,32.308,32.391999999999996,32.476,32.56,32.644,32.728,32.812,32.896,32.980000000000004,33.064,33.147999999999996,33.232,33.316,33.4,33.484,33.568,33.652,33.736000000000004,33.82,33.903999999999996,33.988,34.072,34.156,34.239999999999995,34.324,34.408,34.492000000000004,34.576,34.66,34.744,34.828,34.912,34.995999999999995,35.08,35.164,35.248000000000005,35.332,35.416,35.5,35.584,35.668,35.751999999999995,35.836,35.92,36.004,36.088,36.172,36.256,36.34,36.424,36.508,36.592,36.676,36.76,36.844,36.928,37.012,37.096,37.18,37.264,37.348,37.432,37.516,37.6,37.684,37.768,37.852,37.936,38.02,38.104,38.188,38.272,38.356,38.44,38.524,38.608,38.692,38.776,38.86,38.944,39.028,39.112,39.196,39.28,39.364,39.448,39.532,39.616,39.7,39.784,39.868,39.952,40.036,40.12,40.204,40.288,40.372,40.456,40.54,40.624,40.708,40.792,40.876,40.96,41.044,41.128,41.212,41.296,41.38,41.464,41.548,41.632,41.716,41.8,41.884,41.968,42.052,42.136,42.22,42.304,42.388,42.472,42.556,42.64,42.724,42.808,42.892,42.976,43.06,43.144,43.228,43.312,43.396,43.48,43.564,43.648,43.732,43.816,43.9,43.984,44.068,44.152,44.236,44.32,44.404,44.488,44.572,44.656,44.74,44.824,44.908,44.992,45.076,45.16,45.244,45.328,45.412,45.496,45.58,45.664,45.748,45.832,45.916],\"xaxis\":\"x\",\"y\":[0.0027590791885546374,0.002815648875870469,0.002872564834987734,0.002929823856784633,0.0029874237089167156,0.003045363154108585,0.0031036419652954303,0.0031622609376965585,0.00322122189792949,0.0032805277102990493,0.0033401822804208572,0.0034001905563626833,0.0034605585275096214,0.003521293221380365,0.003582402698641158,0.0036438960465814446,0.0037057833713305573,0.0037680757891076647,0.0038307854168076047,0.0038939253622328773,0.003957509714286901,0.004021553533445438,0.004086072842821861,0.0041510846201374615,0.004216606790900228,0.004282658223084621,0.004349258723590452,0.004416429036741357,0.004484190845062523,0.0045525667725531275,0.004621580390641781,0.004691256226983057,0.00476161977722009,0.004832697519802493,0.0049045169339107094,0.0049771065204972965,0.005050495826413425,0.00512471547154454,0.0051997971788336605,0.005275773807024198,0.005352679385906708,0.005430549153806381,0.005509419597000186,0.005589328490705399,0.005670314941234598,0.005752419428866891,0.005835683850941581,0.005920151564638555,0.006005867428870826,0.006092877844678107,0.006181230793477377,0.006270975872497225,0.00636216432669729,0.006454849076453517,0.006549084740273991,0.006644927651799108,0.006742435870334598,0.006841669184166105,0.006942689105910322,0.007045558859169969,0.007150343355778715,0.007257109162947101,0.007365924459652433,0.0074768589816534906,0.007589983954556019,0.007705372014405938,0.007823097115345175,0.00794323442392862,0.008065860199770996,0.008191051662267884,0.008318886843216581,0.008449444425248687,0.008582803566077388,0.008719043708657828,0.008858244377457842,0.009000484961138729,0.009145844482050736,0.00929440135305456,0.009446233122288619,0.009601416206610676,0.00976002561455093,0.009922134659721861,0.01008781466573616,0.010257134663787887,0.010430161084152838,0.010606957442960177,0.010787584025679592,0.0109720975688539,0.011160550941686784,0.01135299282916748,0.011549467418478933,0.01175001409049124,0.01195466711818849,0.012163455373913425,0.012376402047339755,0.012593524376096085,0.012814833390968167,0.013040333677596605,0.013270023156564767,0.01350389288373707,0.013741926872659668,0.01398410194077458,0.014230387581123816,0.014480745861133064,0.014735131349963416,0.014993491075806767,0.015255764514374636,0.015521883609692196,0.015791772828159793,0.016065349246684252,0.016342522675510715,0.01662319581620652,0.01690726445505871,0.01719461769195108,0.01748513820458271,0.017778702547681567,0.018075181486653182,0.018374440364888504,0.01867633950373604,0.0189807346339257,0.01928747735701279,0.019596415635195832,0.019907394307649505,0.020220255631307627,0.020534839843830678,0.02085098574630079,0.02116853130300446,0.021487314255491365,0.021807172747939328,0.022127945960708925,0.022449474748841045,0.022771602282136316,0.023094174683357373,0.023417041661016477,0.023740057133151037,0.02406307983844935,0.02438597393107078,0.02470860955550628,0.025030863397849937,0.025352619209898692,0.02567376830256646,0.025994210005190567,0.02631385208742254,0.02663261114053133,0.02695041291510594,0.02726719261232373,0.027582895126150697,0.027897475234061348,0.028210897734104377,0.028523137526397693,0.028834179637410872,0.02914401918568169,0.029452661287917205,0.02976012090474496,0.03006642262570669,0.030371600393420954,0.030675697167184376,0.030978764526627327,0.031280862216389954,0.03158205763313757,0.031882425256580894,0.03218204602651804,0.03248100666825275,0.03277939896908072,0.03307731900885853,0.03337486634798418,0.033672143176416966,0.03396925342764856,0.03426630186180425,0.034563393122298766,0.034860630770699376,0.035158116304649836,0.03545594816389,0.035754220729557896,0.036053023322088394,0.03635243920312091,0.03665254458689916,0.036953407666684236,0.03725508766171442,0.037557633890221584,0.037861084873963925,0.03816546747965015,0.0384707961025159,0.038777071897169314,0.03908428206064477,0.039392399172400894,0.03970138059576242,0.04001116794504532,0.04032168662231422,0.04063284542740677,0.04094453624452222,0.04125663380830926,0.041568995552008076,0.041881461539800824,0.04219385448510836,0.04250597985614028,0.04281762606956212,0.043128564772690586,0.0434385512141667,0.043747324702593744,0.0440546091521561,0.044360113713771125,0.04466353348986009,0.04496455033036576,0.0452628337071935,0.045558041663814504,0.04584982183634001,0.0461378125419681,0.046421643930309564,0.04670093919272928,0.04697531582448885,0.04724438693415444,0.04750776259443391,0.047765051228342785,0.04801586102435795,0.04825980137401607,0.04849648432523931,0.048725526044537115,0.04894654828113122,0.04915917982598613,0.049363057958703875,0.04955782987525007,0.049743154089530756,0.049918701801924266,0.05008415822800048,0.050239223880819965,0.05038361580040644,0.05051706872422004,0.05063933619272891,0.05075019158447965,0.0508494290754006,0.0509368645174389,0.0510123362320221,0.05107570571425664,0.051126858244215236,0.05116570340213242,0.05119217548480533,0.051206233821001056,0.05120786298417903,0.05119707290136093,0.05117389885751182,0.05113840139532756,0.05109066611086111,0.05103080334595267,0.05095894777895877,0.05087525791579537,0.050779915483819785,0.050673124731575314,0.05055511163789676,0.05042612303434048,0.05028642564533643,0.05013630505087392,0.04997606457691818,0.04980602411911212,0.04962651890564057,0.04943789820542683,0.04924052398808869,0.04903476954229855,0.04882101805937787,0.0485996611890962,0.04837109757475412,0.04813573137468843,0.047893970777366984,0.047646226517223354,0.047392910398323725,0.04713443383286822,0.046871206401391766,0.04660363444135947,0.046332119670645815,0.046057057852143986,0.04577883750547445,0.04549783867145912,0.04521443173468787,0.04492897630914402,0.044641820191465245,0.04435329838600911,0.04406373220546193,0.04377342845028305,0.04348267866981978,0.04319175850745399,0.04290092713166619,0.042610426754417445,0.04232048223776407,0.04203130078913763,0.04174307174523997,0.04145596644403101,0.04117013818382295,0.04088572226804317,0.040602836133791766,0.04032157956190082,0.04004203496580411,0.03976426775614865,0.039488326777726845,0.039214244814981404,0.03894203916203558,0.03867171225293133,0.03840325234751724,0.038136634268219546,0.03787182018275154,0.037608760427674054,0.03734739436760442,0.03708765128479578,0.0368294512937602,0.03657270627559488,0.0363173208266908,0.03606319321654926,0.03581021634951217,0.035558278725320754,0.03530726539354966,0.03505705889712912,0.0348075402003488,0.03455858959695067,0.034310087594142794,0.03406191576861741,0.03381395759091882,0.03356609921478702,0.033318230228394134,0.03307024436469158,0.032822040168395065,0.0325735216174497,0.03232459869713483,0.03207518792528658,0.03182521282743551,0.031574604360969316,0.031323301287741766,0.031071250494850253,0.030818407263597705,0.030564735486938773,0.030310207835979288,0.030054805876355967,0.029798520135565776,0.029541350122540857,0.029283304300973676,0.029024400018090413,0.02876466339074287,0.028504129150844888,0.028242840452314254,0.027980848641798794,0.02771821299556072,0.02745500042497425,0.027191285153147785,0.0269271483652261,0.02666267783494862,0.026397967530049474,0.02613311719907059,0.02586823194213899,0.02560342176821466,0.025338801141266517,0.025074488517766048,0.024810605877812607,0.02454727825211945,0.024284633246992718,0.024022800569335846,0.023761911553601935,0.02350209869250461,0.023243495173182138,0.02298623442038779,0.022730449648163346,0.022476273421328262,0.02222383722799996,0.021973271064241347,0.02172470303181796,0.02147825894993444,0.021234061981712234,0.02099223227606969,0.020752886625566198,0.020516138140682136,0.020282095940921133,0.02005086486304062,0.019822545186647354,0.019597232377325753,0.01937501684741105,0.019155983734463908,0.018940212697460743,0.018727777730669148,0.01851874699515055,0.018313182667795757,0.018111140807783234,0.017912671240325025,0.017717817457553603,0.017526616536391013,0.01733909907323167,0.017155289135266982,0.016975204228273193,0.0167988552806826,0.016626246643755498,0.016457376107668516,0.01629223493333225,0.01613080789974895,0.0159730733667151,0.015819003352669794,0.01566856362747902,0.015521713819938417,0.01537840753976183,0.01523859251380806,0.015102210736279964,0.014969198632607041,0.014839487236699053,0.014713002381229662,0.014589664900578989,0.014469390846029648,0.01435209171277609,0.014237674678267446,0.014126042851364947,0.014017095531752264,0.013910728478994484,0.01380683419059681,0.013705302188371005,0.013606019312371327,0.013508870021619795,0.013413736700797204,0.013320499972035101,0.013229039010905573,0.013139231865668401,0.013050955778803556,0.012964087509825112,0.012878503658348204,0.012794080986360222,0.012710696738628402,0.012628228960167047,0.012546556809680432,0.012465560867897551,0.012385123439720822,0.012305128849121867,0.012225463725736293,0.012146017282133638,0.01206668158076758,0.011987351789650047,0.01190792642583416,0.011828307585839444,0.011748401162207232,0.011668117045433397,0.011587369310589235,0.011506076388011632,0.011424161217515721,0.011341551385660106,0.011258179245676257,0.011173982019754265,0.01108890188346451,0.011002886032179308,0.010915886729447748,0.010827861337363276,0.010738772329052463,0.010648587283499633,0.010557278863006706,0.010464824773671638,0.010371207709349609,0.010276415279636573,0.010180439922490889,0.010083278802176078,0.00998493369327337,0.009885410851571668,0.009784720872696856,0.009682878539390092,0.00957990265838678,0.009475815887883118,0.009370644556606553,0.009264418475528047,0.009157170743269334,0.009048937546267493,0.008939757954759991,0.008829673715648934,0.008718729043291016,0.008606970409242107,0.00849444633196082,0.008381207167445124,0.008267304901740808,0.008152792946218755,0.008037725936473412,0.007922159535643155,0.007806150242900853,0.007689755207803338,0.007573032051130145,0.007456038692777034,0.0073388331872063315,0.00722147356688894,0.007104017694106564,0.006986523121414642,0.0068690469609998354,0.006751645763099288,0.006634375403583129,0.006517290980739195,0.006400446721236239,0.006283895895183649,0.006167690740149611,0.006051882393946629,0.005936520835944089,0.005821654836622485,0.005707331915042334,0.005593598303863851,0.005480498921521086,0.0053680773511257315,0.005256375825653243,0.005145435218943747,0.005035295042037831,0.00492599344435592,0.004817567219226438,0.004710051813266054,0.004603481339119417,0.004497888591073164],\"yaxis\":\"y\",\"type\":\"scatter\"}],                        {\"barmode\":\"overlay\",\"hovermode\":\"closest\",\"legend\":{\"traceorder\":\"reversed\"},\"xaxis\":{\"anchor\":\"y2\",\"domain\":[0.0,1.0],\"zeroline\":false},\"yaxis\":{\"anchor\":\"free\",\"domain\":[0.0,1],\"position\":0.0},\"template\":{\"data\":{\"histogram2dcontour\":[{\"type\":\"histogram2dcontour\",\"colorbar\":{\"outlinewidth\":0,\"ticks\":\"\"},\"colorscale\":[[0.0,\"#0d0887\"],[0.1111111111111111,\"#46039f\"],[0.2222222222222222,\"#7201a8\"],[0.3333333333333333,\"#9c179e\"],[0.4444444444444444,\"#bd3786\"],[0.5555555555555556,\"#d8576b\"],[0.6666666666666666,\"#ed7953\"],[0.7777777777777778,\"#fb9f3a\"],[0.8888888888888888,\"#fdca26\"],[1.0,\"#f0f921\"]]}],\"choropleth\":[{\"type\":\"choropleth\",\"colorbar\":{\"outlinewidth\":0,\"ticks\":\"\"}}],\"histogram2d\":[{\"type\":\"histogram2d\",\"colorbar\":{\"outlinewidth\":0,\"ticks\":\"\"},\"colorscale\":[[0.0,\"#0d0887\"],[0.1111111111111111,\"#46039f\"],[0.2222222222222222,\"#7201a8\"],[0.3333333333333333,\"#9c179e\"],[0.4444444444444444,\"#bd3786\"],[0.5555555555555556,\"#d8576b\"],[0.6666666666666666,\"#ed7953\"],[0.7777777777777778,\"#fb9f3a\"],[0.8888888888888888,\"#fdca26\"],[1.0,\"#f0f921\"]]}],\"heatmap\":[{\"type\":\"heatmap\",\"colorbar\":{\"outlinewidth\":0,\"ticks\":\"\"},\"colorscale\":[[0.0,\"#0d0887\"],[0.1111111111111111,\"#46039f\"],[0.2222222222222222,\"#7201a8\"],[0.3333333333333333,\"#9c179e\"],[0.4444444444444444,\"#bd3786\"],[0.5555555555555556,\"#d8576b\"],[0.6666666666666666,\"#ed7953\"],[0.7777777777777778,\"#fb9f3a\"],[0.8888888888888888,\"#fdca26\"],[1.0,\"#f0f921\"]]}],\"heatmapgl\":[{\"type\":\"heatmapgl\",\"colorbar\":{\"outlinewidth\":0,\"ticks\":\"\"},\"colorscale\":[[0.0,\"#0d0887\"],[0.1111111111111111,\"#46039f\"],[0.2222222222222222,\"#7201a8\"],[0.3333333333333333,\"#9c179e\"],[0.4444444444444444,\"#bd3786\"],[0.5555555555555556,\"#d8576b\"],[0.6666666666666666,\"#ed7953\"],[0.7777777777777778,\"#fb9f3a\"],[0.8888888888888888,\"#fdca26\"],[1.0,\"#f0f921\"]]}],\"contourcarpet\":[{\"type\":\"contourcarpet\",\"colorbar\":{\"outlinewidth\":0,\"ticks\":\"\"}}],\"contour\":[{\"type\":\"contour\",\"colorbar\":{\"outlinewidth\":0,\"ticks\":\"\"},\"colorscale\":[[0.0,\"#0d0887\"],[0.1111111111111111,\"#46039f\"],[0.2222222222222222,\"#7201a8\"],[0.3333333333333333,\"#9c179e\"],[0.4444444444444444,\"#bd3786\"],[0.5555555555555556,\"#d8576b\"],[0.6666666666666666,\"#ed7953\"],[0.7777777777777778,\"#fb9f3a\"],[0.8888888888888888,\"#fdca26\"],[1.0,\"#f0f921\"]]}],\"surface\":[{\"type\":\"surface\",\"colorbar\":{\"outlinewidth\":0,\"ticks\":\"\"},\"colorscale\":[[0.0,\"#0d0887\"],[0.1111111111111111,\"#46039f\"],[0.2222222222222222,\"#7201a8\"],[0.3333333333333333,\"#9c179e\"],[0.4444444444444444,\"#bd3786\"],[0.5555555555555556,\"#d8576b\"],[0.6666666666666666,\"#ed7953\"],[0.7777777777777778,\"#fb9f3a\"],[0.8888888888888888,\"#fdca26\"],[1.0,\"#f0f921\"]]}],\"mesh3d\":[{\"type\":\"mesh3d\",\"colorbar\":{\"outlinewidth\":0,\"ticks\":\"\"}}],\"scatter\":[{\"fillpattern\":{\"fillmode\":\"overlay\",\"size\":10,\"solidity\":0.2},\"type\":\"scatter\"}],\"parcoords\":[{\"type\":\"parcoords\",\"line\":{\"colorbar\":{\"outlinewidth\":0,\"ticks\":\"\"}}}],\"scatterpolargl\":[{\"type\":\"scatterpolargl\",\"marker\":{\"colorbar\":{\"outlinewidth\":0,\"ticks\":\"\"}}}],\"bar\":[{\"error_x\":{\"color\":\"#2a3f5f\"},\"error_y\":{\"color\":\"#2a3f5f\"},\"marker\":{\"line\":{\"color\":\"#E5ECF6\",\"width\":0.5},\"pattern\":{\"fillmode\":\"overlay\",\"size\":10,\"solidity\":0.2}},\"type\":\"bar\"}],\"scattergeo\":[{\"type\":\"scattergeo\",\"marker\":{\"colorbar\":{\"outlinewidth\":0,\"ticks\":\"\"}}}],\"scatterpolar\":[{\"type\":\"scatterpolar\",\"marker\":{\"colorbar\":{\"outlinewidth\":0,\"ticks\":\"\"}}}],\"histogram\":[{\"marker\":{\"pattern\":{\"fillmode\":\"overlay\",\"size\":10,\"solidity\":0.2}},\"type\":\"histogram\"}],\"scattergl\":[{\"type\":\"scattergl\",\"marker\":{\"colorbar\":{\"outlinewidth\":0,\"ticks\":\"\"}}}],\"scatter3d\":[{\"type\":\"scatter3d\",\"line\":{\"colorbar\":{\"outlinewidth\":0,\"ticks\":\"\"}},\"marker\":{\"colorbar\":{\"outlinewidth\":0,\"ticks\":\"\"}}}],\"scattermapbox\":[{\"type\":\"scattermapbox\",\"marker\":{\"colorbar\":{\"outlinewidth\":0,\"ticks\":\"\"}}}],\"scatterternary\":[{\"type\":\"scatterternary\",\"marker\":{\"colorbar\":{\"outlinewidth\":0,\"ticks\":\"\"}}}],\"scattercarpet\":[{\"type\":\"scattercarpet\",\"marker\":{\"colorbar\":{\"outlinewidth\":0,\"ticks\":\"\"}}}],\"carpet\":[{\"aaxis\":{\"endlinecolor\":\"#2a3f5f\",\"gridcolor\":\"white\",\"linecolor\":\"white\",\"minorgridcolor\":\"white\",\"startlinecolor\":\"#2a3f5f\"},\"baxis\":{\"endlinecolor\":\"#2a3f5f\",\"gridcolor\":\"white\",\"linecolor\":\"white\",\"minorgridcolor\":\"white\",\"startlinecolor\":\"#2a3f5f\"},\"type\":\"carpet\"}],\"table\":[{\"cells\":{\"fill\":{\"color\":\"#EBF0F8\"},\"line\":{\"color\":\"white\"}},\"header\":{\"fill\":{\"color\":\"#C8D4E3\"},\"line\":{\"color\":\"white\"}},\"type\":\"table\"}],\"barpolar\":[{\"marker\":{\"line\":{\"color\":\"#E5ECF6\",\"width\":0.5},\"pattern\":{\"fillmode\":\"overlay\",\"size\":10,\"solidity\":0.2}},\"type\":\"barpolar\"}],\"pie\":[{\"automargin\":true,\"type\":\"pie\"}]},\"layout\":{\"autotypenumbers\":\"strict\",\"colorway\":[\"#636efa\",\"#EF553B\",\"#00cc96\",\"#ab63fa\",\"#FFA15A\",\"#19d3f3\",\"#FF6692\",\"#B6E880\",\"#FF97FF\",\"#FECB52\"],\"font\":{\"color\":\"#2a3f5f\"},\"hovermode\":\"closest\",\"hoverlabel\":{\"align\":\"left\"},\"paper_bgcolor\":\"white\",\"plot_bgcolor\":\"#E5ECF6\",\"polar\":{\"bgcolor\":\"#E5ECF6\",\"angularaxis\":{\"gridcolor\":\"white\",\"linecolor\":\"white\",\"ticks\":\"\"},\"radialaxis\":{\"gridcolor\":\"white\",\"linecolor\":\"white\",\"ticks\":\"\"}},\"ternary\":{\"bgcolor\":\"#E5ECF6\",\"aaxis\":{\"gridcolor\":\"white\",\"linecolor\":\"white\",\"ticks\":\"\"},\"baxis\":{\"gridcolor\":\"white\",\"linecolor\":\"white\",\"ticks\":\"\"},\"caxis\":{\"gridcolor\":\"white\",\"linecolor\":\"white\",\"ticks\":\"\"}},\"coloraxis\":{\"colorbar\":{\"outlinewidth\":0,\"ticks\":\"\"}},\"colorscale\":{\"sequential\":[[0.0,\"#0d0887\"],[0.1111111111111111,\"#46039f\"],[0.2222222222222222,\"#7201a8\"],[0.3333333333333333,\"#9c179e\"],[0.4444444444444444,\"#bd3786\"],[0.5555555555555556,\"#d8576b\"],[0.6666666666666666,\"#ed7953\"],[0.7777777777777778,\"#fb9f3a\"],[0.8888888888888888,\"#fdca26\"],[1.0,\"#f0f921\"]],\"sequentialminus\":[[0.0,\"#0d0887\"],[0.1111111111111111,\"#46039f\"],[0.2222222222222222,\"#7201a8\"],[0.3333333333333333,\"#9c179e\"],[0.4444444444444444,\"#bd3786\"],[0.5555555555555556,\"#d8576b\"],[0.6666666666666666,\"#ed7953\"],[0.7777777777777778,\"#fb9f3a\"],[0.8888888888888888,\"#fdca26\"],[1.0,\"#f0f921\"]],\"diverging\":[[0,\"#8e0152\"],[0.1,\"#c51b7d\"],[0.2,\"#de77ae\"],[0.3,\"#f1b6da\"],[0.4,\"#fde0ef\"],[0.5,\"#f7f7f7\"],[0.6,\"#e6f5d0\"],[0.7,\"#b8e186\"],[0.8,\"#7fbc41\"],[0.9,\"#4d9221\"],[1,\"#276419\"]]},\"xaxis\":{\"gridcolor\":\"white\",\"linecolor\":\"white\",\"ticks\":\"\",\"title\":{\"standoff\":15},\"zerolinecolor\":\"white\",\"automargin\":true,\"zerolinewidth\":2},\"yaxis\":{\"gridcolor\":\"white\",\"linecolor\":\"white\",\"ticks\":\"\",\"title\":{\"standoff\":15},\"zerolinecolor\":\"white\",\"automargin\":true,\"zerolinewidth\":2},\"scene\":{\"xaxis\":{\"backgroundcolor\":\"#E5ECF6\",\"gridcolor\":\"white\",\"linecolor\":\"white\",\"showbackground\":true,\"ticks\":\"\",\"zerolinecolor\":\"white\",\"gridwidth\":2},\"yaxis\":{\"backgroundcolor\":\"#E5ECF6\",\"gridcolor\":\"white\",\"linecolor\":\"white\",\"showbackground\":true,\"ticks\":\"\",\"zerolinecolor\":\"white\",\"gridwidth\":2},\"zaxis\":{\"backgroundcolor\":\"#E5ECF6\",\"gridcolor\":\"white\",\"linecolor\":\"white\",\"showbackground\":true,\"ticks\":\"\",\"zerolinecolor\":\"white\",\"gridwidth\":2}},\"shapedefaults\":{\"line\":{\"color\":\"#2a3f5f\"}},\"annotationdefaults\":{\"arrowcolor\":\"#2a3f5f\",\"arrowhead\":0,\"arrowwidth\":1},\"geo\":{\"bgcolor\":\"white\",\"landcolor\":\"#E5ECF6\",\"subunitcolor\":\"white\",\"showland\":true,\"showlakes\":true,\"lakecolor\":\"white\"},\"title\":{\"x\":0.05},\"mapbox\":{\"style\":\"light\"}}},\"height\":800},                        {\"responsive\": true}                    ).then(function(){\n",
       "                            \n",
       "var gd = document.getElementById('7cf0ede6-99b3-4443-9d8f-0be2a2fd4fd0');\n",
       "var x = new MutationObserver(function (mutations, observer) {{\n",
       "        var display = window.getComputedStyle(gd).display;\n",
       "        if (!display || display === 'none') {{\n",
       "            console.log([gd, 'removed!']);\n",
       "            Plotly.purge(gd);\n",
       "            observer.disconnect();\n",
       "        }}\n",
       "}});\n",
       "\n",
       "// Listen for the removal of the full notebook cells\n",
       "var notebookContainer = gd.closest('#notebook-container');\n",
       "if (notebookContainer) {{\n",
       "    x.observe(notebookContainer, {childList: true});\n",
       "}}\n",
       "\n",
       "// Listen for the clearing of the current output cell\n",
       "var outputEl = gd.closest('.output');\n",
       "if (outputEl) {{\n",
       "    x.observe(outputEl, {childList: true});\n",
       "}}\n",
       "\n",
       "                        })                };                });            </script>        </div>"
      ]
     },
     "metadata": {},
     "output_type": "display_data"
    }
   ],
   "source": [
    "fig = ff.create_distplot(\n",
    "    [diaper_output[\"diaper_output\"]],\n",
    "    group_labels=[\"Isaak's Daily Diaper Output\"],\n",
    "    show_rug=False,\n",
    ")\n",
    "fig.update_layout(height=800)\n",
    "fig.show()\n",
    "fig.write_html(\"isaak_diapers_encoded_output_distplot.html\")"
   ]
  },
  {
   "cell_type": "markdown",
   "id": "2b88c823-357c-42d5-9615-9f4b890b5e10",
   "metadata": {},
   "source": [
    "Out of curiosity, I wonder if the max \"encoded output\" is the same as the max number of diapers day?"
   ]
  }
 ],
 "metadata": {
  "kernelspec": {
   "display_name": "Python 3 (ipykernel)",
   "language": "python",
   "name": "python3"
  },
  "language_info": {
   "codemirror_mode": {
    "name": "ipython",
    "version": 3
   },
   "file_extension": ".py",
   "mimetype": "text/x-python",
   "name": "python",
   "nbconvert_exporter": "python",
   "pygments_lexer": "ipython3",
   "version": "3.12.3"
  }
 },
 "nbformat": 4,
 "nbformat_minor": 5
}
